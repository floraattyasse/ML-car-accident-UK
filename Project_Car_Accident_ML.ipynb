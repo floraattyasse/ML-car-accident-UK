{
 "cells": [
  {
   "cell_type": "code",
   "execution_count": 1,
   "metadata": {},
   "outputs": [],
   "source": [
    "import pandas as pd\n",
    "import numpy as np\n",
    "import random as rnd\n",
    "import collections\n",
    "import seaborn as sns\n",
    "from sklearn.tree import DecisionTreeClassifier\n",
    "from sklearn.feature_selection import RFE\n",
    "from sklearn.linear_model import LinearRegression\n",
    "from sklearn.model_selection import train_test_split\n",
    "from sklearn.metrics import accuracy_score\n",
    "from sklearn.linear_model import Ridge\n",
    "import statsmodels.formula.api as sm\n",
    "from statsmodels.graphics.mosaicplot import mosaic\n",
    "import matplotlib.pyplot as plt\n",
    "\n",
    "from sklearn.linear_model import LinearRegression\n",
    "from sklearn.model_selection import cross_val_score\n",
    "from sklearn.linear_model import LogisticRegression\n",
    "from sklearn.svm import SVC, LinearSVC\n",
    "from sklearn.ensemble import RandomForestClassifier\n",
    "from sklearn.neighbors import KNeighborsClassifier\n",
    "from sklearn.tree import DecisionTreeClassifier\n",
    "from sklearn.ensemble import GradientBoostingClassifier\n",
    "\n",
    "from sklearn.metrics import roc_auc_score\n",
    "from sklearn.metrics import roc_curve\n",
    "from sklearn.metrics import auc\n",
    "from sklearn.metrics import confusion_matrix"
   ]
  },
  {
   "cell_type": "markdown",
   "metadata": {},
   "source": [
    "## Import the Data "
   ]
  },
  {
   "cell_type": "code",
   "execution_count": 2,
   "metadata": {},
   "outputs": [],
   "source": [
    "Accident = pd.read_csv('/Users/floraattyasse/Desktop/Accident/Acc.csv','rb',delimiter=',',error_bad_lines=False,low_memory=False)\n",
    "Casualties = pd.read_csv('/Users/floraattyasse/Desktop/Accident/Cas.csv','rb',delimiter=',',error_bad_lines=False,low_memory=False)\n",
    "Vehicles = pd.read_csv('/Users/floraattyasse/Desktop/Accident/Veh.csv','rb',delimiter=',',error_bad_lines=False,low_memory=False)\n"
   ]
  },
  {
   "cell_type": "code",
   "execution_count": 3,
   "metadata": {},
   "outputs": [
    {
     "data": {
      "text/plain": [
       "((129982, 32), (170993, 16), (238926, 23))"
      ]
     },
     "execution_count": 3,
     "metadata": {},
     "output_type": "execute_result"
    }
   ],
   "source": [
    "Accident.shape,Casualties.shape,Vehicles.shape"
   ]
  },
  {
   "cell_type": "markdown",
   "metadata": {},
   "source": [
    "Drop useless columns for each Dataset"
   ]
  },
  {
   "cell_type": "code",
   "execution_count": 4,
   "metadata": {},
   "outputs": [],
   "source": [
    "# suppression des colonnes inutile : \n",
    "Accident.drop(['Carriageway_Hazards','Location_Easting_OSGR','Location_Northing_OSGR','Police_Force','Local_Authority_(District)','Local_Authority_(Highway)', '2nd_Road_Class', '2nd_Road_Number', 'Did_Police_Officer_Attend_Scene_of_Accident', 'LSOA_of_Accident_Location','Pedestrian_Crossing-Human_Control','Pedestrian_Crossing-Physical_Facilities','LSOA_of_Accident_Location','Special_Conditions_at_Site','1st_Road_Number'], inplace = True, axis=1)\n",
    "Casualties.drop(['Vehicle_Reference','Casualty_Reference','Age_of_Casualty','Pedestrian_Movement','Bus_or_Coach_Passenger', 'Pedestrian_Road_Maintenance_Worker', 'Casualty_Home_Area_Type','Casualty_IMD_Decile','Car_Passenger','Pedestrian_Location'], inplace = True, axis=1)\n",
    "Vehicles.drop(['Hit_Object_in_Carriageway','Hit_Object_off_Carriageway','Vehicle_Reference','Towing_and_Articulation','Vehicle_Location-Restricted_Lane','Junction_Location','Skidding_and_Overturning', 'Vehicle_Leaving_Carriageway', 'Age_of_Driver','Propulsion_Code','Driver_IMD_Decile', 'Driver_Home_Area_Type','Was_Vehicle_Left_Hand_Drive?','Vehicle_IMD_Decile','Journey_Purpose_of_Driver','Age_of_Vehicle'], inplace = True, axis=1)"
   ]
  },
  {
   "cell_type": "code",
   "execution_count": 5,
   "metadata": {},
   "outputs": [
    {
     "data": {
      "text/plain": [
       "((238926, 7), (129982, 18), (170993, 6))"
      ]
     },
     "execution_count": 5,
     "metadata": {},
     "output_type": "execute_result"
    }
   ],
   "source": [
    "Vehicles.shape, Accident.shape, Casualties.shape"
   ]
  },
  {
   "cell_type": "markdown",
   "metadata": {},
   "source": [
    "Copy of each Dataset"
   ]
  },
  {
   "cell_type": "code",
   "execution_count": 6,
   "metadata": {},
   "outputs": [],
   "source": [
    "Accident1=Accident.copy()\n",
    "Vehicles1=Vehicles.copy()\n",
    "Casualties1=Casualties.copy()"
   ]
  },
  {
   "cell_type": "code",
   "execution_count": 7,
   "metadata": {
    "scrolled": false
   },
   "outputs": [
    {
     "data": {
      "text/html": [
       "<div>\n",
       "<style scoped>\n",
       "    .dataframe tbody tr th:only-of-type {\n",
       "        vertical-align: middle;\n",
       "    }\n",
       "\n",
       "    .dataframe tbody tr th {\n",
       "        vertical-align: top;\n",
       "    }\n",
       "\n",
       "    .dataframe thead th {\n",
       "        text-align: right;\n",
       "    }\n",
       "</style>\n",
       "<table border=\"1\" class=\"dataframe\">\n",
       "  <thead>\n",
       "    <tr style=\"text-align: right;\">\n",
       "      <th></th>\n",
       "      <th>Accident_Index</th>\n",
       "      <th>Longitude</th>\n",
       "      <th>Latitude</th>\n",
       "      <th>Accident_Severity</th>\n",
       "      <th>Number_of_Vehicles</th>\n",
       "      <th>Number_of_Casualties</th>\n",
       "      <th>Date</th>\n",
       "      <th>Day_of_Week</th>\n",
       "      <th>Time</th>\n",
       "      <th>1st_Road_Class</th>\n",
       "      <th>Road_Type</th>\n",
       "      <th>Speed_limit</th>\n",
       "      <th>Junction_Detail</th>\n",
       "      <th>Junction_Control</th>\n",
       "      <th>Light_Conditions</th>\n",
       "      <th>Weather_Conditions</th>\n",
       "      <th>Road_Surface_Conditions</th>\n",
       "      <th>Urban_or_Rural_Area</th>\n",
       "    </tr>\n",
       "  </thead>\n",
       "  <tbody>\n",
       "    <tr>\n",
       "      <th>0</th>\n",
       "      <td>2017010001708</td>\n",
       "      <td>-0.080107</td>\n",
       "      <td>51.650061</td>\n",
       "      <td>1</td>\n",
       "      <td>2</td>\n",
       "      <td>3</td>\n",
       "      <td>05/08/2017</td>\n",
       "      <td>7</td>\n",
       "      <td>03:12</td>\n",
       "      <td>3</td>\n",
       "      <td>6</td>\n",
       "      <td>30</td>\n",
       "      <td>0</td>\n",
       "      <td>-1</td>\n",
       "      <td>4</td>\n",
       "      <td>1</td>\n",
       "      <td>1</td>\n",
       "      <td>1</td>\n",
       "    </tr>\n",
       "    <tr>\n",
       "      <th>1</th>\n",
       "      <td>2017010009342</td>\n",
       "      <td>-0.173845</td>\n",
       "      <td>51.522425</td>\n",
       "      <td>3</td>\n",
       "      <td>2</td>\n",
       "      <td>1</td>\n",
       "      <td>01/01/2017</td>\n",
       "      <td>1</td>\n",
       "      <td>01:30</td>\n",
       "      <td>3</td>\n",
       "      <td>6</td>\n",
       "      <td>30</td>\n",
       "      <td>3</td>\n",
       "      <td>4</td>\n",
       "      <td>4</td>\n",
       "      <td>1</td>\n",
       "      <td>2</td>\n",
       "      <td>1</td>\n",
       "    </tr>\n",
       "    <tr>\n",
       "      <th>2</th>\n",
       "      <td>2017010009344</td>\n",
       "      <td>-0.052969</td>\n",
       "      <td>51.514096</td>\n",
       "      <td>3</td>\n",
       "      <td>3</td>\n",
       "      <td>1</td>\n",
       "      <td>01/01/2017</td>\n",
       "      <td>1</td>\n",
       "      <td>00:30</td>\n",
       "      <td>3</td>\n",
       "      <td>6</td>\n",
       "      <td>30</td>\n",
       "      <td>3</td>\n",
       "      <td>4</td>\n",
       "      <td>4</td>\n",
       "      <td>1</td>\n",
       "      <td>1</td>\n",
       "      <td>1</td>\n",
       "    </tr>\n",
       "    <tr>\n",
       "      <th>3</th>\n",
       "      <td>2017010009348</td>\n",
       "      <td>-0.060658</td>\n",
       "      <td>51.624832</td>\n",
       "      <td>3</td>\n",
       "      <td>2</td>\n",
       "      <td>1</td>\n",
       "      <td>01/01/2017</td>\n",
       "      <td>1</td>\n",
       "      <td>01:11</td>\n",
       "      <td>3</td>\n",
       "      <td>1</td>\n",
       "      <td>30</td>\n",
       "      <td>1</td>\n",
       "      <td>4</td>\n",
       "      <td>4</td>\n",
       "      <td>2</td>\n",
       "      <td>2</td>\n",
       "      <td>1</td>\n",
       "    </tr>\n",
       "    <tr>\n",
       "      <th>4</th>\n",
       "      <td>2017010009350</td>\n",
       "      <td>-0.072372</td>\n",
       "      <td>51.573408</td>\n",
       "      <td>2</td>\n",
       "      <td>1</td>\n",
       "      <td>1</td>\n",
       "      <td>01/01/2017</td>\n",
       "      <td>1</td>\n",
       "      <td>01:42</td>\n",
       "      <td>3</td>\n",
       "      <td>3</td>\n",
       "      <td>20</td>\n",
       "      <td>6</td>\n",
       "      <td>2</td>\n",
       "      <td>4</td>\n",
       "      <td>1</td>\n",
       "      <td>2</td>\n",
       "      <td>1</td>\n",
       "    </tr>\n",
       "  </tbody>\n",
       "</table>\n",
       "</div>"
      ],
      "text/plain": [
       "  Accident_Index  Longitude   Latitude  Accident_Severity  Number_of_Vehicles  \\\n",
       "0  2017010001708  -0.080107  51.650061                  1                   2   \n",
       "1  2017010009342  -0.173845  51.522425                  3                   2   \n",
       "2  2017010009344  -0.052969  51.514096                  3                   3   \n",
       "3  2017010009348  -0.060658  51.624832                  3                   2   \n",
       "4  2017010009350  -0.072372  51.573408                  2                   1   \n",
       "\n",
       "   Number_of_Casualties        Date  Day_of_Week   Time  1st_Road_Class  \\\n",
       "0                     3  05/08/2017            7  03:12               3   \n",
       "1                     1  01/01/2017            1  01:30               3   \n",
       "2                     1  01/01/2017            1  00:30               3   \n",
       "3                     1  01/01/2017            1  01:11               3   \n",
       "4                     1  01/01/2017            1  01:42               3   \n",
       "\n",
       "   Road_Type  Speed_limit  Junction_Detail  Junction_Control  \\\n",
       "0          6           30                0                -1   \n",
       "1          6           30                3                 4   \n",
       "2          6           30                3                 4   \n",
       "3          1           30                1                 4   \n",
       "4          3           20                6                 2   \n",
       "\n",
       "   Light_Conditions  Weather_Conditions  Road_Surface_Conditions  \\\n",
       "0                 4                   1                        1   \n",
       "1                 4                   1                        2   \n",
       "2                 4                   1                        1   \n",
       "3                 4                   2                        2   \n",
       "4                 4                   1                        2   \n",
       "\n",
       "   Urban_or_Rural_Area  \n",
       "0                    1  \n",
       "1                    1  \n",
       "2                    1  \n",
       "3                    1  \n",
       "4                    1  "
      ]
     },
     "execution_count": 7,
     "metadata": {},
     "output_type": "execute_result"
    }
   ],
   "source": [
    "Accident1.head()"
   ]
  },
  {
   "cell_type": "markdown",
   "metadata": {},
   "source": [
    "### NaN Vehicles"
   ]
  },
  {
   "cell_type": "code",
   "execution_count": 8,
   "metadata": {
    "scrolled": false
   },
   "outputs": [
    {
     "name": "stderr",
     "output_type": "stream",
     "text": [
      "/Users/vadimbenichou/anaconda3/lib/python3.6/site-packages/ipykernel_launcher.py:2: SettingWithCopyWarning: \n",
      "A value is trying to be set on a copy of a slice from a DataFrame\n",
      "\n",
      "See the caveats in the documentation: http://pandas.pydata.org/pandas-docs/stable/indexing.html#indexing-view-versus-copy\n",
      "  \n"
     ]
    },
    {
     "data": {
      "text/plain": [
       "Accident_Index              0\n",
       "Vehicle_Type              293\n",
       "Vehicle_Manoeuvre        3957\n",
       "1st_Point_of_Impact      3961\n",
       "Sex_of_Driver               3\n",
       "Age_Band_of_Driver      27774\n",
       "Engine_Capacity_(CC)    53381\n",
       "dtype: int64"
      ]
     },
     "execution_count": 8,
     "metadata": {},
     "output_type": "execute_result"
    }
   ],
   "source": [
    "for i in range(Vehicles1.shape[1]):\n",
    "    Vehicles1.iloc[:,i][Vehicles1.iloc[:,i]== -1]=np.nan\n",
    "pd.isnull(Vehicles1).sum()"
   ]
  },
  {
   "cell_type": "markdown",
   "metadata": {},
   "source": [
    "### NaN Accident"
   ]
  },
  {
   "cell_type": "code",
   "execution_count": 9,
   "metadata": {
    "scrolled": false
   },
   "outputs": [
    {
     "name": "stderr",
     "output_type": "stream",
     "text": [
      "/Users/vadimbenichou/anaconda3/lib/python3.6/site-packages/ipykernel_launcher.py:2: SettingWithCopyWarning: \n",
      "A value is trying to be set on a copy of a slice from a DataFrame\n",
      "\n",
      "See the caveats in the documentation: http://pandas.pydata.org/pandas-docs/stable/indexing.html#indexing-view-versus-copy\n",
      "  \n"
     ]
    },
    {
     "data": {
      "text/plain": [
       "Accident_Index                 0\n",
       "Longitude                     29\n",
       "Latitude                      29\n",
       "Accident_Severity              0\n",
       "Number_of_Vehicles             0\n",
       "Number_of_Casualties           0\n",
       "Date                           0\n",
       "Day_of_Week                    0\n",
       "Time                           3\n",
       "1st_Road_Class                 0\n",
       "Road_Type                      0\n",
       "Speed_limit                    0\n",
       "Junction_Detail              609\n",
       "Junction_Control           56296\n",
       "Light_Conditions               1\n",
       "Weather_Conditions             1\n",
       "Road_Surface_Conditions     1937\n",
       "Urban_or_Rural_Area            0\n",
       "dtype: int64"
      ]
     },
     "execution_count": 9,
     "metadata": {},
     "output_type": "execute_result"
    }
   ],
   "source": [
    "for i in range(Accident1.shape[1]):\n",
    "    Accident1.iloc[:,i][Accident1.iloc[:,i]== -1]=np.nan\n",
    "pd.isnull(Accident1).sum()"
   ]
  },
  {
   "cell_type": "markdown",
   "metadata": {},
   "source": [
    "### NaN Casualties"
   ]
  },
  {
   "cell_type": "code",
   "execution_count": 10,
   "metadata": {},
   "outputs": [
    {
     "name": "stderr",
     "output_type": "stream",
     "text": [
      "/Users/vadimbenichou/anaconda3/lib/python3.6/site-packages/ipykernel_launcher.py:2: SettingWithCopyWarning: \n",
      "A value is trying to be set on a copy of a slice from a DataFrame\n",
      "\n",
      "See the caveats in the documentation: http://pandas.pydata.org/pandas-docs/stable/indexing.html#indexing-view-versus-copy\n",
      "  \n"
     ]
    },
    {
     "data": {
      "text/plain": [
       "Accident_Index             0\n",
       "Casualty_Class             0\n",
       "Sex_of_Casualty           27\n",
       "Age_Band_of_Casualty    2214\n",
       "Casualty_Severity          0\n",
       "Casualty_Type              3\n",
       "dtype: int64"
      ]
     },
     "execution_count": 10,
     "metadata": {},
     "output_type": "execute_result"
    }
   ],
   "source": [
    "for i in range(Casualties1.shape[1]):\n",
    "    Casualties1.iloc[:,i][Casualties1.iloc[:,i]== -1]=np.nan\n",
    "pd.isnull(Casualties1).sum()"
   ]
  },
  {
   "cell_type": "markdown",
   "metadata": {},
   "source": [
    "# MISSING VALUE "
   ]
  },
  {
   "cell_type": "markdown",
   "metadata": {},
   "source": [
    "## Deal with MV on Accident "
   ]
  },
  {
   "cell_type": "code",
   "execution_count": 11,
   "metadata": {},
   "outputs": [
    {
     "data": {
      "text/html": [
       "<div>\n",
       "<style scoped>\n",
       "    .dataframe tbody tr th:only-of-type {\n",
       "        vertical-align: middle;\n",
       "    }\n",
       "\n",
       "    .dataframe tbody tr th {\n",
       "        vertical-align: top;\n",
       "    }\n",
       "\n",
       "    .dataframe thead th {\n",
       "        text-align: right;\n",
       "    }\n",
       "</style>\n",
       "<table border=\"1\" class=\"dataframe\">\n",
       "  <thead>\n",
       "    <tr style=\"text-align: right;\">\n",
       "      <th></th>\n",
       "      <th>Longitude</th>\n",
       "      <th>Latitude</th>\n",
       "      <th>Accident_Severity</th>\n",
       "      <th>Number_of_Vehicles</th>\n",
       "      <th>Number_of_Casualties</th>\n",
       "      <th>Day_of_Week</th>\n",
       "      <th>1st_Road_Class</th>\n",
       "      <th>Road_Type</th>\n",
       "      <th>Speed_limit</th>\n",
       "      <th>Junction_Detail</th>\n",
       "      <th>Junction_Control</th>\n",
       "      <th>Light_Conditions</th>\n",
       "      <th>Weather_Conditions</th>\n",
       "      <th>Road_Surface_Conditions</th>\n",
       "      <th>Urban_or_Rural_Area</th>\n",
       "    </tr>\n",
       "  </thead>\n",
       "  <tbody>\n",
       "    <tr>\n",
       "      <th>Longitude</th>\n",
       "      <td>1.000000</td>\n",
       "      <td>-0.450497</td>\n",
       "      <td>0.030807</td>\n",
       "      <td>0.002942</td>\n",
       "      <td>-0.033973</td>\n",
       "      <td>0.001809</td>\n",
       "      <td>-0.011199</td>\n",
       "      <td>-0.011040</td>\n",
       "      <td>-0.091562</td>\n",
       "      <td>0.035195</td>\n",
       "      <td>-0.052772</td>\n",
       "      <td>0.011359</td>\n",
       "      <td>0.013001</td>\n",
       "      <td>-0.066695</td>\n",
       "      <td>-0.108851</td>\n",
       "    </tr>\n",
       "    <tr>\n",
       "      <th>Latitude</th>\n",
       "      <td>-0.450497</td>\n",
       "      <td>1.000000</td>\n",
       "      <td>-0.037036</td>\n",
       "      <td>-0.013385</td>\n",
       "      <td>0.025229</td>\n",
       "      <td>0.001780</td>\n",
       "      <td>0.011989</td>\n",
       "      <td>0.015843</td>\n",
       "      <td>0.072680</td>\n",
       "      <td>-0.032606</td>\n",
       "      <td>0.022029</td>\n",
       "      <td>0.000373</td>\n",
       "      <td>-0.001463</td>\n",
       "      <td>0.062032</td>\n",
       "      <td>0.043852</td>\n",
       "    </tr>\n",
       "    <tr>\n",
       "      <th>Accident_Severity</th>\n",
       "      <td>0.030807</td>\n",
       "      <td>-0.037036</td>\n",
       "      <td>1.000000</td>\n",
       "      <td>0.070537</td>\n",
       "      <td>-0.064203</td>\n",
       "      <td>0.004874</td>\n",
       "      <td>0.012435</td>\n",
       "      <td>-0.034854</td>\n",
       "      <td>-0.084999</td>\n",
       "      <td>0.041699</td>\n",
       "      <td>-0.036013</td>\n",
       "      <td>-0.047763</td>\n",
       "      <td>0.027329</td>\n",
       "      <td>0.001582</td>\n",
       "      <td>-0.088216</td>\n",
       "    </tr>\n",
       "    <tr>\n",
       "      <th>Number_of_Vehicles</th>\n",
       "      <td>0.002942</td>\n",
       "      <td>-0.013385</td>\n",
       "      <td>0.070537</td>\n",
       "      <td>1.000000</td>\n",
       "      <td>0.230437</td>\n",
       "      <td>0.001799</td>\n",
       "      <td>-0.134439</td>\n",
       "      <td>-0.078128</td>\n",
       "      <td>0.116069</td>\n",
       "      <td>0.030424</td>\n",
       "      <td>0.030234</td>\n",
       "      <td>-0.058077</td>\n",
       "      <td>-0.044562</td>\n",
       "      <td>-0.050295</td>\n",
       "      <td>0.061742</td>\n",
       "    </tr>\n",
       "    <tr>\n",
       "      <th>Number_of_Casualties</th>\n",
       "      <td>-0.033973</td>\n",
       "      <td>0.025229</td>\n",
       "      <td>-0.064203</td>\n",
       "      <td>0.230437</td>\n",
       "      <td>1.000000</td>\n",
       "      <td>-0.004614</td>\n",
       "      <td>-0.091666</td>\n",
       "      <td>-0.019528</td>\n",
       "      <td>0.168135</td>\n",
       "      <td>-0.013588</td>\n",
       "      <td>-0.017159</td>\n",
       "      <td>0.030328</td>\n",
       "      <td>-0.028235</td>\n",
       "      <td>0.019018</td>\n",
       "      <td>0.134392</td>\n",
       "    </tr>\n",
       "    <tr>\n",
       "      <th>Day_of_Week</th>\n",
       "      <td>0.001809</td>\n",
       "      <td>0.001780</td>\n",
       "      <td>0.004874</td>\n",
       "      <td>0.001799</td>\n",
       "      <td>-0.004614</td>\n",
       "      <td>1.000000</td>\n",
       "      <td>0.006166</td>\n",
       "      <td>0.003267</td>\n",
       "      <td>-0.019189</td>\n",
       "      <td>0.009554</td>\n",
       "      <td>-0.003281</td>\n",
       "      <td>0.004704</td>\n",
       "      <td>-0.000749</td>\n",
       "      <td>-0.004497</td>\n",
       "      <td>-0.019556</td>\n",
       "    </tr>\n",
       "    <tr>\n",
       "      <th>1st_Road_Class</th>\n",
       "      <td>-0.011199</td>\n",
       "      <td>0.011989</td>\n",
       "      <td>0.012435</td>\n",
       "      <td>-0.134439</td>\n",
       "      <td>-0.091666</td>\n",
       "      <td>0.006166</td>\n",
       "      <td>1.000000</td>\n",
       "      <td>0.280135</td>\n",
       "      <td>-0.367660</td>\n",
       "      <td>0.020660</td>\n",
       "      <td>0.206697</td>\n",
       "      <td>-0.036023</td>\n",
       "      <td>0.016807</td>\n",
       "      <td>0.003425</td>\n",
       "      <td>-0.204966</td>\n",
       "    </tr>\n",
       "    <tr>\n",
       "      <th>Road_Type</th>\n",
       "      <td>-0.011040</td>\n",
       "      <td>0.015843</td>\n",
       "      <td>-0.034854</td>\n",
       "      <td>-0.078128</td>\n",
       "      <td>-0.019528</td>\n",
       "      <td>0.003267</td>\n",
       "      <td>0.280135</td>\n",
       "      <td>1.000000</td>\n",
       "      <td>-0.180619</td>\n",
       "      <td>0.100080</td>\n",
       "      <td>0.076867</td>\n",
       "      <td>-0.008205</td>\n",
       "      <td>0.069692</td>\n",
       "      <td>0.011376</td>\n",
       "      <td>-0.038801</td>\n",
       "    </tr>\n",
       "    <tr>\n",
       "      <th>Speed_limit</th>\n",
       "      <td>-0.091562</td>\n",
       "      <td>0.072680</td>\n",
       "      <td>-0.084999</td>\n",
       "      <td>0.116069</td>\n",
       "      <td>0.168135</td>\n",
       "      <td>-0.019189</td>\n",
       "      <td>-0.367660</td>\n",
       "      <td>-0.180619</td>\n",
       "      <td>1.000000</td>\n",
       "      <td>-0.230174</td>\n",
       "      <td>0.098844</td>\n",
       "      <td>0.076109</td>\n",
       "      <td>-0.023390</td>\n",
       "      <td>0.106521</td>\n",
       "      <td>0.674813</td>\n",
       "    </tr>\n",
       "    <tr>\n",
       "      <th>Junction_Detail</th>\n",
       "      <td>0.035195</td>\n",
       "      <td>-0.032606</td>\n",
       "      <td>0.041699</td>\n",
       "      <td>0.030424</td>\n",
       "      <td>-0.013588</td>\n",
       "      <td>0.009554</td>\n",
       "      <td>0.020660</td>\n",
       "      <td>0.100080</td>\n",
       "      <td>-0.230174</td>\n",
       "      <td>1.000000</td>\n",
       "      <td>-0.181261</td>\n",
       "      <td>-0.032750</td>\n",
       "      <td>-0.009439</td>\n",
       "      <td>-0.047089</td>\n",
       "      <td>-0.220055</td>\n",
       "    </tr>\n",
       "    <tr>\n",
       "      <th>Junction_Control</th>\n",
       "      <td>-0.052772</td>\n",
       "      <td>0.022029</td>\n",
       "      <td>-0.036013</td>\n",
       "      <td>0.030234</td>\n",
       "      <td>-0.017159</td>\n",
       "      <td>-0.003281</td>\n",
       "      <td>0.206697</td>\n",
       "      <td>0.076867</td>\n",
       "      <td>0.098844</td>\n",
       "      <td>-0.181261</td>\n",
       "      <td>1.000000</td>\n",
       "      <td>-0.040779</td>\n",
       "      <td>-0.008876</td>\n",
       "      <td>0.014452</td>\n",
       "      <td>0.150968</td>\n",
       "    </tr>\n",
       "    <tr>\n",
       "      <th>Light_Conditions</th>\n",
       "      <td>0.011359</td>\n",
       "      <td>0.000373</td>\n",
       "      <td>-0.047763</td>\n",
       "      <td>-0.058077</td>\n",
       "      <td>0.030328</td>\n",
       "      <td>0.004704</td>\n",
       "      <td>-0.036023</td>\n",
       "      <td>-0.008205</td>\n",
       "      <td>0.076109</td>\n",
       "      <td>-0.032750</td>\n",
       "      <td>-0.040779</td>\n",
       "      <td>1.000000</td>\n",
       "      <td>0.094660</td>\n",
       "      <td>0.194702</td>\n",
       "      <td>0.048184</td>\n",
       "    </tr>\n",
       "    <tr>\n",
       "      <th>Weather_Conditions</th>\n",
       "      <td>0.013001</td>\n",
       "      <td>-0.001463</td>\n",
       "      <td>0.027329</td>\n",
       "      <td>-0.044562</td>\n",
       "      <td>-0.028235</td>\n",
       "      <td>-0.000749</td>\n",
       "      <td>0.016807</td>\n",
       "      <td>0.069692</td>\n",
       "      <td>-0.023390</td>\n",
       "      <td>-0.009439</td>\n",
       "      <td>-0.008876</td>\n",
       "      <td>0.094660</td>\n",
       "      <td>1.000000</td>\n",
       "      <td>0.239650</td>\n",
       "      <td>-0.026201</td>\n",
       "    </tr>\n",
       "    <tr>\n",
       "      <th>Road_Surface_Conditions</th>\n",
       "      <td>-0.066695</td>\n",
       "      <td>0.062032</td>\n",
       "      <td>0.001582</td>\n",
       "      <td>-0.050295</td>\n",
       "      <td>0.019018</td>\n",
       "      <td>-0.004497</td>\n",
       "      <td>0.003425</td>\n",
       "      <td>0.011376</td>\n",
       "      <td>0.106521</td>\n",
       "      <td>-0.047089</td>\n",
       "      <td>0.014452</td>\n",
       "      <td>0.194702</td>\n",
       "      <td>0.239650</td>\n",
       "      <td>1.000000</td>\n",
       "      <td>0.106328</td>\n",
       "    </tr>\n",
       "    <tr>\n",
       "      <th>Urban_or_Rural_Area</th>\n",
       "      <td>-0.108851</td>\n",
       "      <td>0.043852</td>\n",
       "      <td>-0.088216</td>\n",
       "      <td>0.061742</td>\n",
       "      <td>0.134392</td>\n",
       "      <td>-0.019556</td>\n",
       "      <td>-0.204966</td>\n",
       "      <td>-0.038801</td>\n",
       "      <td>0.674813</td>\n",
       "      <td>-0.220055</td>\n",
       "      <td>0.150968</td>\n",
       "      <td>0.048184</td>\n",
       "      <td>-0.026201</td>\n",
       "      <td>0.106328</td>\n",
       "      <td>1.000000</td>\n",
       "    </tr>\n",
       "  </tbody>\n",
       "</table>\n",
       "</div>"
      ],
      "text/plain": [
       "                         Longitude  Latitude  Accident_Severity  \\\n",
       "Longitude                 1.000000 -0.450497           0.030807   \n",
       "Latitude                 -0.450497  1.000000          -0.037036   \n",
       "Accident_Severity         0.030807 -0.037036           1.000000   \n",
       "Number_of_Vehicles        0.002942 -0.013385           0.070537   \n",
       "Number_of_Casualties     -0.033973  0.025229          -0.064203   \n",
       "Day_of_Week               0.001809  0.001780           0.004874   \n",
       "1st_Road_Class           -0.011199  0.011989           0.012435   \n",
       "Road_Type                -0.011040  0.015843          -0.034854   \n",
       "Speed_limit              -0.091562  0.072680          -0.084999   \n",
       "Junction_Detail           0.035195 -0.032606           0.041699   \n",
       "Junction_Control         -0.052772  0.022029          -0.036013   \n",
       "Light_Conditions          0.011359  0.000373          -0.047763   \n",
       "Weather_Conditions        0.013001 -0.001463           0.027329   \n",
       "Road_Surface_Conditions  -0.066695  0.062032           0.001582   \n",
       "Urban_or_Rural_Area      -0.108851  0.043852          -0.088216   \n",
       "\n",
       "                         Number_of_Vehicles  Number_of_Casualties  \\\n",
       "Longitude                          0.002942             -0.033973   \n",
       "Latitude                          -0.013385              0.025229   \n",
       "Accident_Severity                  0.070537             -0.064203   \n",
       "Number_of_Vehicles                 1.000000              0.230437   \n",
       "Number_of_Casualties               0.230437              1.000000   \n",
       "Day_of_Week                        0.001799             -0.004614   \n",
       "1st_Road_Class                    -0.134439             -0.091666   \n",
       "Road_Type                         -0.078128             -0.019528   \n",
       "Speed_limit                        0.116069              0.168135   \n",
       "Junction_Detail                    0.030424             -0.013588   \n",
       "Junction_Control                   0.030234             -0.017159   \n",
       "Light_Conditions                  -0.058077              0.030328   \n",
       "Weather_Conditions                -0.044562             -0.028235   \n",
       "Road_Surface_Conditions           -0.050295              0.019018   \n",
       "Urban_or_Rural_Area                0.061742              0.134392   \n",
       "\n",
       "                         Day_of_Week  1st_Road_Class  Road_Type  Speed_limit  \\\n",
       "Longitude                   0.001809       -0.011199  -0.011040    -0.091562   \n",
       "Latitude                    0.001780        0.011989   0.015843     0.072680   \n",
       "Accident_Severity           0.004874        0.012435  -0.034854    -0.084999   \n",
       "Number_of_Vehicles          0.001799       -0.134439  -0.078128     0.116069   \n",
       "Number_of_Casualties       -0.004614       -0.091666  -0.019528     0.168135   \n",
       "Day_of_Week                 1.000000        0.006166   0.003267    -0.019189   \n",
       "1st_Road_Class              0.006166        1.000000   0.280135    -0.367660   \n",
       "Road_Type                   0.003267        0.280135   1.000000    -0.180619   \n",
       "Speed_limit                -0.019189       -0.367660  -0.180619     1.000000   \n",
       "Junction_Detail             0.009554        0.020660   0.100080    -0.230174   \n",
       "Junction_Control           -0.003281        0.206697   0.076867     0.098844   \n",
       "Light_Conditions            0.004704       -0.036023  -0.008205     0.076109   \n",
       "Weather_Conditions         -0.000749        0.016807   0.069692    -0.023390   \n",
       "Road_Surface_Conditions    -0.004497        0.003425   0.011376     0.106521   \n",
       "Urban_or_Rural_Area        -0.019556       -0.204966  -0.038801     0.674813   \n",
       "\n",
       "                         Junction_Detail  Junction_Control  Light_Conditions  \\\n",
       "Longitude                       0.035195         -0.052772          0.011359   \n",
       "Latitude                       -0.032606          0.022029          0.000373   \n",
       "Accident_Severity               0.041699         -0.036013         -0.047763   \n",
       "Number_of_Vehicles              0.030424          0.030234         -0.058077   \n",
       "Number_of_Casualties           -0.013588         -0.017159          0.030328   \n",
       "Day_of_Week                     0.009554         -0.003281          0.004704   \n",
       "1st_Road_Class                  0.020660          0.206697         -0.036023   \n",
       "Road_Type                       0.100080          0.076867         -0.008205   \n",
       "Speed_limit                    -0.230174          0.098844          0.076109   \n",
       "Junction_Detail                 1.000000         -0.181261         -0.032750   \n",
       "Junction_Control               -0.181261          1.000000         -0.040779   \n",
       "Light_Conditions               -0.032750         -0.040779          1.000000   \n",
       "Weather_Conditions             -0.009439         -0.008876          0.094660   \n",
       "Road_Surface_Conditions        -0.047089          0.014452          0.194702   \n",
       "Urban_or_Rural_Area            -0.220055          0.150968          0.048184   \n",
       "\n",
       "                         Weather_Conditions  Road_Surface_Conditions  \\\n",
       "Longitude                          0.013001                -0.066695   \n",
       "Latitude                          -0.001463                 0.062032   \n",
       "Accident_Severity                  0.027329                 0.001582   \n",
       "Number_of_Vehicles                -0.044562                -0.050295   \n",
       "Number_of_Casualties              -0.028235                 0.019018   \n",
       "Day_of_Week                       -0.000749                -0.004497   \n",
       "1st_Road_Class                     0.016807                 0.003425   \n",
       "Road_Type                          0.069692                 0.011376   \n",
       "Speed_limit                       -0.023390                 0.106521   \n",
       "Junction_Detail                   -0.009439                -0.047089   \n",
       "Junction_Control                  -0.008876                 0.014452   \n",
       "Light_Conditions                   0.094660                 0.194702   \n",
       "Weather_Conditions                 1.000000                 0.239650   \n",
       "Road_Surface_Conditions            0.239650                 1.000000   \n",
       "Urban_or_Rural_Area               -0.026201                 0.106328   \n",
       "\n",
       "                         Urban_or_Rural_Area  \n",
       "Longitude                          -0.108851  \n",
       "Latitude                            0.043852  \n",
       "Accident_Severity                  -0.088216  \n",
       "Number_of_Vehicles                  0.061742  \n",
       "Number_of_Casualties                0.134392  \n",
       "Day_of_Week                        -0.019556  \n",
       "1st_Road_Class                     -0.204966  \n",
       "Road_Type                          -0.038801  \n",
       "Speed_limit                         0.674813  \n",
       "Junction_Detail                    -0.220055  \n",
       "Junction_Control                    0.150968  \n",
       "Light_Conditions                    0.048184  \n",
       "Weather_Conditions                 -0.026201  \n",
       "Road_Surface_Conditions             0.106328  \n",
       "Urban_or_Rural_Area                 1.000000  "
      ]
     },
     "execution_count": 11,
     "metadata": {},
     "output_type": "execute_result"
    }
   ],
   "source": [
    "# Correlation Matrice for Accident1\n",
    "Accident1.corr()"
   ]
  },
  {
   "cell_type": "code",
   "execution_count": 12,
   "metadata": {
    "scrolled": true
   },
   "outputs": [
    {
     "data": {
      "text/plain": [
       "Accident_Index                 0\n",
       "Longitude                     29\n",
       "Latitude                      29\n",
       "Accident_Severity              0\n",
       "Number_of_Vehicles             0\n",
       "Number_of_Casualties           0\n",
       "Date                           0\n",
       "Day_of_Week                    0\n",
       "Time                           3\n",
       "1st_Road_Class                 0\n",
       "Road_Type                      0\n",
       "Speed_limit                    0\n",
       "Junction_Detail              609\n",
       "Junction_Control           56296\n",
       "Light_Conditions               1\n",
       "Weather_Conditions             1\n",
       "Road_Surface_Conditions     1937\n",
       "Urban_or_Rural_Area            0\n",
       "dtype: int64"
      ]
     },
     "execution_count": 12,
     "metadata": {},
     "output_type": "execute_result"
    }
   ],
   "source": [
    "pd.isnull(Accident1).sum()"
   ]
  },
  {
   "cell_type": "markdown",
   "metadata": {},
   "source": [
    "#### Too many missing values in Junction_control. Junction_Detail = 0 correspond to the Junction_control's Missing values"
   ]
  },
  {
   "cell_type": "code",
   "execution_count": 13,
   "metadata": {},
   "outputs": [
    {
     "data": {
      "text/html": [
       "<div>\n",
       "<style scoped>\n",
       "    .dataframe tbody tr th:only-of-type {\n",
       "        vertical-align: middle;\n",
       "    }\n",
       "\n",
       "    .dataframe tbody tr th {\n",
       "        vertical-align: top;\n",
       "    }\n",
       "\n",
       "    .dataframe thead th {\n",
       "        text-align: right;\n",
       "    }\n",
       "</style>\n",
       "<table border=\"1\" class=\"dataframe\">\n",
       "  <thead>\n",
       "    <tr style=\"text-align: right;\">\n",
       "      <th></th>\n",
       "      <th>Accident_Index</th>\n",
       "      <th>Longitude</th>\n",
       "      <th>Latitude</th>\n",
       "      <th>Accident_Severity</th>\n",
       "      <th>Number_of_Vehicles</th>\n",
       "      <th>Number_of_Casualties</th>\n",
       "      <th>Date</th>\n",
       "      <th>Day_of_Week</th>\n",
       "      <th>Time</th>\n",
       "      <th>1st_Road_Class</th>\n",
       "      <th>Road_Type</th>\n",
       "      <th>Speed_limit</th>\n",
       "      <th>Junction_Detail</th>\n",
       "      <th>Junction_Control</th>\n",
       "      <th>Light_Conditions</th>\n",
       "      <th>Weather_Conditions</th>\n",
       "      <th>Road_Surface_Conditions</th>\n",
       "      <th>Urban_or_Rural_Area</th>\n",
       "    </tr>\n",
       "  </thead>\n",
       "  <tbody>\n",
       "    <tr>\n",
       "      <th>0</th>\n",
       "      <td>2017010001708</td>\n",
       "      <td>-0.080107</td>\n",
       "      <td>51.650061</td>\n",
       "      <td>1</td>\n",
       "      <td>2</td>\n",
       "      <td>3</td>\n",
       "      <td>05/08/2017</td>\n",
       "      <td>7</td>\n",
       "      <td>03:12</td>\n",
       "      <td>3</td>\n",
       "      <td>6</td>\n",
       "      <td>30</td>\n",
       "      <td>0.0</td>\n",
       "      <td>NaN</td>\n",
       "      <td>4.0</td>\n",
       "      <td>1.0</td>\n",
       "      <td>1.0</td>\n",
       "      <td>1</td>\n",
       "    </tr>\n",
       "    <tr>\n",
       "      <th>5</th>\n",
       "      <td>2017010009351</td>\n",
       "      <td>-0.353876</td>\n",
       "      <td>51.438762</td>\n",
       "      <td>3</td>\n",
       "      <td>2</td>\n",
       "      <td>1</td>\n",
       "      <td>01/01/2017</td>\n",
       "      <td>1</td>\n",
       "      <td>03:31</td>\n",
       "      <td>6</td>\n",
       "      <td>6</td>\n",
       "      <td>30</td>\n",
       "      <td>0.0</td>\n",
       "      <td>NaN</td>\n",
       "      <td>4.0</td>\n",
       "      <td>1.0</td>\n",
       "      <td>2.0</td>\n",
       "      <td>1</td>\n",
       "    </tr>\n",
       "    <tr>\n",
       "      <th>7</th>\n",
       "      <td>2017010009354</td>\n",
       "      <td>-0.158150</td>\n",
       "      <td>51.522000</td>\n",
       "      <td>3</td>\n",
       "      <td>2</td>\n",
       "      <td>1</td>\n",
       "      <td>01/01/2017</td>\n",
       "      <td>1</td>\n",
       "      <td>05:20</td>\n",
       "      <td>3</td>\n",
       "      <td>3</td>\n",
       "      <td>30</td>\n",
       "      <td>0.0</td>\n",
       "      <td>NaN</td>\n",
       "      <td>4.0</td>\n",
       "      <td>2.0</td>\n",
       "      <td>2.0</td>\n",
       "      <td>1</td>\n",
       "    </tr>\n",
       "    <tr>\n",
       "      <th>11</th>\n",
       "      <td>2017010009362</td>\n",
       "      <td>-0.367663</td>\n",
       "      <td>51.548392</td>\n",
       "      <td>3</td>\n",
       "      <td>1</td>\n",
       "      <td>1</td>\n",
       "      <td>01/01/2017</td>\n",
       "      <td>1</td>\n",
       "      <td>06:55</td>\n",
       "      <td>3</td>\n",
       "      <td>6</td>\n",
       "      <td>30</td>\n",
       "      <td>0.0</td>\n",
       "      <td>NaN</td>\n",
       "      <td>4.0</td>\n",
       "      <td>1.0</td>\n",
       "      <td>2.0</td>\n",
       "      <td>1</td>\n",
       "    </tr>\n",
       "    <tr>\n",
       "      <th>13</th>\n",
       "      <td>2017010009364</td>\n",
       "      <td>-0.124965</td>\n",
       "      <td>51.529748</td>\n",
       "      <td>2</td>\n",
       "      <td>2</td>\n",
       "      <td>1</td>\n",
       "      <td>01/01/2017</td>\n",
       "      <td>1</td>\n",
       "      <td>08:15</td>\n",
       "      <td>3</td>\n",
       "      <td>3</td>\n",
       "      <td>30</td>\n",
       "      <td>0.0</td>\n",
       "      <td>NaN</td>\n",
       "      <td>1.0</td>\n",
       "      <td>2.0</td>\n",
       "      <td>2.0</td>\n",
       "      <td>1</td>\n",
       "    </tr>\n",
       "  </tbody>\n",
       "</table>\n",
       "</div>"
      ],
      "text/plain": [
       "   Accident_Index  Longitude   Latitude  Accident_Severity  \\\n",
       "0   2017010001708  -0.080107  51.650061                  1   \n",
       "5   2017010009351  -0.353876  51.438762                  3   \n",
       "7   2017010009354  -0.158150  51.522000                  3   \n",
       "11  2017010009362  -0.367663  51.548392                  3   \n",
       "13  2017010009364  -0.124965  51.529748                  2   \n",
       "\n",
       "    Number_of_Vehicles  Number_of_Casualties        Date  Day_of_Week   Time  \\\n",
       "0                    2                     3  05/08/2017            7  03:12   \n",
       "5                    2                     1  01/01/2017            1  03:31   \n",
       "7                    2                     1  01/01/2017            1  05:20   \n",
       "11                   1                     1  01/01/2017            1  06:55   \n",
       "13                   2                     1  01/01/2017            1  08:15   \n",
       "\n",
       "    1st_Road_Class  Road_Type  Speed_limit  Junction_Detail  Junction_Control  \\\n",
       "0                3          6           30              0.0               NaN   \n",
       "5                6          6           30              0.0               NaN   \n",
       "7                3          3           30              0.0               NaN   \n",
       "11               3          6           30              0.0               NaN   \n",
       "13               3          3           30              0.0               NaN   \n",
       "\n",
       "    Light_Conditions  Weather_Conditions  Road_Surface_Conditions  \\\n",
       "0                4.0                 1.0                      1.0   \n",
       "5                4.0                 1.0                      2.0   \n",
       "7                4.0                 2.0                      2.0   \n",
       "11               4.0                 1.0                      2.0   \n",
       "13               1.0                 2.0                      2.0   \n",
       "\n",
       "    Urban_or_Rural_Area  \n",
       "0                     1  \n",
       "5                     1  \n",
       "7                     1  \n",
       "11                    1  \n",
       "13                    1  "
      ]
     },
     "execution_count": 13,
     "metadata": {},
     "output_type": "execute_result"
    }
   ],
   "source": [
    "Accident1[Accident1['Junction_Control'].isnull()].head()"
   ]
  },
  {
   "cell_type": "code",
   "execution_count": 14,
   "metadata": {},
   "outputs": [
    {
     "data": {
      "text/plain": [
       "0.0    54278\n",
       "3.0    38902\n",
       "6.0    12352\n",
       "1.0    10751\n",
       "9.0     4710\n",
       "8.0     3264\n",
       "5.0     2048\n",
       "7.0     1567\n",
       "2.0     1501\n",
       "Name: Junction_Detail, dtype: int64"
      ]
     },
     "execution_count": 14,
     "metadata": {},
     "output_type": "execute_result"
    }
   ],
   "source": [
    "Accident1['Junction_Detail'].value_counts()"
   ]
  },
  {
   "cell_type": "code",
   "execution_count": 15,
   "metadata": {},
   "outputs": [
    {
     "name": "stderr",
     "output_type": "stream",
     "text": [
      "/Users/vadimbenichou/anaconda3/lib/python3.6/site-packages/pandas/core/indexing.py:189: SettingWithCopyWarning: \n",
      "A value is trying to be set on a copy of a slice from a DataFrame\n",
      "\n",
      "See the caveats in the documentation: http://pandas.pydata.org/pandas-docs/stable/indexing.html#indexing-view-versus-copy\n",
      "  self._setitem_with_indexer(indexer, value)\n"
     ]
    }
   ],
   "source": [
    "Accident1['Junction_Control'].loc[Accident1['Junction_Detail'] == 0] = 0"
   ]
  },
  {
   "cell_type": "markdown",
   "metadata": {},
   "source": [
    "We drop the others missing values"
   ]
  },
  {
   "cell_type": "code",
   "execution_count": 16,
   "metadata": {},
   "outputs": [],
   "source": [
    "Accident1=Accident1.dropna(subset=['Junction_Control']) "
   ]
  },
  {
   "cell_type": "code",
   "execution_count": 17,
   "metadata": {},
   "outputs": [
    {
     "data": {
      "text/plain": [
       "Accident_Index                0\n",
       "Longitude                    28\n",
       "Latitude                     28\n",
       "Accident_Severity             0\n",
       "Number_of_Vehicles            0\n",
       "Number_of_Casualties          0\n",
       "Date                          0\n",
       "Day_of_Week                   0\n",
       "Time                          3\n",
       "1st_Road_Class                0\n",
       "Road_Type                     0\n",
       "Speed_limit                   0\n",
       "Junction_Detail              46\n",
       "Junction_Control              0\n",
       "Light_Conditions              1\n",
       "Weather_Conditions            1\n",
       "Road_Surface_Conditions    1129\n",
       "Urban_or_Rural_Area           0\n",
       "dtype: int64"
      ]
     },
     "execution_count": 17,
     "metadata": {},
     "output_type": "execute_result"
    }
   ],
   "source": [
    "pd.isnull(Accident1).sum()"
   ]
  },
  {
   "cell_type": "markdown",
   "metadata": {},
   "source": [
    "#### Longitude & Latitude "
   ]
  },
  {
   "cell_type": "code",
   "execution_count": 18,
   "metadata": {},
   "outputs": [
    {
     "data": {
      "text/plain": [
       "0"
      ]
     },
     "execution_count": 18,
     "metadata": {},
     "output_type": "execute_result"
    }
   ],
   "source": [
    "Accident1=Accident1.dropna(subset=['Longitude']) \n",
    "pd.isnull(Accident1['Longitude']).sum()"
   ]
  },
  {
   "cell_type": "code",
   "execution_count": 19,
   "metadata": {
    "scrolled": false
   },
   "outputs": [
    {
     "data": {
      "text/html": [
       "<div>\n",
       "<style scoped>\n",
       "    .dataframe tbody tr th:only-of-type {\n",
       "        vertical-align: middle;\n",
       "    }\n",
       "\n",
       "    .dataframe tbody tr th {\n",
       "        vertical-align: top;\n",
       "    }\n",
       "\n",
       "    .dataframe thead th {\n",
       "        text-align: right;\n",
       "    }\n",
       "</style>\n",
       "<table border=\"1\" class=\"dataframe\">\n",
       "  <thead>\n",
       "    <tr style=\"text-align: right;\">\n",
       "      <th></th>\n",
       "      <th>Accident_Index</th>\n",
       "      <th>Longitude</th>\n",
       "      <th>Latitude</th>\n",
       "      <th>Accident_Severity</th>\n",
       "      <th>Number_of_Vehicles</th>\n",
       "      <th>Number_of_Casualties</th>\n",
       "      <th>Date</th>\n",
       "      <th>Day_of_Week</th>\n",
       "      <th>Time</th>\n",
       "      <th>1st_Road_Class</th>\n",
       "      <th>Road_Type</th>\n",
       "      <th>Speed_limit</th>\n",
       "      <th>Junction_Detail</th>\n",
       "      <th>Junction_Control</th>\n",
       "      <th>Light_Conditions</th>\n",
       "      <th>Weather_Conditions</th>\n",
       "      <th>Road_Surface_Conditions</th>\n",
       "      <th>Urban_or_Rural_Area</th>\n",
       "    </tr>\n",
       "  </thead>\n",
       "  <tbody>\n",
       "    <tr>\n",
       "      <th>0</th>\n",
       "      <td>2017010001708</td>\n",
       "      <td>-0.080107</td>\n",
       "      <td>51.650061</td>\n",
       "      <td>1</td>\n",
       "      <td>2</td>\n",
       "      <td>3</td>\n",
       "      <td>05/08/2017</td>\n",
       "      <td>7</td>\n",
       "      <td>03:12</td>\n",
       "      <td>3</td>\n",
       "      <td>6</td>\n",
       "      <td>30</td>\n",
       "      <td>0.0</td>\n",
       "      <td>0.0</td>\n",
       "      <td>4.0</td>\n",
       "      <td>1.0</td>\n",
       "      <td>1.0</td>\n",
       "      <td>1</td>\n",
       "    </tr>\n",
       "    <tr>\n",
       "      <th>1</th>\n",
       "      <td>2017010009342</td>\n",
       "      <td>-0.173845</td>\n",
       "      <td>51.522425</td>\n",
       "      <td>3</td>\n",
       "      <td>2</td>\n",
       "      <td>1</td>\n",
       "      <td>01/01/2017</td>\n",
       "      <td>1</td>\n",
       "      <td>01:30</td>\n",
       "      <td>3</td>\n",
       "      <td>6</td>\n",
       "      <td>30</td>\n",
       "      <td>3.0</td>\n",
       "      <td>4.0</td>\n",
       "      <td>4.0</td>\n",
       "      <td>1.0</td>\n",
       "      <td>2.0</td>\n",
       "      <td>1</td>\n",
       "    </tr>\n",
       "    <tr>\n",
       "      <th>2</th>\n",
       "      <td>2017010009344</td>\n",
       "      <td>-0.052969</td>\n",
       "      <td>51.514096</td>\n",
       "      <td>3</td>\n",
       "      <td>3</td>\n",
       "      <td>1</td>\n",
       "      <td>01/01/2017</td>\n",
       "      <td>1</td>\n",
       "      <td>00:30</td>\n",
       "      <td>3</td>\n",
       "      <td>6</td>\n",
       "      <td>30</td>\n",
       "      <td>3.0</td>\n",
       "      <td>4.0</td>\n",
       "      <td>4.0</td>\n",
       "      <td>1.0</td>\n",
       "      <td>1.0</td>\n",
       "      <td>1</td>\n",
       "    </tr>\n",
       "    <tr>\n",
       "      <th>3</th>\n",
       "      <td>2017010009348</td>\n",
       "      <td>-0.060658</td>\n",
       "      <td>51.624832</td>\n",
       "      <td>3</td>\n",
       "      <td>2</td>\n",
       "      <td>1</td>\n",
       "      <td>01/01/2017</td>\n",
       "      <td>1</td>\n",
       "      <td>01:11</td>\n",
       "      <td>3</td>\n",
       "      <td>1</td>\n",
       "      <td>30</td>\n",
       "      <td>1.0</td>\n",
       "      <td>4.0</td>\n",
       "      <td>4.0</td>\n",
       "      <td>2.0</td>\n",
       "      <td>2.0</td>\n",
       "      <td>1</td>\n",
       "    </tr>\n",
       "    <tr>\n",
       "      <th>4</th>\n",
       "      <td>2017010009350</td>\n",
       "      <td>-0.072372</td>\n",
       "      <td>51.573408</td>\n",
       "      <td>2</td>\n",
       "      <td>1</td>\n",
       "      <td>1</td>\n",
       "      <td>01/01/2017</td>\n",
       "      <td>1</td>\n",
       "      <td>01:42</td>\n",
       "      <td>3</td>\n",
       "      <td>3</td>\n",
       "      <td>20</td>\n",
       "      <td>6.0</td>\n",
       "      <td>2.0</td>\n",
       "      <td>4.0</td>\n",
       "      <td>1.0</td>\n",
       "      <td>2.0</td>\n",
       "      <td>1</td>\n",
       "    </tr>\n",
       "  </tbody>\n",
       "</table>\n",
       "</div>"
      ],
      "text/plain": [
       "  Accident_Index  Longitude   Latitude  Accident_Severity  Number_of_Vehicles  \\\n",
       "0  2017010001708  -0.080107  51.650061                  1                   2   \n",
       "1  2017010009342  -0.173845  51.522425                  3                   2   \n",
       "2  2017010009344  -0.052969  51.514096                  3                   3   \n",
       "3  2017010009348  -0.060658  51.624832                  3                   2   \n",
       "4  2017010009350  -0.072372  51.573408                  2                   1   \n",
       "\n",
       "   Number_of_Casualties        Date  Day_of_Week   Time  1st_Road_Class  \\\n",
       "0                     3  05/08/2017            7  03:12               3   \n",
       "1                     1  01/01/2017            1  01:30               3   \n",
       "2                     1  01/01/2017            1  00:30               3   \n",
       "3                     1  01/01/2017            1  01:11               3   \n",
       "4                     1  01/01/2017            1  01:42               3   \n",
       "\n",
       "   Road_Type  Speed_limit  Junction_Detail  Junction_Control  \\\n",
       "0          6           30              0.0               0.0   \n",
       "1          6           30              3.0               4.0   \n",
       "2          6           30              3.0               4.0   \n",
       "3          1           30              1.0               4.0   \n",
       "4          3           20              6.0               2.0   \n",
       "\n",
       "   Light_Conditions  Weather_Conditions  Road_Surface_Conditions  \\\n",
       "0               4.0                 1.0                      1.0   \n",
       "1               4.0                 1.0                      2.0   \n",
       "2               4.0                 1.0                      1.0   \n",
       "3               4.0                 2.0                      2.0   \n",
       "4               4.0                 1.0                      2.0   \n",
       "\n",
       "   Urban_or_Rural_Area  \n",
       "0                    1  \n",
       "1                    1  \n",
       "2                    1  \n",
       "3                    1  \n",
       "4                    1  "
      ]
     },
     "execution_count": 19,
     "metadata": {},
     "output_type": "execute_result"
    }
   ],
   "source": [
    "Accident1.head()"
   ]
  },
  {
   "cell_type": "markdown",
   "metadata": {},
   "source": [
    "#### TIME : drop the raws with  missing values"
   ]
  },
  {
   "cell_type": "code",
   "execution_count": 20,
   "metadata": {},
   "outputs": [
    {
     "data": {
      "text/plain": [
       "0"
      ]
     },
     "execution_count": 20,
     "metadata": {},
     "output_type": "execute_result"
    }
   ],
   "source": [
    "## TIME ## \n",
    "Accident1=Accident1.dropna(subset=['Time']) \n",
    "pd.isnull(Accident1['Time']).sum()"
   ]
  },
  {
   "cell_type": "markdown",
   "metadata": {},
   "source": [
    "We only keep hours to discretize "
   ]
  },
  {
   "cell_type": "code",
   "execution_count": 21,
   "metadata": {
    "scrolled": true
   },
   "outputs": [],
   "source": [
    "Accident1['Time']=Accident1['Time'].str.split(\":\",expand=True)[0]\n",
    "Accident1['Time'] = Accident1['Time'].astype(np.int64)"
   ]
  },
  {
   "cell_type": "markdown",
   "metadata": {},
   "source": [
    "Discretize Time(h): [6,12)=0, [12,18)=1, [18,22)=2, [22,6)=3\n",
    "\n",
    "\n",
    "0 from 6 to noon, 1 from noon to 18, 2 from 18 to 22, 3 from 22 to 6"
   ]
  },
  {
   "cell_type": "code",
   "execution_count": 22,
   "metadata": {
    "scrolled": true
   },
   "outputs": [],
   "source": [
    "Accident1['Time'] = ['0' if element >=6 and element <12 else '1' if element >=12 and element <18 else '2' if element >=18 and element <22 else '3' for element in Accident1['Time']]\n",
    "#we discretize : 0 from 6 to noon, 1 from noon to 18, 2 from 18 to 22, 3 from 22 to 6"
   ]
  },
  {
   "cell_type": "code",
   "execution_count": 23,
   "metadata": {},
   "outputs": [
    {
     "data": {
      "text/html": [
       "<div>\n",
       "<style scoped>\n",
       "    .dataframe tbody tr th:only-of-type {\n",
       "        vertical-align: middle;\n",
       "    }\n",
       "\n",
       "    .dataframe tbody tr th {\n",
       "        vertical-align: top;\n",
       "    }\n",
       "\n",
       "    .dataframe thead th {\n",
       "        text-align: right;\n",
       "    }\n",
       "</style>\n",
       "<table border=\"1\" class=\"dataframe\">\n",
       "  <thead>\n",
       "    <tr style=\"text-align: right;\">\n",
       "      <th></th>\n",
       "      <th>Accident_Index</th>\n",
       "      <th>Longitude</th>\n",
       "      <th>Latitude</th>\n",
       "      <th>Accident_Severity</th>\n",
       "      <th>Number_of_Vehicles</th>\n",
       "      <th>Number_of_Casualties</th>\n",
       "      <th>Date</th>\n",
       "      <th>Day_of_Week</th>\n",
       "      <th>Time</th>\n",
       "      <th>1st_Road_Class</th>\n",
       "      <th>Road_Type</th>\n",
       "      <th>Speed_limit</th>\n",
       "      <th>Junction_Detail</th>\n",
       "      <th>Junction_Control</th>\n",
       "      <th>Light_Conditions</th>\n",
       "      <th>Weather_Conditions</th>\n",
       "      <th>Road_Surface_Conditions</th>\n",
       "      <th>Urban_or_Rural_Area</th>\n",
       "    </tr>\n",
       "  </thead>\n",
       "  <tbody>\n",
       "    <tr>\n",
       "      <th>0</th>\n",
       "      <td>2017010001708</td>\n",
       "      <td>-0.080107</td>\n",
       "      <td>51.650061</td>\n",
       "      <td>1</td>\n",
       "      <td>2</td>\n",
       "      <td>3</td>\n",
       "      <td>05/08/2017</td>\n",
       "      <td>7</td>\n",
       "      <td>3</td>\n",
       "      <td>3</td>\n",
       "      <td>6</td>\n",
       "      <td>30</td>\n",
       "      <td>0.0</td>\n",
       "      <td>0.0</td>\n",
       "      <td>4.0</td>\n",
       "      <td>1.0</td>\n",
       "      <td>1.0</td>\n",
       "      <td>1</td>\n",
       "    </tr>\n",
       "    <tr>\n",
       "      <th>1</th>\n",
       "      <td>2017010009342</td>\n",
       "      <td>-0.173845</td>\n",
       "      <td>51.522425</td>\n",
       "      <td>3</td>\n",
       "      <td>2</td>\n",
       "      <td>1</td>\n",
       "      <td>01/01/2017</td>\n",
       "      <td>1</td>\n",
       "      <td>3</td>\n",
       "      <td>3</td>\n",
       "      <td>6</td>\n",
       "      <td>30</td>\n",
       "      <td>3.0</td>\n",
       "      <td>4.0</td>\n",
       "      <td>4.0</td>\n",
       "      <td>1.0</td>\n",
       "      <td>2.0</td>\n",
       "      <td>1</td>\n",
       "    </tr>\n",
       "    <tr>\n",
       "      <th>2</th>\n",
       "      <td>2017010009344</td>\n",
       "      <td>-0.052969</td>\n",
       "      <td>51.514096</td>\n",
       "      <td>3</td>\n",
       "      <td>3</td>\n",
       "      <td>1</td>\n",
       "      <td>01/01/2017</td>\n",
       "      <td>1</td>\n",
       "      <td>3</td>\n",
       "      <td>3</td>\n",
       "      <td>6</td>\n",
       "      <td>30</td>\n",
       "      <td>3.0</td>\n",
       "      <td>4.0</td>\n",
       "      <td>4.0</td>\n",
       "      <td>1.0</td>\n",
       "      <td>1.0</td>\n",
       "      <td>1</td>\n",
       "    </tr>\n",
       "    <tr>\n",
       "      <th>3</th>\n",
       "      <td>2017010009348</td>\n",
       "      <td>-0.060658</td>\n",
       "      <td>51.624832</td>\n",
       "      <td>3</td>\n",
       "      <td>2</td>\n",
       "      <td>1</td>\n",
       "      <td>01/01/2017</td>\n",
       "      <td>1</td>\n",
       "      <td>3</td>\n",
       "      <td>3</td>\n",
       "      <td>1</td>\n",
       "      <td>30</td>\n",
       "      <td>1.0</td>\n",
       "      <td>4.0</td>\n",
       "      <td>4.0</td>\n",
       "      <td>2.0</td>\n",
       "      <td>2.0</td>\n",
       "      <td>1</td>\n",
       "    </tr>\n",
       "    <tr>\n",
       "      <th>4</th>\n",
       "      <td>2017010009350</td>\n",
       "      <td>-0.072372</td>\n",
       "      <td>51.573408</td>\n",
       "      <td>2</td>\n",
       "      <td>1</td>\n",
       "      <td>1</td>\n",
       "      <td>01/01/2017</td>\n",
       "      <td>1</td>\n",
       "      <td>3</td>\n",
       "      <td>3</td>\n",
       "      <td>3</td>\n",
       "      <td>20</td>\n",
       "      <td>6.0</td>\n",
       "      <td>2.0</td>\n",
       "      <td>4.0</td>\n",
       "      <td>1.0</td>\n",
       "      <td>2.0</td>\n",
       "      <td>1</td>\n",
       "    </tr>\n",
       "  </tbody>\n",
       "</table>\n",
       "</div>"
      ],
      "text/plain": [
       "  Accident_Index  Longitude   Latitude  Accident_Severity  Number_of_Vehicles  \\\n",
       "0  2017010001708  -0.080107  51.650061                  1                   2   \n",
       "1  2017010009342  -0.173845  51.522425                  3                   2   \n",
       "2  2017010009344  -0.052969  51.514096                  3                   3   \n",
       "3  2017010009348  -0.060658  51.624832                  3                   2   \n",
       "4  2017010009350  -0.072372  51.573408                  2                   1   \n",
       "\n",
       "   Number_of_Casualties        Date  Day_of_Week Time  1st_Road_Class  \\\n",
       "0                     3  05/08/2017            7    3               3   \n",
       "1                     1  01/01/2017            1    3               3   \n",
       "2                     1  01/01/2017            1    3               3   \n",
       "3                     1  01/01/2017            1    3               3   \n",
       "4                     1  01/01/2017            1    3               3   \n",
       "\n",
       "   Road_Type  Speed_limit  Junction_Detail  Junction_Control  \\\n",
       "0          6           30              0.0               0.0   \n",
       "1          6           30              3.0               4.0   \n",
       "2          6           30              3.0               4.0   \n",
       "3          1           30              1.0               4.0   \n",
       "4          3           20              6.0               2.0   \n",
       "\n",
       "   Light_Conditions  Weather_Conditions  Road_Surface_Conditions  \\\n",
       "0               4.0                 1.0                      1.0   \n",
       "1               4.0                 1.0                      2.0   \n",
       "2               4.0                 1.0                      1.0   \n",
       "3               4.0                 2.0                      2.0   \n",
       "4               4.0                 1.0                      2.0   \n",
       "\n",
       "   Urban_or_Rural_Area  \n",
       "0                    1  \n",
       "1                    1  \n",
       "2                    1  \n",
       "3                    1  \n",
       "4                    1  "
      ]
     },
     "execution_count": 23,
     "metadata": {},
     "output_type": "execute_result"
    }
   ],
   "source": [
    "Accident1.head()"
   ]
  },
  {
   "cell_type": "markdown",
   "metadata": {},
   "source": [
    "#### Junction_Control, drop the rows with missing values"
   ]
  },
  {
   "cell_type": "code",
   "execution_count": 24,
   "metadata": {},
   "outputs": [
    {
     "data": {
      "text/plain": [
       "0"
      ]
     },
     "execution_count": 24,
     "metadata": {},
     "output_type": "execute_result"
    }
   ],
   "source": [
    "Accident1=Accident1.dropna(subset=['Junction_Control'])\n",
    "pd.isnull(Accident1['Junction_Control']).sum()"
   ]
  },
  {
   "cell_type": "markdown",
   "metadata": {},
   "source": [
    "#### Light_Condtions, only 1 missing value same as Weather_conditions so we drop it"
   ]
  },
  {
   "cell_type": "code",
   "execution_count": 25,
   "metadata": {},
   "outputs": [],
   "source": [
    "Accident1=Accident1.dropna(subset=['Light_Conditions'])"
   ]
  },
  {
   "cell_type": "markdown",
   "metadata": {},
   "source": [
    "#### Junction_Detail: Decision Tree"
   ]
  },
  {
   "cell_type": "code",
   "execution_count": 26,
   "metadata": {
    "scrolled": true
   },
   "outputs": [
    {
     "data": {
      "text/plain": [
       "Accident_Index                0\n",
       "Longitude                     0\n",
       "Latitude                      0\n",
       "Accident_Severity             0\n",
       "Number_of_Vehicles            0\n",
       "Number_of_Casualties          0\n",
       "Date                          0\n",
       "Day_of_Week                   0\n",
       "Time                          0\n",
       "1st_Road_Class                0\n",
       "Road_Type                     0\n",
       "Speed_limit                   0\n",
       "Junction_Detail              46\n",
       "Junction_Control              0\n",
       "Light_Conditions              0\n",
       "Weather_Conditions            0\n",
       "Road_Surface_Conditions    1126\n",
       "Urban_or_Rural_Area           0\n",
       "dtype: int64"
      ]
     },
     "execution_count": 26,
     "metadata": {},
     "output_type": "execute_result"
    }
   ],
   "source": [
    "pd.isnull(Accident1).sum()"
   ]
  },
  {
   "cell_type": "code",
   "execution_count": 27,
   "metadata": {},
   "outputs": [],
   "source": [
    "Accident1bis=Accident1.copy()\n",
    "Accident1bis.drop(['Date','Accident_Index','Road_Surface_Conditions'], inplace = True, axis=1)"
   ]
  },
  {
   "cell_type": "code",
   "execution_count": 28,
   "metadata": {},
   "outputs": [],
   "source": [
    "#we keep all instances having missing values and we drop 'Junction_Detail'\n",
    "Accident3=Accident1bis[Accident1bis['Junction_Detail'].isnull()]\n",
    "Accident3 = Accident3.drop(['Junction_Detail'],axis=1) "
   ]
  },
  {
   "cell_type": "code",
   "execution_count": 29,
   "metadata": {},
   "outputs": [],
   "source": [
    "Accident2=Accident1bis.dropna(subset=['Junction_Detail'])\n",
    "y=Accident2['Junction_Detail'] #only keep non null Junction_Detail"
   ]
  },
  {
   "cell_type": "code",
   "execution_count": 30,
   "metadata": {
    "scrolled": true
   },
   "outputs": [
    {
     "data": {
      "text/plain": [
       "((127867, 14), (127867,), (46, 14))"
      ]
     },
     "execution_count": 30,
     "metadata": {},
     "output_type": "execute_result"
    }
   ],
   "source": [
    "Accident2=Accident2.drop(['Junction_Detail'],axis=1)\n",
    "Accident2.shape,y.shape,Accident3.shape"
   ]
  },
  {
   "cell_type": "markdown",
   "metadata": {},
   "source": []
  },
  {
   "cell_type": "code",
   "execution_count": 31,
   "metadata": {},
   "outputs": [
    {
     "name": "stdout",
     "output_type": "stream",
     "text": [
      "79.32\n"
     ]
    }
   ],
   "source": [
    "X_training,X_validation,Y_training,Y_validation = train_test_split(Accident2,y, test_size = 0.2, random_state = 21)\n",
    "\n",
    "clf = DecisionTreeClassifier(max_depth=13)\n",
    "clf.fit(X_training,Y_training)\n",
    "y_pred = clf.predict(X_validation)\n",
    "\n",
    "y_pred = y_pred.tolist()\n",
    "acc_DecTree = round(accuracy_score(y_pred, Y_validation) * 100, 2)\n",
    "print(acc_DecTree)"
   ]
  },
  {
   "cell_type": "markdown",
   "metadata": {},
   "source": [
    "Accuracy of the decision Tree > 75% we can use it "
   ]
  },
  {
   "cell_type": "code",
   "execution_count": 32,
   "metadata": {},
   "outputs": [],
   "source": [
    "clf = DecisionTreeClassifier(max_depth=13)\n",
    "clf.fit(Accident2,y )\n",
    "\n",
    "y_pred = clf.predict(Accident3)\n",
    "\n",
    "y_pred = y_pred.tolist()\n",
    "\n",
    "for x in y_pred:\n",
    "    Accident1['Junction_Detail'] = Accident1bis['Junction_Detail'].fillna(x)\n"
   ]
  },
  {
   "cell_type": "markdown",
   "metadata": {},
   "source": [
    "#### Weather_Conditions ( 9 is MV)  &  Road_Surface_Conditions MV are linked with weather, we drop the rows with MV for Road then for the other we make a Decision Tree"
   ]
  },
  {
   "cell_type": "code",
   "execution_count": 33,
   "metadata": {},
   "outputs": [
    {
     "data": {
      "text/plain": [
       "1.0    103668\n",
       "2.0     14139\n",
       "9.0      3823\n",
       "8.0      2611\n",
       "4.0      1226\n",
       "5.0      1099\n",
       "3.0       631\n",
       "7.0       617\n",
       "6.0        99\n",
       "Name: Weather_Conditions, dtype: int64"
      ]
     },
     "execution_count": 33,
     "metadata": {},
     "output_type": "execute_result"
    }
   ],
   "source": [
    "Accident1['Weather_Conditions'].value_counts()"
   ]
  },
  {
   "cell_type": "code",
   "execution_count": 34,
   "metadata": {},
   "outputs": [
    {
     "name": "stderr",
     "output_type": "stream",
     "text": [
      "/Users/vadimbenichou/anaconda3/lib/python3.6/site-packages/pandas/core/indexing.py:189: SettingWithCopyWarning: \n",
      "A value is trying to be set on a copy of a slice from a DataFrame\n",
      "\n",
      "See the caveats in the documentation: http://pandas.pydata.org/pandas-docs/stable/indexing.html#indexing-view-versus-copy\n",
      "  self._setitem_with_indexer(indexer, value)\n"
     ]
    },
    {
     "data": {
      "text/plain": [
       "3823"
      ]
     },
     "execution_count": 34,
     "metadata": {},
     "output_type": "execute_result"
    }
   ],
   "source": [
    "Accident1['Weather_Conditions'].loc[Accident1['Weather_Conditions'] == 9] = np.nan\n",
    "pd.isnull(Accident1['Weather_Conditions']).sum()"
   ]
  },
  {
   "cell_type": "code",
   "execution_count": 35,
   "metadata": {
    "scrolled": true
   },
   "outputs": [
    {
     "data": {
      "text/plain": [
       "0"
      ]
     },
     "execution_count": 35,
     "metadata": {},
     "output_type": "execute_result"
    }
   ],
   "source": [
    "Accident1=Accident1.dropna(subset=['Road_Surface_Conditions'])\n",
    "pd.isnull(Accident1['Road_Surface_Conditions']).sum()"
   ]
  },
  {
   "cell_type": "code",
   "execution_count": 36,
   "metadata": {},
   "outputs": [
    {
     "data": {
      "text/plain": [
       "2973"
      ]
     },
     "execution_count": 36,
     "metadata": {},
     "output_type": "execute_result"
    }
   ],
   "source": [
    "pd.isnull(Accident1['Weather_Conditions']).sum()"
   ]
  },
  {
   "cell_type": "markdown",
   "metadata": {},
   "source": [
    "We delete the rows with MV for Road_Surface_Conditions because there were MV for both (Weather et Road), then we can make a decision tree for Weather\n",
    "\n",
    "Then we make the Decision Tree"
   ]
  },
  {
   "cell_type": "code",
   "execution_count": 37,
   "metadata": {},
   "outputs": [],
   "source": [
    "Accident1bis=Accident1.copy()\n",
    "Accident1bis.drop(['Date','Accident_Index','Road_Surface_Conditions'], inplace = True, axis=1)\n",
    "Accident3=Accident1bis[Accident1bis['Weather_Conditions'].isnull()] \n",
    "Accident3 = Accident3.drop(['Weather_Conditions'],axis=1) \n"
   ]
  },
  {
   "cell_type": "code",
   "execution_count": 38,
   "metadata": {},
   "outputs": [],
   "source": [
    "Accident2=Accident1bis.dropna(subset=['Weather_Conditions'])\n",
    "y=Accident2['Weather_Conditions']\n",
    "Accident2=Accident2.drop(['Weather_Conditions'],axis=1)"
   ]
  },
  {
   "cell_type": "code",
   "execution_count": 39,
   "metadata": {
    "scrolled": true
   },
   "outputs": [
    {
     "name": "stdout",
     "output_type": "stream",
     "text": [
      "81.87\n"
     ]
    }
   ],
   "source": [
    "X_training,X_validation,Y_training,Y_validation = train_test_split(Accident2,y, test_size = 0.2, random_state = 21)\n",
    "\n",
    "clf = DecisionTreeClassifier(max_depth=13)\n",
    "clf.fit(X_training,Y_training)\n",
    "y_pred = clf.predict(X_validation)\n",
    "\n",
    "y_pred = y_pred.tolist()\n",
    "acc_DecTree = round(accuracy_score(y_pred, Y_validation) * 100, 2)\n",
    "print(acc_DecTree)"
   ]
  },
  {
   "cell_type": "markdown",
   "metadata": {},
   "source": [
    "Accuracy > 75% we can use the decision tree"
   ]
  },
  {
   "cell_type": "code",
   "execution_count": 40,
   "metadata": {},
   "outputs": [
    {
     "data": {
      "text/plain": [
       "0"
      ]
     },
     "execution_count": 40,
     "metadata": {},
     "output_type": "execute_result"
    }
   ],
   "source": [
    "clf = DecisionTreeClassifier(max_depth=13)\n",
    "clf.fit(Accident2,y )\n",
    "\n",
    "y_pred = clf.predict(Accident3)\n",
    "\n",
    "y_pred = y_pred.tolist()\n",
    "\n",
    "for x in y_pred:\n",
    "    Accident1['Weather_Conditions'] = Accident1['Weather_Conditions'].fillna(x)\n",
    "\n",
    "pd.isnull(Accident1['Weather_Conditions']).sum()"
   ]
  },
  {
   "cell_type": "markdown",
   "metadata": {},
   "source": [
    "#### Light_Conditions : 7 is MV, we use the mode() according to Time, Urban_or_Rural_Area and Road_Type"
   ]
  },
  {
   "cell_type": "code",
   "execution_count": 41,
   "metadata": {},
   "outputs": [
    {
     "name": "stderr",
     "output_type": "stream",
     "text": [
      "/Users/vadimbenichou/anaconda3/lib/python3.6/site-packages/ipykernel_launcher.py:1: SettingWithCopyWarning: \n",
      "A value is trying to be set on a copy of a slice from a DataFrame\n",
      "\n",
      "See the caveats in the documentation: http://pandas.pydata.org/pandas-docs/stable/indexing.html#indexing-view-versus-copy\n",
      "  \"\"\"Entry point for launching an IPython kernel.\n"
     ]
    }
   ],
   "source": [
    "Accident1['Light_Conditions'][Accident1['Light_Conditions']== 7]=np.nan"
   ]
  },
  {
   "cell_type": "markdown",
   "metadata": {},
   "source": [
    "We make the decision tree"
   ]
  },
  {
   "cell_type": "code",
   "execution_count": 42,
   "metadata": {},
   "outputs": [],
   "source": [
    "Accident1bis=Accident1.copy()\n",
    "Accident1bis.drop(['Date','Accident_Index'], inplace = True, axis=1)"
   ]
  },
  {
   "cell_type": "code",
   "execution_count": 43,
   "metadata": {},
   "outputs": [],
   "source": [
    "Accident3=Accident1bis[Accident1bis['Light_Conditions'].isnull()] \n",
    "Accident3 = Accident3.drop(['Light_Conditions'],axis=1)"
   ]
  },
  {
   "cell_type": "code",
   "execution_count": 44,
   "metadata": {},
   "outputs": [],
   "source": [
    "Accident2=Accident1bis.dropna(subset=['Light_Conditions'])\n",
    "y=Accident2['Light_Conditions']\n",
    "Accident2=Accident2.drop(['Light_Conditions'],axis=1)"
   ]
  },
  {
   "cell_type": "code",
   "execution_count": 45,
   "metadata": {},
   "outputs": [
    {
     "name": "stdout",
     "output_type": "stream",
     "text": [
      "82.91\n"
     ]
    }
   ],
   "source": [
    "X_training,X_validation,Y_training,Y_validation = train_test_split(Accident2,y, test_size = 0.2, random_state = 21)\n",
    "\n",
    "clf = DecisionTreeClassifier(max_depth=13)\n",
    "clf.fit(X_training,Y_training)\n",
    "y_pred = clf.predict(X_validation)\n",
    "\n",
    "y_pred = y_pred.tolist()\n",
    "acc_DecTree = round(accuracy_score(y_pred, Y_validation) * 100, 2)\n",
    "print(acc_DecTree)"
   ]
  },
  {
   "cell_type": "markdown",
   "metadata": {},
   "source": [
    "Accuracy > 75%, we can use the decision tree"
   ]
  },
  {
   "cell_type": "code",
   "execution_count": 46,
   "metadata": {},
   "outputs": [],
   "source": [
    "clf = DecisionTreeClassifier(max_depth=13)\n",
    "clf.fit(Accident2,y )\n",
    "\n",
    "y_pred = clf.predict(Accident3)\n",
    "\n",
    "y_pred = y_pred.tolist()\n",
    "\n",
    "for x in y_pred:\n",
    "    Accident1['Light_Conditions'] = Accident1['Light_Conditions'].fillna(x)"
   ]
  },
  {
   "cell_type": "code",
   "execution_count": 47,
   "metadata": {},
   "outputs": [
    {
     "data": {
      "text/plain": [
       "Accident_Index             0\n",
       "Longitude                  0\n",
       "Latitude                   0\n",
       "Accident_Severity          0\n",
       "Number_of_Vehicles         0\n",
       "Number_of_Casualties       0\n",
       "Date                       0\n",
       "Day_of_Week                0\n",
       "Time                       0\n",
       "1st_Road_Class             0\n",
       "Road_Type                  0\n",
       "Speed_limit                0\n",
       "Junction_Detail            0\n",
       "Junction_Control           0\n",
       "Light_Conditions           0\n",
       "Weather_Conditions         0\n",
       "Road_Surface_Conditions    0\n",
       "Urban_or_Rural_Area        0\n",
       "dtype: int64"
      ]
     },
     "execution_count": 47,
     "metadata": {},
     "output_type": "execute_result"
    }
   ],
   "source": [
    "pd.isnull(Accident1).sum()"
   ]
  },
  {
   "cell_type": "markdown",
   "metadata": {},
   "source": [
    "#### Road_Type 9 is Missing Value\n",
    "For the MV : mode() according to Junction_Detail and Urban_or_Rural_Area "
   ]
  },
  {
   "cell_type": "code",
   "execution_count": 48,
   "metadata": {},
   "outputs": [
    {
     "name": "stderr",
     "output_type": "stream",
     "text": [
      "/Users/vadimbenichou/anaconda3/lib/python3.6/site-packages/pandas/core/indexing.py:189: SettingWithCopyWarning: \n",
      "A value is trying to be set on a copy of a slice from a DataFrame\n",
      "\n",
      "See the caveats in the documentation: http://pandas.pydata.org/pandas-docs/stable/indexing.html#indexing-view-versus-copy\n",
      "  self._setitem_with_indexer(indexer, value)\n"
     ]
    },
    {
     "data": {
      "text/plain": [
       "1378"
      ]
     },
     "execution_count": 48,
     "metadata": {},
     "output_type": "execute_result"
    }
   ],
   "source": [
    "Accident1['Road_Type'].value_counts()\n",
    "Accident1['Road_Type'].loc[Accident1['Road_Type'] == 9] = np.nan\n",
    "pd.isnull(Accident1['Road_Type']).sum()"
   ]
  },
  {
   "cell_type": "code",
   "execution_count": 49,
   "metadata": {},
   "outputs": [
    {
     "data": {
      "text/plain": [
       "0"
      ]
     },
     "execution_count": 49,
     "metadata": {},
     "output_type": "execute_result"
    }
   ],
   "source": [
    "Accident1['Road_Type'] = Accident1.groupby(['Junction_Detail','Urban_or_Rural_Area'])['Road_Type'].transform(lambda x: x.fillna(x.mode()[0]))\n",
    "pd.isnull(Accident1['Road_Type']).sum()"
   ]
  },
  {
   "cell_type": "markdown",
   "metadata": {},
   "source": [
    "#### Urban_or_Rural_Area : 3 is MV, but only 1 missing value  "
   ]
  },
  {
   "cell_type": "code",
   "execution_count": 50,
   "metadata": {
    "scrolled": true
   },
   "outputs": [
    {
     "name": "stderr",
     "output_type": "stream",
     "text": [
      "/Users/vadimbenichou/anaconda3/lib/python3.6/site-packages/pandas/core/indexing.py:189: SettingWithCopyWarning: \n",
      "A value is trying to be set on a copy of a slice from a DataFrame\n",
      "\n",
      "See the caveats in the documentation: http://pandas.pydata.org/pandas-docs/stable/indexing.html#indexing-view-versus-copy\n",
      "  self._setitem_with_indexer(indexer, value)\n"
     ]
    },
    {
     "data": {
      "text/plain": [
       "1"
      ]
     },
     "execution_count": 50,
     "metadata": {},
     "output_type": "execute_result"
    }
   ],
   "source": [
    "Accident1['Urban_or_Rural_Area'].loc[Accident1['Urban_or_Rural_Area'] == 3] = np.nan\n",
    "pd.isnull(Accident1['Urban_or_Rural_Area']).sum()"
   ]
  },
  {
   "cell_type": "code",
   "execution_count": 51,
   "metadata": {},
   "outputs": [
    {
     "data": {
      "text/html": [
       "<div>\n",
       "<style scoped>\n",
       "    .dataframe tbody tr th:only-of-type {\n",
       "        vertical-align: middle;\n",
       "    }\n",
       "\n",
       "    .dataframe tbody tr th {\n",
       "        vertical-align: top;\n",
       "    }\n",
       "\n",
       "    .dataframe thead th {\n",
       "        text-align: right;\n",
       "    }\n",
       "</style>\n",
       "<table border=\"1\" class=\"dataframe\">\n",
       "  <thead>\n",
       "    <tr style=\"text-align: right;\">\n",
       "      <th></th>\n",
       "      <th>Accident_Index</th>\n",
       "      <th>Longitude</th>\n",
       "      <th>Latitude</th>\n",
       "      <th>Accident_Severity</th>\n",
       "      <th>Number_of_Vehicles</th>\n",
       "      <th>Number_of_Casualties</th>\n",
       "      <th>Date</th>\n",
       "      <th>Day_of_Week</th>\n",
       "      <th>Time</th>\n",
       "      <th>1st_Road_Class</th>\n",
       "      <th>Road_Type</th>\n",
       "      <th>Speed_limit</th>\n",
       "      <th>Junction_Detail</th>\n",
       "      <th>Junction_Control</th>\n",
       "      <th>Light_Conditions</th>\n",
       "      <th>Weather_Conditions</th>\n",
       "      <th>Road_Surface_Conditions</th>\n",
       "      <th>Urban_or_Rural_Area</th>\n",
       "    </tr>\n",
       "  </thead>\n",
       "  <tbody>\n",
       "    <tr>\n",
       "      <th>44302</th>\n",
       "      <td>2017120117754</td>\n",
       "      <td>-1.300889</td>\n",
       "      <td>53.774089</td>\n",
       "      <td>2</td>\n",
       "      <td>1</td>\n",
       "      <td>1</td>\n",
       "      <td>05/07/2017</td>\n",
       "      <td>4</td>\n",
       "      <td>2</td>\n",
       "      <td>3</td>\n",
       "      <td>3.0</td>\n",
       "      <td>70</td>\n",
       "      <td>5.0</td>\n",
       "      <td>4.0</td>\n",
       "      <td>1.0</td>\n",
       "      <td>1.0</td>\n",
       "      <td>1.0</td>\n",
       "      <td>NaN</td>\n",
       "    </tr>\n",
       "  </tbody>\n",
       "</table>\n",
       "</div>"
      ],
      "text/plain": [
       "      Accident_Index  Longitude   Latitude  Accident_Severity  \\\n",
       "44302  2017120117754  -1.300889  53.774089                  2   \n",
       "\n",
       "       Number_of_Vehicles  Number_of_Casualties        Date  Day_of_Week Time  \\\n",
       "44302                   1                     1  05/07/2017            4    2   \n",
       "\n",
       "       1st_Road_Class  Road_Type  Speed_limit  Junction_Detail  \\\n",
       "44302               3        3.0           70              5.0   \n",
       "\n",
       "       Junction_Control  Light_Conditions  Weather_Conditions  \\\n",
       "44302               4.0               1.0                 1.0   \n",
       "\n",
       "       Road_Surface_Conditions  Urban_or_Rural_Area  \n",
       "44302                      1.0                  NaN  "
      ]
     },
     "execution_count": 51,
     "metadata": {},
     "output_type": "execute_result"
    }
   ],
   "source": [
    "Accident1[pd.isnull(Accident1['Urban_or_Rural_Area'])]\n"
   ]
  },
  {
   "cell_type": "markdown",
   "metadata": {},
   "source": [
    "It's on Slip Road, Motorway A so it's Urban. then = 1"
   ]
  },
  {
   "cell_type": "code",
   "execution_count": 52,
   "metadata": {
    "scrolled": false
   },
   "outputs": [
    {
     "name": "stderr",
     "output_type": "stream",
     "text": [
      "/Users/vadimbenichou/anaconda3/lib/python3.6/site-packages/ipykernel_launcher.py:1: SettingWithCopyWarning: \n",
      "A value is trying to be set on a copy of a slice from a DataFrame\n",
      "\n",
      "See the caveats in the documentation: http://pandas.pydata.org/pandas-docs/stable/indexing.html#indexing-view-versus-copy\n",
      "  \"\"\"Entry point for launching an IPython kernel.\n"
     ]
    }
   ],
   "source": [
    "Accident1['Urban_or_Rural_Area'][pd.isnull(Accident1['Urban_or_Rural_Area'])]=1\n"
   ]
  },
  {
   "cell_type": "markdown",
   "metadata": {},
   "source": [
    "## Deal with MV on Casualties "
   ]
  },
  {
   "cell_type": "code",
   "execution_count": 53,
   "metadata": {},
   "outputs": [
    {
     "data": {
      "text/html": [
       "<div>\n",
       "<style scoped>\n",
       "    .dataframe tbody tr th:only-of-type {\n",
       "        vertical-align: middle;\n",
       "    }\n",
       "\n",
       "    .dataframe tbody tr th {\n",
       "        vertical-align: top;\n",
       "    }\n",
       "\n",
       "    .dataframe thead th {\n",
       "        text-align: right;\n",
       "    }\n",
       "</style>\n",
       "<table border=\"1\" class=\"dataframe\">\n",
       "  <thead>\n",
       "    <tr style=\"text-align: right;\">\n",
       "      <th></th>\n",
       "      <th>Casualty_Class</th>\n",
       "      <th>Sex_of_Casualty</th>\n",
       "      <th>Age_Band_of_Casualty</th>\n",
       "      <th>Casualty_Severity</th>\n",
       "      <th>Casualty_Type</th>\n",
       "    </tr>\n",
       "  </thead>\n",
       "  <tbody>\n",
       "    <tr>\n",
       "      <th>Casualty_Class</th>\n",
       "      <td>1.000000</td>\n",
       "      <td>0.146934</td>\n",
       "      <td>-0.161932</td>\n",
       "      <td>-0.061784</td>\n",
       "      <td>-0.235022</td>\n",
       "    </tr>\n",
       "    <tr>\n",
       "      <th>Sex_of_Casualty</th>\n",
       "      <td>0.146934</td>\n",
       "      <td>1.000000</td>\n",
       "      <td>0.039586</td>\n",
       "      <td>0.091145</td>\n",
       "      <td>0.029060</td>\n",
       "    </tr>\n",
       "    <tr>\n",
       "      <th>Age_Band_of_Casualty</th>\n",
       "      <td>-0.161932</td>\n",
       "      <td>0.039586</td>\n",
       "      <td>1.000000</td>\n",
       "      <td>-0.063979</td>\n",
       "      <td>0.062900</td>\n",
       "    </tr>\n",
       "    <tr>\n",
       "      <th>Casualty_Severity</th>\n",
       "      <td>-0.061784</td>\n",
       "      <td>0.091145</td>\n",
       "      <td>-0.063979</td>\n",
       "      <td>1.000000</td>\n",
       "      <td>0.070532</td>\n",
       "    </tr>\n",
       "    <tr>\n",
       "      <th>Casualty_Type</th>\n",
       "      <td>-0.235022</td>\n",
       "      <td>0.029060</td>\n",
       "      <td>0.062900</td>\n",
       "      <td>0.070532</td>\n",
       "      <td>1.000000</td>\n",
       "    </tr>\n",
       "  </tbody>\n",
       "</table>\n",
       "</div>"
      ],
      "text/plain": [
       "                      Casualty_Class  Sex_of_Casualty  Age_Band_of_Casualty  \\\n",
       "Casualty_Class              1.000000         0.146934             -0.161932   \n",
       "Sex_of_Casualty             0.146934         1.000000              0.039586   \n",
       "Age_Band_of_Casualty       -0.161932         0.039586              1.000000   \n",
       "Casualty_Severity          -0.061784         0.091145             -0.063979   \n",
       "Casualty_Type              -0.235022         0.029060              0.062900   \n",
       "\n",
       "                      Casualty_Severity  Casualty_Type  \n",
       "Casualty_Class                -0.061784      -0.235022  \n",
       "Sex_of_Casualty                0.091145       0.029060  \n",
       "Age_Band_of_Casualty          -0.063979       0.062900  \n",
       "Casualty_Severity              1.000000       0.070532  \n",
       "Casualty_Type                  0.070532       1.000000  "
      ]
     },
     "execution_count": 53,
     "metadata": {},
     "output_type": "execute_result"
    }
   ],
   "source": [
    "Casualties1.corr()"
   ]
  },
  {
   "cell_type": "code",
   "execution_count": 54,
   "metadata": {},
   "outputs": [
    {
     "data": {
      "text/plain": [
       "(Accident_Index             0\n",
       " Casualty_Class             0\n",
       " Sex_of_Casualty           27\n",
       " Age_Band_of_Casualty    2214\n",
       " Casualty_Severity          0\n",
       " Casualty_Type              3\n",
       " dtype: int64, (170993, 6))"
      ]
     },
     "execution_count": 54,
     "metadata": {},
     "output_type": "execute_result"
    }
   ],
   "source": [
    "pd.isnull(Casualties1).sum(),Casualties.shape"
   ]
  },
  {
   "cell_type": "code",
   "execution_count": 55,
   "metadata": {},
   "outputs": [
    {
     "data": {
      "text/html": [
       "<div>\n",
       "<style scoped>\n",
       "    .dataframe tbody tr th:only-of-type {\n",
       "        vertical-align: middle;\n",
       "    }\n",
       "\n",
       "    .dataframe tbody tr th {\n",
       "        vertical-align: top;\n",
       "    }\n",
       "\n",
       "    .dataframe thead th {\n",
       "        text-align: right;\n",
       "    }\n",
       "</style>\n",
       "<table border=\"1\" class=\"dataframe\">\n",
       "  <thead>\n",
       "    <tr style=\"text-align: right;\">\n",
       "      <th></th>\n",
       "      <th>Accident_Index</th>\n",
       "      <th>Casualty_Class</th>\n",
       "      <th>Sex_of_Casualty</th>\n",
       "      <th>Age_Band_of_Casualty</th>\n",
       "      <th>Casualty_Severity</th>\n",
       "      <th>Casualty_Type</th>\n",
       "    </tr>\n",
       "  </thead>\n",
       "  <tbody>\n",
       "    <tr>\n",
       "      <th>0</th>\n",
       "      <td>2017010001708</td>\n",
       "      <td>2</td>\n",
       "      <td>2.0</td>\n",
       "      <td>4.0</td>\n",
       "      <td>3</td>\n",
       "      <td>9.0</td>\n",
       "    </tr>\n",
       "    <tr>\n",
       "      <th>1</th>\n",
       "      <td>2017010001708</td>\n",
       "      <td>1</td>\n",
       "      <td>1.0</td>\n",
       "      <td>4.0</td>\n",
       "      <td>2</td>\n",
       "      <td>2.0</td>\n",
       "    </tr>\n",
       "    <tr>\n",
       "      <th>2</th>\n",
       "      <td>2017010001708</td>\n",
       "      <td>2</td>\n",
       "      <td>1.0</td>\n",
       "      <td>4.0</td>\n",
       "      <td>1</td>\n",
       "      <td>2.0</td>\n",
       "    </tr>\n",
       "    <tr>\n",
       "      <th>3</th>\n",
       "      <td>2017010009342</td>\n",
       "      <td>2</td>\n",
       "      <td>2.0</td>\n",
       "      <td>6.0</td>\n",
       "      <td>3</td>\n",
       "      <td>9.0</td>\n",
       "    </tr>\n",
       "    <tr>\n",
       "      <th>4</th>\n",
       "      <td>2017010009344</td>\n",
       "      <td>1</td>\n",
       "      <td>2.0</td>\n",
       "      <td>6.0</td>\n",
       "      <td>3</td>\n",
       "      <td>9.0</td>\n",
       "    </tr>\n",
       "  </tbody>\n",
       "</table>\n",
       "</div>"
      ],
      "text/plain": [
       "  Accident_Index  Casualty_Class  Sex_of_Casualty  Age_Band_of_Casualty  \\\n",
       "0  2017010001708               2              2.0                   4.0   \n",
       "1  2017010001708               1              1.0                   4.0   \n",
       "2  2017010001708               2              1.0                   4.0   \n",
       "3  2017010009342               2              2.0                   6.0   \n",
       "4  2017010009344               1              2.0                   6.0   \n",
       "\n",
       "   Casualty_Severity  Casualty_Type  \n",
       "0                  3            9.0  \n",
       "1                  2            2.0  \n",
       "2                  1            2.0  \n",
       "3                  3            9.0  \n",
       "4                  3            9.0  "
      ]
     },
     "execution_count": 55,
     "metadata": {},
     "output_type": "execute_result"
    }
   ],
   "source": [
    "Casualties1.head()"
   ]
  },
  {
   "cell_type": "markdown",
   "metadata": {},
   "source": [
    "#### Sex_of_Casualty\n",
    "We drop missing value "
   ]
  },
  {
   "cell_type": "code",
   "execution_count": 56,
   "metadata": {},
   "outputs": [
    {
     "data": {
      "text/plain": [
       "0"
      ]
     },
     "execution_count": 56,
     "metadata": {},
     "output_type": "execute_result"
    }
   ],
   "source": [
    "Casualties1=Casualties1.dropna(subset=['Sex_of_Casualty'])\n",
    "pd.isnull(Casualties1['Sex_of_Casualty']).sum()"
   ]
  },
  {
   "cell_type": "markdown",
   "metadata": {},
   "source": [
    "#### Casualty_Type\n",
    "Only 3 missing values, we decided to drop it"
   ]
  },
  {
   "cell_type": "code",
   "execution_count": 57,
   "metadata": {},
   "outputs": [
    {
     "data": {
      "text/plain": [
       "0"
      ]
     },
     "execution_count": 57,
     "metadata": {},
     "output_type": "execute_result"
    }
   ],
   "source": [
    "Casualties1=Casualties1.dropna(subset=['Casualty_Type'])\n",
    "pd.isnull(Casualties1['Casualty_Type']).sum()"
   ]
  },
  {
   "cell_type": "markdown",
   "metadata": {},
   "source": [
    "#### Age_Band_of_Casualty\n",
    "Only 1.2% of the data are missing value, so we can drop it "
   ]
  },
  {
   "cell_type": "code",
   "execution_count": 58,
   "metadata": {},
   "outputs": [
    {
     "data": {
      "text/plain": [
       "0"
      ]
     },
     "execution_count": 58,
     "metadata": {},
     "output_type": "execute_result"
    }
   ],
   "source": [
    "Casualties1=Casualties1.dropna(subset=['Age_Band_of_Casualty'])\n",
    "pd.isnull(Casualties1['Age_Band_of_Casualty']).sum()"
   ]
  },
  {
   "cell_type": "markdown",
   "metadata": {},
   "source": [
    "## Deal with MV on Vehicles "
   ]
  },
  {
   "cell_type": "code",
   "execution_count": 59,
   "metadata": {},
   "outputs": [
    {
     "data": {
      "text/html": [
       "<div>\n",
       "<style scoped>\n",
       "    .dataframe tbody tr th:only-of-type {\n",
       "        vertical-align: middle;\n",
       "    }\n",
       "\n",
       "    .dataframe tbody tr th {\n",
       "        vertical-align: top;\n",
       "    }\n",
       "\n",
       "    .dataframe thead th {\n",
       "        text-align: right;\n",
       "    }\n",
       "</style>\n",
       "<table border=\"1\" class=\"dataframe\">\n",
       "  <thead>\n",
       "    <tr style=\"text-align: right;\">\n",
       "      <th></th>\n",
       "      <th>Vehicle_Type</th>\n",
       "      <th>Vehicle_Manoeuvre</th>\n",
       "      <th>1st_Point_of_Impact</th>\n",
       "      <th>Sex_of_Driver</th>\n",
       "      <th>Age_Band_of_Driver</th>\n",
       "      <th>Engine_Capacity_(CC)</th>\n",
       "    </tr>\n",
       "  </thead>\n",
       "  <tbody>\n",
       "    <tr>\n",
       "      <th>Vehicle_Type</th>\n",
       "      <td>1.000000</td>\n",
       "      <td>-0.046372</td>\n",
       "      <td>-0.007929</td>\n",
       "      <td>0.033943</td>\n",
       "      <td>0.066976</td>\n",
       "      <td>0.402674</td>\n",
       "    </tr>\n",
       "    <tr>\n",
       "      <th>Vehicle_Manoeuvre</th>\n",
       "      <td>-0.046372</td>\n",
       "      <td>1.000000</td>\n",
       "      <td>-0.074332</td>\n",
       "      <td>-0.116222</td>\n",
       "      <td>-0.063975</td>\n",
       "      <td>-0.029810</td>\n",
       "    </tr>\n",
       "    <tr>\n",
       "      <th>1st_Point_of_Impact</th>\n",
       "      <td>-0.007929</td>\n",
       "      <td>-0.074332</td>\n",
       "      <td>1.000000</td>\n",
       "      <td>-0.002690</td>\n",
       "      <td>0.022522</td>\n",
       "      <td>-0.024152</td>\n",
       "    </tr>\n",
       "    <tr>\n",
       "      <th>Sex_of_Driver</th>\n",
       "      <td>0.033943</td>\n",
       "      <td>-0.116222</td>\n",
       "      <td>-0.002690</td>\n",
       "      <td>1.000000</td>\n",
       "      <td>0.003091</td>\n",
       "      <td>-0.098567</td>\n",
       "    </tr>\n",
       "    <tr>\n",
       "      <th>Age_Band_of_Driver</th>\n",
       "      <td>0.066976</td>\n",
       "      <td>-0.063975</td>\n",
       "      <td>0.022522</td>\n",
       "      <td>0.003091</td>\n",
       "      <td>1.000000</td>\n",
       "      <td>0.125711</td>\n",
       "    </tr>\n",
       "    <tr>\n",
       "      <th>Engine_Capacity_(CC)</th>\n",
       "      <td>0.402674</td>\n",
       "      <td>-0.029810</td>\n",
       "      <td>-0.024152</td>\n",
       "      <td>-0.098567</td>\n",
       "      <td>0.125711</td>\n",
       "      <td>1.000000</td>\n",
       "    </tr>\n",
       "  </tbody>\n",
       "</table>\n",
       "</div>"
      ],
      "text/plain": [
       "                      Vehicle_Type  Vehicle_Manoeuvre  1st_Point_of_Impact  \\\n",
       "Vehicle_Type              1.000000          -0.046372            -0.007929   \n",
       "Vehicle_Manoeuvre        -0.046372           1.000000            -0.074332   \n",
       "1st_Point_of_Impact      -0.007929          -0.074332             1.000000   \n",
       "Sex_of_Driver             0.033943          -0.116222            -0.002690   \n",
       "Age_Band_of_Driver        0.066976          -0.063975             0.022522   \n",
       "Engine_Capacity_(CC)      0.402674          -0.029810            -0.024152   \n",
       "\n",
       "                      Sex_of_Driver  Age_Band_of_Driver  Engine_Capacity_(CC)  \n",
       "Vehicle_Type               0.033943            0.066976              0.402674  \n",
       "Vehicle_Manoeuvre         -0.116222           -0.063975             -0.029810  \n",
       "1st_Point_of_Impact       -0.002690            0.022522             -0.024152  \n",
       "Sex_of_Driver              1.000000            0.003091             -0.098567  \n",
       "Age_Band_of_Driver         0.003091            1.000000              0.125711  \n",
       "Engine_Capacity_(CC)      -0.098567            0.125711              1.000000  "
      ]
     },
     "execution_count": 59,
     "metadata": {},
     "output_type": "execute_result"
    }
   ],
   "source": [
    "# Correlation Matrice for Vehicles1\n",
    "Vehicles1.corr()"
   ]
  },
  {
   "cell_type": "code",
   "execution_count": 60,
   "metadata": {},
   "outputs": [
    {
     "data": {
      "text/html": [
       "<div>\n",
       "<style scoped>\n",
       "    .dataframe tbody tr th:only-of-type {\n",
       "        vertical-align: middle;\n",
       "    }\n",
       "\n",
       "    .dataframe tbody tr th {\n",
       "        vertical-align: top;\n",
       "    }\n",
       "\n",
       "    .dataframe thead th {\n",
       "        text-align: right;\n",
       "    }\n",
       "</style>\n",
       "<table border=\"1\" class=\"dataframe\">\n",
       "  <thead>\n",
       "    <tr style=\"text-align: right;\">\n",
       "      <th></th>\n",
       "      <th>Accident_Index</th>\n",
       "      <th>Vehicle_Type</th>\n",
       "      <th>Vehicle_Manoeuvre</th>\n",
       "      <th>1st_Point_of_Impact</th>\n",
       "      <th>Sex_of_Driver</th>\n",
       "      <th>Age_Band_of_Driver</th>\n",
       "      <th>Engine_Capacity_(CC)</th>\n",
       "    </tr>\n",
       "  </thead>\n",
       "  <tbody>\n",
       "    <tr>\n",
       "      <th>0</th>\n",
       "      <td>2017010001708</td>\n",
       "      <td>9.0</td>\n",
       "      <td>18.0</td>\n",
       "      <td>1.0</td>\n",
       "      <td>1.0</td>\n",
       "      <td>5.0</td>\n",
       "      <td>1997.0</td>\n",
       "    </tr>\n",
       "    <tr>\n",
       "      <th>1</th>\n",
       "      <td>2017010001708</td>\n",
       "      <td>2.0</td>\n",
       "      <td>18.0</td>\n",
       "      <td>2.0</td>\n",
       "      <td>1.0</td>\n",
       "      <td>4.0</td>\n",
       "      <td>NaN</td>\n",
       "    </tr>\n",
       "    <tr>\n",
       "      <th>2</th>\n",
       "      <td>2017010009342</td>\n",
       "      <td>9.0</td>\n",
       "      <td>18.0</td>\n",
       "      <td>2.0</td>\n",
       "      <td>1.0</td>\n",
       "      <td>6.0</td>\n",
       "      <td>1797.0</td>\n",
       "    </tr>\n",
       "    <tr>\n",
       "      <th>3</th>\n",
       "      <td>2017010009342</td>\n",
       "      <td>9.0</td>\n",
       "      <td>18.0</td>\n",
       "      <td>1.0</td>\n",
       "      <td>1.0</td>\n",
       "      <td>7.0</td>\n",
       "      <td>2204.0</td>\n",
       "    </tr>\n",
       "    <tr>\n",
       "      <th>4</th>\n",
       "      <td>2017010009344</td>\n",
       "      <td>9.0</td>\n",
       "      <td>18.0</td>\n",
       "      <td>1.0</td>\n",
       "      <td>3.0</td>\n",
       "      <td>NaN</td>\n",
       "      <td>NaN</td>\n",
       "    </tr>\n",
       "  </tbody>\n",
       "</table>\n",
       "</div>"
      ],
      "text/plain": [
       "  Accident_Index  Vehicle_Type  Vehicle_Manoeuvre  1st_Point_of_Impact  \\\n",
       "0  2017010001708           9.0               18.0                  1.0   \n",
       "1  2017010001708           2.0               18.0                  2.0   \n",
       "2  2017010009342           9.0               18.0                  2.0   \n",
       "3  2017010009342           9.0               18.0                  1.0   \n",
       "4  2017010009344           9.0               18.0                  1.0   \n",
       "\n",
       "   Sex_of_Driver  Age_Band_of_Driver  Engine_Capacity_(CC)  \n",
       "0            1.0                 5.0                1997.0  \n",
       "1            1.0                 4.0                   NaN  \n",
       "2            1.0                 6.0                1797.0  \n",
       "3            1.0                 7.0                2204.0  \n",
       "4            3.0                 NaN                   NaN  "
      ]
     },
     "execution_count": 60,
     "metadata": {},
     "output_type": "execute_result"
    }
   ],
   "source": [
    "Vehicles1.head()"
   ]
  },
  {
   "cell_type": "code",
   "execution_count": 61,
   "metadata": {},
   "outputs": [
    {
     "data": {
      "text/plain": [
       "Accident_Index              0\n",
       "Vehicle_Type              293\n",
       "Vehicle_Manoeuvre        3957\n",
       "1st_Point_of_Impact      3961\n",
       "Sex_of_Driver               3\n",
       "Age_Band_of_Driver      27774\n",
       "Engine_Capacity_(CC)    53381\n",
       "dtype: int64"
      ]
     },
     "execution_count": 61,
     "metadata": {},
     "output_type": "execute_result"
    }
   ],
   "source": [
    "pd.isnull(Vehicles1).sum()"
   ]
  },
  {
   "cell_type": "markdown",
   "metadata": {},
   "source": [
    "#### Sex_of_Driver :"
   ]
  },
  {
   "cell_type": "code",
   "execution_count": 62,
   "metadata": {},
   "outputs": [
    {
     "data": {
      "text/plain": [
       "1.0    153964\n",
       "2.0     65127\n",
       "3.0     19832\n",
       "Name: Sex_of_Driver, dtype: int64"
      ]
     },
     "execution_count": 62,
     "metadata": {},
     "output_type": "execute_result"
    }
   ],
   "source": [
    "Vehicles1['Sex_of_Driver'].value_counts()"
   ]
  },
  {
   "cell_type": "markdown",
   "metadata": {},
   "source": [
    "For Sex_of_Driver, we will make the decision tree after the merging"
   ]
  },
  {
   "cell_type": "code",
   "execution_count": 63,
   "metadata": {},
   "outputs": [
    {
     "data": {
      "text/plain": [
       "1.0    153964\n",
       "2.0     65127\n",
       "3.0     19835\n",
       "Name: Sex_of_Driver, dtype: int64"
      ]
     },
     "execution_count": 63,
     "metadata": {},
     "output_type": "execute_result"
    }
   ],
   "source": [
    "Vehicles1['Sex_of_Driver'].fillna(3, inplace=True)\n",
    "Vehicles1['Sex_of_Driver'].value_counts()"
   ]
  },
  {
   "cell_type": "markdown",
   "metadata": {},
   "source": [
    "#### 1st_Point_of_Impact\n",
    "Same missing value for 1st_Point_of_Impact and Vehicle_Manoeuvre, impossible to predict theim so we drop it "
   ]
  },
  {
   "cell_type": "code",
   "execution_count": 64,
   "metadata": {},
   "outputs": [
    {
     "data": {
      "text/html": [
       "<div>\n",
       "<style scoped>\n",
       "    .dataframe tbody tr th:only-of-type {\n",
       "        vertical-align: middle;\n",
       "    }\n",
       "\n",
       "    .dataframe tbody tr th {\n",
       "        vertical-align: top;\n",
       "    }\n",
       "\n",
       "    .dataframe thead th {\n",
       "        text-align: right;\n",
       "    }\n",
       "</style>\n",
       "<table border=\"1\" class=\"dataframe\">\n",
       "  <thead>\n",
       "    <tr style=\"text-align: right;\">\n",
       "      <th></th>\n",
       "      <th>Accident_Index</th>\n",
       "      <th>Vehicle_Type</th>\n",
       "      <th>Vehicle_Manoeuvre</th>\n",
       "      <th>1st_Point_of_Impact</th>\n",
       "      <th>Sex_of_Driver</th>\n",
       "      <th>Age_Band_of_Driver</th>\n",
       "      <th>Engine_Capacity_(CC)</th>\n",
       "    </tr>\n",
       "  </thead>\n",
       "  <tbody>\n",
       "    <tr>\n",
       "      <th>317</th>\n",
       "      <td>2017010009840</td>\n",
       "      <td>19.0</td>\n",
       "      <td>NaN</td>\n",
       "      <td>NaN</td>\n",
       "      <td>1.0</td>\n",
       "      <td>NaN</td>\n",
       "      <td>1560.0</td>\n",
       "    </tr>\n",
       "    <tr>\n",
       "      <th>804</th>\n",
       "      <td>2017010010667</td>\n",
       "      <td>1.0</td>\n",
       "      <td>18.0</td>\n",
       "      <td>NaN</td>\n",
       "      <td>1.0</td>\n",
       "      <td>6.0</td>\n",
       "      <td>NaN</td>\n",
       "    </tr>\n",
       "    <tr>\n",
       "      <th>805</th>\n",
       "      <td>2017010010668</td>\n",
       "      <td>9.0</td>\n",
       "      <td>NaN</td>\n",
       "      <td>NaN</td>\n",
       "      <td>1.0</td>\n",
       "      <td>7.0</td>\n",
       "      <td>2143.0</td>\n",
       "    </tr>\n",
       "    <tr>\n",
       "      <th>806</th>\n",
       "      <td>2017010010668</td>\n",
       "      <td>1.0</td>\n",
       "      <td>NaN</td>\n",
       "      <td>NaN</td>\n",
       "      <td>2.0</td>\n",
       "      <td>7.0</td>\n",
       "      <td>NaN</td>\n",
       "    </tr>\n",
       "    <tr>\n",
       "      <th>852</th>\n",
       "      <td>2017010010795</td>\n",
       "      <td>9.0</td>\n",
       "      <td>9.0</td>\n",
       "      <td>NaN</td>\n",
       "      <td>1.0</td>\n",
       "      <td>6.0</td>\n",
       "      <td>1598.0</td>\n",
       "    </tr>\n",
       "  </tbody>\n",
       "</table>\n",
       "</div>"
      ],
      "text/plain": [
       "    Accident_Index  Vehicle_Type  Vehicle_Manoeuvre  1st_Point_of_Impact  \\\n",
       "317  2017010009840          19.0                NaN                  NaN   \n",
       "804  2017010010667           1.0               18.0                  NaN   \n",
       "805  2017010010668           9.0                NaN                  NaN   \n",
       "806  2017010010668           1.0                NaN                  NaN   \n",
       "852  2017010010795           9.0                9.0                  NaN   \n",
       "\n",
       "     Sex_of_Driver  Age_Band_of_Driver  Engine_Capacity_(CC)  \n",
       "317            1.0                 NaN                1560.0  \n",
       "804            1.0                 6.0                   NaN  \n",
       "805            1.0                 7.0                2143.0  \n",
       "806            2.0                 7.0                   NaN  \n",
       "852            1.0                 6.0                1598.0  "
      ]
     },
     "execution_count": 64,
     "metadata": {},
     "output_type": "execute_result"
    }
   ],
   "source": [
    "Vehicles1[pd.isnull(Vehicles1['1st_Point_of_Impact'])].head()"
   ]
  },
  {
   "cell_type": "code",
   "execution_count": 65,
   "metadata": {},
   "outputs": [
    {
     "data": {
      "text/plain": [
       "0"
      ]
     },
     "execution_count": 65,
     "metadata": {},
     "output_type": "execute_result"
    }
   ],
   "source": [
    "Vehicles1=Vehicles1.dropna(subset=['1st_Point_of_Impact'])\n",
    "pd.isnull(Vehicles1['1st_Point_of_Impact']).sum()"
   ]
  },
  {
   "cell_type": "code",
   "execution_count": 66,
   "metadata": {},
   "outputs": [
    {
     "data": {
      "text/plain": [
       "1362"
      ]
     },
     "execution_count": 66,
     "metadata": {},
     "output_type": "execute_result"
    }
   ],
   "source": [
    "pd.isnull(Vehicles1['Vehicle_Manoeuvre']).sum()"
   ]
  },
  {
   "cell_type": "markdown",
   "metadata": {},
   "source": [
    "#### Vehicle_Manoeuvre : we have 903 missing values, we make a mode() according to the 1st_Point_of_Impact"
   ]
  },
  {
   "cell_type": "code",
   "execution_count": 67,
   "metadata": {},
   "outputs": [
    {
     "data": {
      "text/plain": [
       "0"
      ]
     },
     "execution_count": 67,
     "metadata": {},
     "output_type": "execute_result"
    }
   ],
   "source": [
    "Vehicles1['Vehicle_Manoeuvre'] = Vehicles1.groupby(['1st_Point_of_Impact'])['Vehicle_Manoeuvre'].transform(lambda x: x.fillna(x.mode()[0]))\n",
    "pd.isnull(Vehicles1['Vehicle_Manoeuvre']).sum()"
   ]
  },
  {
   "cell_type": "markdown",
   "metadata": {},
   "source": [
    "#### Age_Band_of_Driver  : we decided to drop it"
   ]
  },
  {
   "cell_type": "code",
   "execution_count": 68,
   "metadata": {},
   "outputs": [
    {
     "data": {
      "text/plain": [
       "0"
      ]
     },
     "execution_count": 68,
     "metadata": {},
     "output_type": "execute_result"
    }
   ],
   "source": [
    "Vehicles1=Vehicles1.dropna(subset=['Age_Band_of_Driver'])\n",
    "pd.isnull(Vehicles1['Age_Band_of_Driver']).sum()"
   ]
  },
  {
   "cell_type": "markdown",
   "metadata": {},
   "source": [
    "#### Vehicle_Type MV  only 24 missing values, we drop it"
   ]
  },
  {
   "cell_type": "code",
   "execution_count": 69,
   "metadata": {},
   "outputs": [
    {
     "data": {
      "text/plain": [
       "Accident_Index              0\n",
       "Vehicle_Type               24\n",
       "Vehicle_Manoeuvre           0\n",
       "1st_Point_of_Impact         0\n",
       "Sex_of_Driver               0\n",
       "Age_Band_of_Driver          0\n",
       "Engine_Capacity_(CC)    39107\n",
       "dtype: int64"
      ]
     },
     "execution_count": 69,
     "metadata": {},
     "output_type": "execute_result"
    }
   ],
   "source": [
    "pd.isnull(Vehicles1).sum()"
   ]
  },
  {
   "cell_type": "code",
   "execution_count": 70,
   "metadata": {},
   "outputs": [],
   "source": [
    "Vehicles1=Vehicles1.dropna(subset=['Vehicle_Type'])"
   ]
  },
  {
   "cell_type": "markdown",
   "metadata": {},
   "source": [
    "#### Engine_Capacity_(CC) : 39107 MV, mode() according to the type of vehicles"
   ]
  },
  {
   "cell_type": "markdown",
   "metadata": {},
   "source": [
    "We have a lot of vehicles that don't have Engine, so attribute the value 0 "
   ]
  },
  {
   "cell_type": "code",
   "execution_count": 71,
   "metadata": {},
   "outputs": [
    {
     "name": "stderr",
     "output_type": "stream",
     "text": [
      "/Users/vadimbenichou/anaconda3/lib/python3.6/site-packages/pandas/core/indexing.py:189: SettingWithCopyWarning: \n",
      "A value is trying to be set on a copy of a slice from a DataFrame\n",
      "\n",
      "See the caveats in the documentation: http://pandas.pydata.org/pandas-docs/stable/indexing.html#indexing-view-versus-copy\n",
      "  self._setitem_with_indexer(indexer, value)\n"
     ]
    }
   ],
   "source": [
    "Vehicles1['Engine_Capacity_(CC)'].loc[Vehicles1['Vehicle_Type'] == 1] = 0\n",
    "Vehicles1['Engine_Capacity_(CC)'].loc[Vehicles1['Vehicle_Type'] == 98] = 0\n",
    "Vehicles1['Engine_Capacity_(CC)'].loc[Vehicles1['Vehicle_Type'] == 97] = 0\n",
    "Vehicles1['Engine_Capacity_(CC)'].loc[Vehicles1['Vehicle_Type'] == 22] = 0\n",
    "Vehicles1['Engine_Capacity_(CC)'].loc[Vehicles1['Vehicle_Type'] == 16] = 0\n",
    "Vehicles1['Engine_Capacity_(CC)'].loc[Vehicles1['Vehicle_Type'] == 18] = 0"
   ]
  },
  {
   "cell_type": "code",
   "execution_count": 72,
   "metadata": {
    "scrolled": false
   },
   "outputs": [
    {
     "data": {
      "text/html": [
       "<div>\n",
       "<style scoped>\n",
       "    .dataframe tbody tr th:only-of-type {\n",
       "        vertical-align: middle;\n",
       "    }\n",
       "\n",
       "    .dataframe tbody tr th {\n",
       "        vertical-align: top;\n",
       "    }\n",
       "\n",
       "    .dataframe thead th {\n",
       "        text-align: right;\n",
       "    }\n",
       "</style>\n",
       "<table border=\"1\" class=\"dataframe\">\n",
       "  <thead>\n",
       "    <tr style=\"text-align: right;\">\n",
       "      <th></th>\n",
       "      <th>Accident_Index</th>\n",
       "      <th>Vehicle_Type</th>\n",
       "      <th>Vehicle_Manoeuvre</th>\n",
       "      <th>1st_Point_of_Impact</th>\n",
       "      <th>Sex_of_Driver</th>\n",
       "      <th>Age_Band_of_Driver</th>\n",
       "      <th>Engine_Capacity_(CC)</th>\n",
       "    </tr>\n",
       "  </thead>\n",
       "  <tbody>\n",
       "    <tr>\n",
       "      <th>17</th>\n",
       "      <td>2017010009358</td>\n",
       "      <td>1.0</td>\n",
       "      <td>18.0</td>\n",
       "      <td>0.0</td>\n",
       "      <td>1.0</td>\n",
       "      <td>6.0</td>\n",
       "      <td>0.0</td>\n",
       "    </tr>\n",
       "    <tr>\n",
       "      <th>158</th>\n",
       "      <td>2017010009518</td>\n",
       "      <td>1.0</td>\n",
       "      <td>18.0</td>\n",
       "      <td>0.0</td>\n",
       "      <td>2.0</td>\n",
       "      <td>7.0</td>\n",
       "      <td>0.0</td>\n",
       "    </tr>\n",
       "    <tr>\n",
       "      <th>163</th>\n",
       "      <td>2017010009536</td>\n",
       "      <td>1.0</td>\n",
       "      <td>9.0</td>\n",
       "      <td>1.0</td>\n",
       "      <td>1.0</td>\n",
       "      <td>5.0</td>\n",
       "      <td>0.0</td>\n",
       "    </tr>\n",
       "    <tr>\n",
       "      <th>177</th>\n",
       "      <td>2017010009590</td>\n",
       "      <td>1.0</td>\n",
       "      <td>18.0</td>\n",
       "      <td>2.0</td>\n",
       "      <td>1.0</td>\n",
       "      <td>6.0</td>\n",
       "      <td>0.0</td>\n",
       "    </tr>\n",
       "    <tr>\n",
       "      <th>182</th>\n",
       "      <td>2017010009593</td>\n",
       "      <td>1.0</td>\n",
       "      <td>9.0</td>\n",
       "      <td>1.0</td>\n",
       "      <td>1.0</td>\n",
       "      <td>9.0</td>\n",
       "      <td>0.0</td>\n",
       "    </tr>\n",
       "  </tbody>\n",
       "</table>\n",
       "</div>"
      ],
      "text/plain": [
       "    Accident_Index  Vehicle_Type  Vehicle_Manoeuvre  1st_Point_of_Impact  \\\n",
       "17   2017010009358           1.0               18.0                  0.0   \n",
       "158  2017010009518           1.0               18.0                  0.0   \n",
       "163  2017010009536           1.0                9.0                  1.0   \n",
       "177  2017010009590           1.0               18.0                  2.0   \n",
       "182  2017010009593           1.0                9.0                  1.0   \n",
       "\n",
       "     Sex_of_Driver  Age_Band_of_Driver  Engine_Capacity_(CC)  \n",
       "17             1.0                 6.0                   0.0  \n",
       "158            2.0                 7.0                   0.0  \n",
       "163            1.0                 5.0                   0.0  \n",
       "177            1.0                 6.0                   0.0  \n",
       "182            1.0                 9.0                   0.0  "
      ]
     },
     "execution_count": 72,
     "metadata": {},
     "output_type": "execute_result"
    }
   ],
   "source": [
    "Vehicles1.loc[Vehicles1['Engine_Capacity_(CC)'] == 0].head()"
   ]
  },
  {
   "cell_type": "code",
   "execution_count": 73,
   "metadata": {
    "scrolled": true
   },
   "outputs": [],
   "source": [
    "Vehicles1['Engine_Capacity_(CC)'] = Vehicles1.groupby(['Vehicle_Type'])['Engine_Capacity_(CC)'].transform(lambda x: x.fillna(x.mode()[0]))"
   ]
  },
  {
   "cell_type": "code",
   "execution_count": 74,
   "metadata": {},
   "outputs": [
    {
     "data": {
      "text/plain": [
       "0"
      ]
     },
     "execution_count": 74,
     "metadata": {},
     "output_type": "execute_result"
    }
   ],
   "source": [
    "pd.isnull(Vehicles1['Engine_Capacity_(CC)']).sum()"
   ]
  },
  {
   "cell_type": "code",
   "execution_count": 75,
   "metadata": {},
   "outputs": [
    {
     "data": {
      "text/plain": [
       "9.0     145538\n",
       "1.0      17785\n",
       "19.0     10534\n",
       "3.0       7983\n",
       "5.0       5910\n",
       "8.0       4659\n",
       "11.0      4491\n",
       "21.0      3619\n",
       "4.0       2270\n",
       "2.0       1769\n",
       "90.0      1206\n",
       "20.0       991\n",
       "98.0       818\n",
       "17.0       449\n",
       "10.0       389\n",
       "97.0       223\n",
       "22.0       207\n",
       "16.0        81\n",
       "23.0        52\n",
       "18.0        19\n",
       "Name: Vehicle_Type, dtype: int64"
      ]
     },
     "execution_count": 75,
     "metadata": {},
     "output_type": "execute_result"
    }
   ],
   "source": [
    "Vehicles1['Vehicle_Type'].value_counts()"
   ]
  },
  {
   "cell_type": "markdown",
   "metadata": {},
   "source": [
    "#### Decision Tree for Sex of Driver"
   ]
  },
  {
   "cell_type": "code",
   "execution_count": 76,
   "metadata": {},
   "outputs": [
    {
     "name": "stderr",
     "output_type": "stream",
     "text": [
      "/Users/vadimbenichou/anaconda3/lib/python3.6/site-packages/ipykernel_launcher.py:3: SettingWithCopyWarning: \n",
      "A value is trying to be set on a copy of a slice from a DataFrame\n",
      "\n",
      "See the caveats in the documentation: http://pandas.pydata.org/pandas-docs/stable/indexing.html#indexing-view-versus-copy\n",
      "  This is separate from the ipykernel package so we can avoid doing imports until\n"
     ]
    },
    {
     "data": {
      "text/plain": [
       "1773"
      ]
     },
     "execution_count": 76,
     "metadata": {},
     "output_type": "execute_result"
    }
   ],
   "source": [
    "Vehicles1Bis=Vehicles1.copy()\n",
    "\n",
    "Vehicles1Bis['Sex_of_Driver'][Vehicles1Bis['Sex_of_Driver']== 3]=np.nan\n",
    "pd.isnull(Vehicles1Bis['Sex_of_Driver']).sum()"
   ]
  },
  {
   "cell_type": "code",
   "execution_count": 77,
   "metadata": {},
   "outputs": [],
   "source": [
    "Vehicles1Bis.drop(['Accident_Index','Engine_Capacity_(CC)'], inplace = True, axis=1)\n",
    "Vehicles3=Vehicles1Bis[Vehicles1Bis['Sex_of_Driver'].isnull()] # data avec toute colonne et Y ,mais que ligne ou il ya les NA \n",
    "Vehicles3 = Vehicles3.drop(['Sex_of_Driver'],axis=1) "
   ]
  },
  {
   "cell_type": "code",
   "execution_count": 78,
   "metadata": {},
   "outputs": [
    {
     "data": {
      "text/plain": [
       "((207220, 4), (1773, 4), (207220,))"
      ]
     },
     "execution_count": 78,
     "metadata": {},
     "output_type": "execute_result"
    }
   ],
   "source": [
    "Vehicles2=Vehicles1Bis.dropna(subset=['Sex_of_Driver'])\n",
    "y=Vehicles2['Sex_of_Driver']\n",
    "\n",
    "Vehicles2=Vehicles2.drop(['Sex_of_Driver'],axis=1)\n",
    "\n",
    "Vehicles2.shape, Vehicles3.shape, y.shape\n"
   ]
  },
  {
   "cell_type": "code",
   "execution_count": 79,
   "metadata": {},
   "outputs": [
    {
     "name": "stdout",
     "output_type": "stream",
     "text": [
      "69.75\n"
     ]
    }
   ],
   "source": [
    "X_training,X_validation,Y_training,Y_validation = train_test_split(Vehicles2,y, test_size = 0.2, random_state = 21)\n",
    "\n",
    "clf = DecisionTreeClassifier(max_depth=13)\n",
    "clf.fit(X_training,Y_training)\n",
    "y_pred = clf.predict(X_validation)\n",
    "\n",
    "y_pred = y_pred.tolist()\n",
    "acc_DecTree = round(accuracy_score(y_pred, Y_validation) * 100, 2)\n",
    "print(acc_DecTree)"
   ]
  },
  {
   "cell_type": "markdown",
   "metadata": {},
   "source": [
    "#### Accuracy < 69.87 : not accurate, we can not use it, we will try after the merging because the driver is often the victim.\n"
   ]
  },
  {
   "cell_type": "markdown",
   "metadata": {},
   "source": [
    "# Casualties1 Data Engineering"
   ]
  },
  {
   "cell_type": "code",
   "execution_count": 80,
   "metadata": {
    "scrolled": true
   },
   "outputs": [
    {
     "data": {
      "text/plain": [
       "9.0     95928\n",
       "0.0     23461\n",
       "1.0     18017\n",
       "3.0      7788\n",
       "5.0      5894\n",
       "19.0     4141\n",
       "11.0     4043\n",
       "8.0      2649\n",
       "4.0      2222\n",
       "2.0      1719\n",
       "21.0      742\n",
       "90.0      664\n",
       "10.0      335\n",
       "20.0      289\n",
       "98.0      238\n",
       "97.0      206\n",
       "22.0      177\n",
       "17.0      101\n",
       "16.0       79\n",
       "23.0       55\n",
       "18.0       15\n",
       "Name: Casualty_Type, dtype: int64"
      ]
     },
     "execution_count": 80,
     "metadata": {},
     "output_type": "execute_result"
    }
   ],
   "source": [
    "Casualties1['Casualty_Type'].value_counts()"
   ]
  },
  {
   "cell_type": "markdown",
   "metadata": {},
   "source": [
    "Categorize : 0: pedestrian, 1: car, 2: bike & horse, 3:motorcycle 4: truck, 5: bus,tram, 6: other"
   ]
  },
  {
   "cell_type": "code",
   "execution_count": 81,
   "metadata": {},
   "outputs": [
    {
     "data": {
      "text/plain": [
       "(168763, 6)"
      ]
     },
     "execution_count": 81,
     "metadata": {},
     "output_type": "execute_result"
    }
   ],
   "source": [
    "Casualties1['Casualty_Type'] = [ 0 if element == 0\n",
    "                      else 3 if element == 2 or element == 3 or element == 4 or element ==5 or element == 23 or element ==97\n",
    "                      else 2 if element == 1 or element ==16 or element ==22\n",
    "                      else 1 if element == 8 or element ==9\n",
    "                      else 4 if element == 19 or element ==20 or element == 21 or element ==98 or element ==17\n",
    "                      else 5 if element == 10 or element ==11 or element ==18\n",
    "                      else 6 \n",
    "                      for element in Casualties1['Casualty_Type']]\n",
    "\n",
    "Casualties1.shape "
   ]
  },
  {
   "cell_type": "code",
   "execution_count": 82,
   "metadata": {},
   "outputs": [
    {
     "data": {
      "text/plain": [
       "1    98577\n",
       "0    23461\n",
       "2    18273\n",
       "3    17884\n",
       "4     5511\n",
       "5     4393\n",
       "6      664\n",
       "Name: Casualty_Type, dtype: int64"
      ]
     },
     "execution_count": 82,
     "metadata": {},
     "output_type": "execute_result"
    }
   ],
   "source": [
    "Casualties1['Casualty_Type'].value_counts()"
   ]
  },
  {
   "cell_type": "markdown",
   "metadata": {},
   "source": [
    "6 : Other, similar to missing value"
   ]
  },
  {
   "cell_type": "code",
   "execution_count": 83,
   "metadata": {},
   "outputs": [
    {
     "name": "stderr",
     "output_type": "stream",
     "text": [
      "/Users/vadimbenichou/anaconda3/lib/python3.6/site-packages/pandas/core/indexing.py:189: SettingWithCopyWarning: \n",
      "A value is trying to be set on a copy of a slice from a DataFrame\n",
      "\n",
      "See the caveats in the documentation: http://pandas.pydata.org/pandas-docs/stable/indexing.html#indexing-view-versus-copy\n",
      "  self._setitem_with_indexer(indexer, value)\n"
     ]
    },
    {
     "data": {
      "text/plain": [
       "0"
      ]
     },
     "execution_count": 83,
     "metadata": {},
     "output_type": "execute_result"
    }
   ],
   "source": [
    "Casualties1['Casualty_Type'].loc[Casualties1['Casualty_Type'] == 6] = np.nan\n",
    "Casualties1=Casualties1.dropna(subset=['Casualty_Type'])\n",
    "pd.isnull(Casualties1['Casualty_Type']).sum()"
   ]
  },
  {
   "cell_type": "markdown",
   "metadata": {},
   "source": [
    "Frequency of Casualty_Severity for Casualty_Type=5"
   ]
  },
  {
   "cell_type": "code",
   "execution_count": 84,
   "metadata": {
    "scrolled": true
   },
   "outputs": [
    {
     "data": {
      "text/plain": [
       "3    4076\n",
       "2     302\n",
       "1      15\n",
       "Name: Casualty_Severity, dtype: int64"
      ]
     },
     "execution_count": 84,
     "metadata": {},
     "output_type": "execute_result"
    }
   ],
   "source": [
    "Casualties1['Casualty_Severity'].loc[Casualties1['Casualty_Type']==5].value_counts()"
   ]
  },
  {
   "cell_type": "markdown",
   "metadata": {},
   "source": [
    "We modify the range for Age_Band_of_Casualty : 1:(0:5), 2:(6:15), 3:(16:35), 4:(36:65), 5: >66"
   ]
  },
  {
   "cell_type": "code",
   "execution_count": 85,
   "metadata": {},
   "outputs": [],
   "source": [
    "Casualties1['Age_Band_of_Casualty'] = [ 1 if element ==1\n",
    "           else 2 if element == 2 or element ==3 \n",
    "           else 3 if element == 4 or element ==5 or element ==6\n",
    "           else 4 if element == 7 or element == 8 or element ==9 \n",
    "           else 5 \n",
    "           for element in Casualties1['Age_Band_of_Casualty']]\n"
   ]
  },
  {
   "cell_type": "markdown",
   "metadata": {},
   "source": [
    "Casualty_Severity : Make a binary column with : \n",
    "\n",
    "0 : Slight Accident\n",
    "\n",
    "1 : Serious Accident"
   ]
  },
  {
   "cell_type": "code",
   "execution_count": 86,
   "metadata": {},
   "outputs": [],
   "source": [
    "Casualties1['Casualty_Severity']=[0 if element == 3\n",
    "                                 else 1\n",
    "                                 for element in Casualties1['Casualty_Severity']]"
   ]
  },
  {
   "cell_type": "code",
   "execution_count": 87,
   "metadata": {
    "scrolled": true
   },
   "outputs": [
    {
     "data": {
      "text/plain": [
       "0    141801\n",
       "1     26298\n",
       "Name: Casualty_Severity, dtype: int64"
      ]
     },
     "execution_count": 87,
     "metadata": {},
     "output_type": "execute_result"
    }
   ],
   "source": [
    "Casualties1.Casualty_Severity.value_counts()"
   ]
  },
  {
   "cell_type": "markdown",
   "metadata": {},
   "source": [
    "## Vehicles1 Data engineering"
   ]
  },
  {
   "cell_type": "markdown",
   "metadata": {},
   "source": [
    "Modify the range for Age_Band_of_Driver : 1:(0:5), 2:(6:15), 3:(16:35), 4:(36:65), 5: >66"
   ]
  },
  {
   "cell_type": "code",
   "execution_count": 88,
   "metadata": {
    "scrolled": false
   },
   "outputs": [],
   "source": [
    "Vehicles1['Age_Band_of_Driver'] = [ 1 if element ==1\n",
    "           else 2 if element == 2 or element ==3\n",
    "           else 3 if element == 4 or element ==5 or element ==6\n",
    "           else 4 if element == 7 or element == 8 or element ==9 \n",
    "           else 5 \n",
    "           for element in Vehicles1['Age_Band_of_Driver']]"
   ]
  },
  {
   "cell_type": "code",
   "execution_count": 89,
   "metadata": {},
   "outputs": [
    {
     "data": {
      "text/plain": [
       "9.0     145538\n",
       "1.0      17785\n",
       "19.0     10534\n",
       "3.0       7983\n",
       "5.0       5910\n",
       "8.0       4659\n",
       "11.0      4491\n",
       "21.0      3619\n",
       "4.0       2270\n",
       "2.0       1769\n",
       "90.0      1206\n",
       "20.0       991\n",
       "98.0       818\n",
       "17.0       449\n",
       "10.0       389\n",
       "97.0       223\n",
       "22.0       207\n",
       "16.0        81\n",
       "23.0        52\n",
       "18.0        19\n",
       "Name: Vehicle_Type, dtype: int64"
      ]
     },
     "execution_count": 89,
     "metadata": {},
     "output_type": "execute_result"
    }
   ],
   "source": [
    "Vehicles1['Vehicle_Type'].value_counts()"
   ]
  },
  {
   "cell_type": "markdown",
   "metadata": {},
   "source": [
    "we categorize : 1: car 2: bike & horse 3: motorcycle, 4: truck, 5: bus,tram, 6: other"
   ]
  },
  {
   "cell_type": "code",
   "execution_count": 90,
   "metadata": {},
   "outputs": [],
   "source": [
    "\n",
    "Vehicles1['Vehicle_Type'] = [ 3 if element == 2 or element == 3 or element == 4 or element ==5 or element == 23 or element ==97\n",
    "           else 2 if element == 1 or element == 16 or element == 22\n",
    "           else 1 if element ==8 or element ==9\n",
    "           else 4 if element == 19 or element ==17 or element ==20 or element == 21 or element ==98\n",
    "           else 6 if element == 90\n",
    "           else 5 \n",
    "           for element in Vehicles1['Vehicle_Type']]"
   ]
  },
  {
   "cell_type": "code",
   "execution_count": 91,
   "metadata": {},
   "outputs": [
    {
     "data": {
      "text/plain": [
       "1    150197\n",
       "3     18207\n",
       "2     18073\n",
       "4     16411\n",
       "5      4899\n",
       "6      1206\n",
       "Name: Vehicle_Type, dtype: int64"
      ]
     },
     "execution_count": 91,
     "metadata": {},
     "output_type": "execute_result"
    }
   ],
   "source": [
    "Vehicles1['Vehicle_Type'].value_counts()"
   ]
  },
  {
   "cell_type": "markdown",
   "metadata": {},
   "source": [
    "We consider Other Vehicle as missing values"
   ]
  },
  {
   "cell_type": "code",
   "execution_count": 92,
   "metadata": {},
   "outputs": [
    {
     "name": "stderr",
     "output_type": "stream",
     "text": [
      "/Users/vadimbenichou/anaconda3/lib/python3.6/site-packages/pandas/core/indexing.py:189: SettingWithCopyWarning: \n",
      "A value is trying to be set on a copy of a slice from a DataFrame\n",
      "\n",
      "See the caveats in the documentation: http://pandas.pydata.org/pandas-docs/stable/indexing.html#indexing-view-versus-copy\n",
      "  self._setitem_with_indexer(indexer, value)\n"
     ]
    },
    {
     "data": {
      "text/plain": [
       "0"
      ]
     },
     "execution_count": 92,
     "metadata": {},
     "output_type": "execute_result"
    }
   ],
   "source": [
    "Vehicles1['Vehicle_Type'].loc[Vehicles1['Vehicle_Type'] == 6] = np.nan\n",
    "Vehicles1=Vehicles1.dropna(subset=['Vehicle_Type'])\n",
    "pd.isnull(Vehicles1['Vehicle_Type']).sum()"
   ]
  },
  {
   "cell_type": "markdown",
   "metadata": {},
   "source": [
    "#### Categorize Engine Capacity according to the vehicle_Type with the median of the Vehicle_Type"
   ]
  },
  {
   "cell_type": "markdown",
   "metadata": {},
   "source": [
    "Vehicles1['Engine_Capacity_(CC)'].loc[Vehicles1['Vehicle_Type'] == 1].median()*1.5= 2397"
   ]
  },
  {
   "cell_type": "code",
   "execution_count": 93,
   "metadata": {
    "scrolled": true
   },
   "outputs": [],
   "source": [
    "Vehicles1['Engine_Capacity_(CC)'].loc[Vehicles1['Vehicle_Type'] == 1] = [ 1 if element > 0 and element < 2397\n",
    "           else 2\n",
    "           for element in Vehicles1['Engine_Capacity_(CC)'].loc[Vehicles1['Vehicle_Type'] == 1]]"
   ]
  },
  {
   "cell_type": "markdown",
   "metadata": {},
   "source": [
    "Vehicles1['Engine_Capacity_(CC)'].loc[Vehicles1['Vehicle_Type'] == 3].median()*1.5=188"
   ]
  },
  {
   "cell_type": "code",
   "execution_count": 94,
   "metadata": {},
   "outputs": [
    {
     "name": "stderr",
     "output_type": "stream",
     "text": [
      "/Users/vadimbenichou/anaconda3/lib/python3.6/site-packages/pandas/core/indexing.py:189: SettingWithCopyWarning: \n",
      "A value is trying to be set on a copy of a slice from a DataFrame\n",
      "\n",
      "See the caveats in the documentation: http://pandas.pydata.org/pandas-docs/stable/indexing.html#indexing-view-versus-copy\n",
      "  self._setitem_with_indexer(indexer, value)\n"
     ]
    }
   ],
   "source": [
    "Vehicles1['Engine_Capacity_(CC)'].loc[Vehicles1['Vehicle_Type'] == 3] = [ 1 if element > 0 and element < 188\n",
    "           else 2\n",
    "           for element in Vehicles1['Engine_Capacity_(CC)'].loc[Vehicles1['Vehicle_Type'] == 3]]"
   ]
  },
  {
   "cell_type": "markdown",
   "metadata": {},
   "source": [
    "Vehicles1['Engine_Capacity_(CC)'].loc[Vehicles1['Vehicle_Type'] == 4].median()*1.5 = 3297"
   ]
  },
  {
   "cell_type": "code",
   "execution_count": 95,
   "metadata": {},
   "outputs": [
    {
     "name": "stderr",
     "output_type": "stream",
     "text": [
      "/Users/vadimbenichou/anaconda3/lib/python3.6/site-packages/pandas/core/indexing.py:189: SettingWithCopyWarning: \n",
      "A value is trying to be set on a copy of a slice from a DataFrame\n",
      "\n",
      "See the caveats in the documentation: http://pandas.pydata.org/pandas-docs/stable/indexing.html#indexing-view-versus-copy\n",
      "  self._setitem_with_indexer(indexer, value)\n"
     ]
    }
   ],
   "source": [
    "Vehicles1['Engine_Capacity_(CC)'].loc[Vehicles1['Vehicle_Type'] == 4] = [ 1 if element > 0 and element < 3297\n",
    "           else 2\n",
    "           for element in Vehicles1['Engine_Capacity_(CC)'].loc[Vehicles1['Vehicle_Type'] == 4]]"
   ]
  },
  {
   "cell_type": "markdown",
   "metadata": {},
   "source": [
    "Vehicles1['Engine_Capacity_(CC)'].loc[Vehicles1['Vehicle_Type'] == 5].median()*1.5 = 7698"
   ]
  },
  {
   "cell_type": "code",
   "execution_count": 96,
   "metadata": {},
   "outputs": [
    {
     "name": "stderr",
     "output_type": "stream",
     "text": [
      "/Users/vadimbenichou/anaconda3/lib/python3.6/site-packages/pandas/core/indexing.py:189: SettingWithCopyWarning: \n",
      "A value is trying to be set on a copy of a slice from a DataFrame\n",
      "\n",
      "See the caveats in the documentation: http://pandas.pydata.org/pandas-docs/stable/indexing.html#indexing-view-versus-copy\n",
      "  self._setitem_with_indexer(indexer, value)\n"
     ]
    }
   ],
   "source": [
    "Vehicles1['Engine_Capacity_(CC)'].loc[Vehicles1['Vehicle_Type'] == 5] = [ 1 if element > 0 and element < 7698\n",
    "           else 2\n",
    "           for element in Vehicles1['Engine_Capacity_(CC)'].loc[Vehicles1['Vehicle_Type'] == 5]]"
   ]
  },
  {
   "cell_type": "code",
   "execution_count": 97,
   "metadata": {},
   "outputs": [
    {
     "data": {
      "text/plain": [
       "1.5"
      ]
     },
     "execution_count": 97,
     "metadata": {},
     "output_type": "execute_result"
    }
   ],
   "source": [
    "Vehicles1['Engine_Capacity_(CC)'].loc[Vehicles1['Vehicle_Type'] == 5].median()*1.5"
   ]
  },
  {
   "cell_type": "markdown",
   "metadata": {},
   "source": [
    "## Accident 1 Data Engineering"
   ]
  },
  {
   "cell_type": "code",
   "execution_count": 98,
   "metadata": {},
   "outputs": [
    {
     "data": {
      "text/html": [
       "<div>\n",
       "<style scoped>\n",
       "    .dataframe tbody tr th:only-of-type {\n",
       "        vertical-align: middle;\n",
       "    }\n",
       "\n",
       "    .dataframe tbody tr th {\n",
       "        vertical-align: top;\n",
       "    }\n",
       "\n",
       "    .dataframe thead th {\n",
       "        text-align: right;\n",
       "    }\n",
       "</style>\n",
       "<table border=\"1\" class=\"dataframe\">\n",
       "  <thead>\n",
       "    <tr style=\"text-align: right;\">\n",
       "      <th></th>\n",
       "      <th>Accident_Index</th>\n",
       "      <th>Longitude</th>\n",
       "      <th>Latitude</th>\n",
       "      <th>Accident_Severity</th>\n",
       "      <th>Number_of_Vehicles</th>\n",
       "      <th>Number_of_Casualties</th>\n",
       "      <th>Date</th>\n",
       "      <th>Day_of_Week</th>\n",
       "      <th>Time</th>\n",
       "      <th>1st_Road_Class</th>\n",
       "      <th>Road_Type</th>\n",
       "      <th>Speed_limit</th>\n",
       "      <th>Junction_Detail</th>\n",
       "      <th>Junction_Control</th>\n",
       "      <th>Light_Conditions</th>\n",
       "      <th>Weather_Conditions</th>\n",
       "      <th>Road_Surface_Conditions</th>\n",
       "      <th>Urban_or_Rural_Area</th>\n",
       "    </tr>\n",
       "  </thead>\n",
       "  <tbody>\n",
       "    <tr>\n",
       "      <th>0</th>\n",
       "      <td>2017010001708</td>\n",
       "      <td>-0.080107</td>\n",
       "      <td>51.650061</td>\n",
       "      <td>1</td>\n",
       "      <td>2</td>\n",
       "      <td>3</td>\n",
       "      <td>05/08/2017</td>\n",
       "      <td>7</td>\n",
       "      <td>3</td>\n",
       "      <td>3</td>\n",
       "      <td>6.0</td>\n",
       "      <td>30</td>\n",
       "      <td>0.0</td>\n",
       "      <td>0.0</td>\n",
       "      <td>4.0</td>\n",
       "      <td>1.0</td>\n",
       "      <td>1.0</td>\n",
       "      <td>1.0</td>\n",
       "    </tr>\n",
       "    <tr>\n",
       "      <th>1</th>\n",
       "      <td>2017010009342</td>\n",
       "      <td>-0.173845</td>\n",
       "      <td>51.522425</td>\n",
       "      <td>3</td>\n",
       "      <td>2</td>\n",
       "      <td>1</td>\n",
       "      <td>01/01/2017</td>\n",
       "      <td>1</td>\n",
       "      <td>3</td>\n",
       "      <td>3</td>\n",
       "      <td>6.0</td>\n",
       "      <td>30</td>\n",
       "      <td>3.0</td>\n",
       "      <td>4.0</td>\n",
       "      <td>4.0</td>\n",
       "      <td>1.0</td>\n",
       "      <td>2.0</td>\n",
       "      <td>1.0</td>\n",
       "    </tr>\n",
       "    <tr>\n",
       "      <th>2</th>\n",
       "      <td>2017010009344</td>\n",
       "      <td>-0.052969</td>\n",
       "      <td>51.514096</td>\n",
       "      <td>3</td>\n",
       "      <td>3</td>\n",
       "      <td>1</td>\n",
       "      <td>01/01/2017</td>\n",
       "      <td>1</td>\n",
       "      <td>3</td>\n",
       "      <td>3</td>\n",
       "      <td>6.0</td>\n",
       "      <td>30</td>\n",
       "      <td>3.0</td>\n",
       "      <td>4.0</td>\n",
       "      <td>4.0</td>\n",
       "      <td>1.0</td>\n",
       "      <td>1.0</td>\n",
       "      <td>1.0</td>\n",
       "    </tr>\n",
       "    <tr>\n",
       "      <th>3</th>\n",
       "      <td>2017010009348</td>\n",
       "      <td>-0.060658</td>\n",
       "      <td>51.624832</td>\n",
       "      <td>3</td>\n",
       "      <td>2</td>\n",
       "      <td>1</td>\n",
       "      <td>01/01/2017</td>\n",
       "      <td>1</td>\n",
       "      <td>3</td>\n",
       "      <td>3</td>\n",
       "      <td>1.0</td>\n",
       "      <td>30</td>\n",
       "      <td>1.0</td>\n",
       "      <td>4.0</td>\n",
       "      <td>4.0</td>\n",
       "      <td>2.0</td>\n",
       "      <td>2.0</td>\n",
       "      <td>1.0</td>\n",
       "    </tr>\n",
       "    <tr>\n",
       "      <th>4</th>\n",
       "      <td>2017010009350</td>\n",
       "      <td>-0.072372</td>\n",
       "      <td>51.573408</td>\n",
       "      <td>2</td>\n",
       "      <td>1</td>\n",
       "      <td>1</td>\n",
       "      <td>01/01/2017</td>\n",
       "      <td>1</td>\n",
       "      <td>3</td>\n",
       "      <td>3</td>\n",
       "      <td>3.0</td>\n",
       "      <td>20</td>\n",
       "      <td>6.0</td>\n",
       "      <td>2.0</td>\n",
       "      <td>4.0</td>\n",
       "      <td>1.0</td>\n",
       "      <td>2.0</td>\n",
       "      <td>1.0</td>\n",
       "    </tr>\n",
       "  </tbody>\n",
       "</table>\n",
       "</div>"
      ],
      "text/plain": [
       "  Accident_Index  Longitude   Latitude  Accident_Severity  Number_of_Vehicles  \\\n",
       "0  2017010001708  -0.080107  51.650061                  1                   2   \n",
       "1  2017010009342  -0.173845  51.522425                  3                   2   \n",
       "2  2017010009344  -0.052969  51.514096                  3                   3   \n",
       "3  2017010009348  -0.060658  51.624832                  3                   2   \n",
       "4  2017010009350  -0.072372  51.573408                  2                   1   \n",
       "\n",
       "   Number_of_Casualties        Date  Day_of_Week Time  1st_Road_Class  \\\n",
       "0                     3  05/08/2017            7    3               3   \n",
       "1                     1  01/01/2017            1    3               3   \n",
       "2                     1  01/01/2017            1    3               3   \n",
       "3                     1  01/01/2017            1    3               3   \n",
       "4                     1  01/01/2017            1    3               3   \n",
       "\n",
       "   Road_Type  Speed_limit  Junction_Detail  Junction_Control  \\\n",
       "0        6.0           30              0.0               0.0   \n",
       "1        6.0           30              3.0               4.0   \n",
       "2        6.0           30              3.0               4.0   \n",
       "3        1.0           30              1.0               4.0   \n",
       "4        3.0           20              6.0               2.0   \n",
       "\n",
       "   Light_Conditions  Weather_Conditions  Road_Surface_Conditions  \\\n",
       "0               4.0                 1.0                      1.0   \n",
       "1               4.0                 1.0                      2.0   \n",
       "2               4.0                 1.0                      1.0   \n",
       "3               4.0                 2.0                      2.0   \n",
       "4               4.0                 1.0                      2.0   \n",
       "\n",
       "   Urban_or_Rural_Area  \n",
       "0                  1.0  \n",
       "1                  1.0  \n",
       "2                  1.0  \n",
       "3                  1.0  \n",
       "4                  1.0  "
      ]
     },
     "execution_count": 98,
     "metadata": {},
     "output_type": "execute_result"
    }
   ],
   "source": [
    "Accident1.head()"
   ]
  },
  {
   "cell_type": "markdown",
   "metadata": {},
   "source": [
    "Add column with the month, it will be more useful than Date"
   ]
  },
  {
   "cell_type": "code",
   "execution_count": 99,
   "metadata": {
    "scrolled": true
   },
   "outputs": [
    {
     "data": {
      "text/html": [
       "<div>\n",
       "<style scoped>\n",
       "    .dataframe tbody tr th:only-of-type {\n",
       "        vertical-align: middle;\n",
       "    }\n",
       "\n",
       "    .dataframe tbody tr th {\n",
       "        vertical-align: top;\n",
       "    }\n",
       "\n",
       "    .dataframe thead th {\n",
       "        text-align: right;\n",
       "    }\n",
       "</style>\n",
       "<table border=\"1\" class=\"dataframe\">\n",
       "  <thead>\n",
       "    <tr style=\"text-align: right;\">\n",
       "      <th></th>\n",
       "      <th>Month</th>\n",
       "      <th>Date</th>\n",
       "    </tr>\n",
       "  </thead>\n",
       "  <tbody>\n",
       "    <tr>\n",
       "      <th>0</th>\n",
       "      <td>08</td>\n",
       "      <td>05/08/2017</td>\n",
       "    </tr>\n",
       "    <tr>\n",
       "      <th>1</th>\n",
       "      <td>01</td>\n",
       "      <td>01/01/2017</td>\n",
       "    </tr>\n",
       "    <tr>\n",
       "      <th>2</th>\n",
       "      <td>01</td>\n",
       "      <td>01/01/2017</td>\n",
       "    </tr>\n",
       "    <tr>\n",
       "      <th>3</th>\n",
       "      <td>01</td>\n",
       "      <td>01/01/2017</td>\n",
       "    </tr>\n",
       "    <tr>\n",
       "      <th>4</th>\n",
       "      <td>01</td>\n",
       "      <td>01/01/2017</td>\n",
       "    </tr>\n",
       "  </tbody>\n",
       "</table>\n",
       "</div>"
      ],
      "text/plain": [
       "  Month        Date\n",
       "0    08  05/08/2017\n",
       "1    01  01/01/2017\n",
       "2    01  01/01/2017\n",
       "3    01  01/01/2017\n",
       "4    01  01/01/2017"
      ]
     },
     "execution_count": 99,
     "metadata": {},
     "output_type": "execute_result"
    }
   ],
   "source": [
    "Accident1['Month']=Accident1['Date'].str.split(\"/\",expand=True)[1]\n",
    "Accident1[['Month','Date']].head()"
   ]
  },
  {
   "cell_type": "code",
   "execution_count": 100,
   "metadata": {},
   "outputs": [],
   "source": [
    "Accident1.drop(['Date'],inplace=True, axis=1)"
   ]
  },
  {
   "cell_type": "markdown",
   "metadata": {},
   "source": [
    "Accident_Severity : Make a binary column\n",
    "\n",
    "0 : Slight Accident\n",
    "\n",
    "1 : Serious Accident"
   ]
  },
  {
   "cell_type": "code",
   "execution_count": 101,
   "metadata": {},
   "outputs": [],
   "source": [
    "Accident1['Accident_Severity'] = [ 0 if element == 3\n",
    "            else 1\n",
    "            for element in Accident1['Accident_Severity']]"
   ]
  },
  {
   "cell_type": "code",
   "execution_count": 102,
   "metadata": {},
   "outputs": [
    {
     "data": {
      "text/plain": [
       "0    102776\n",
       "1     24011\n",
       "Name: Accident_Severity, dtype: int64"
      ]
     },
     "execution_count": 102,
     "metadata": {},
     "output_type": "execute_result"
    }
   ],
   "source": [
    "Accident1['Accident_Severity'].value_counts()"
   ]
  },
  {
   "cell_type": "markdown",
   "metadata": {},
   "source": [
    "# Merge of the 3 datasets"
   ]
  },
  {
   "cell_type": "code",
   "execution_count": 103,
   "metadata": {},
   "outputs": [],
   "source": [
    "Data=pd.merge(Accident1, Casualties1, on = 'Accident_Index')\n",
    "Data1=pd.merge(Data, Vehicles1, on = 'Accident_Index')"
   ]
  },
  {
   "cell_type": "code",
   "execution_count": 104,
   "metadata": {},
   "outputs": [
    {
     "data": {
      "text/plain": [
       "((126787, 18), (168099, 6), (207787, 7))"
      ]
     },
     "execution_count": 104,
     "metadata": {},
     "output_type": "execute_result"
    }
   ],
   "source": [
    "Accident1.shape, Casualties1.shape, Vehicles1.shape"
   ]
  },
  {
   "cell_type": "code",
   "execution_count": 105,
   "metadata": {},
   "outputs": [
    {
     "data": {
      "text/plain": [
       "(288635, 29)"
      ]
     },
     "execution_count": 105,
     "metadata": {},
     "output_type": "execute_result"
    }
   ],
   "source": [
    "Data1.shape"
   ]
  },
  {
   "cell_type": "code",
   "execution_count": 106,
   "metadata": {},
   "outputs": [
    {
     "data": {
      "text/plain": [
       "0    246491\n",
       "1     42144\n",
       "Name: Casualty_Severity, dtype: int64"
      ]
     },
     "execution_count": 106,
     "metadata": {},
     "output_type": "execute_result"
    }
   ],
   "source": [
    "Data1['Casualty_Severity'].value_counts()"
   ]
  },
  {
   "cell_type": "code",
   "execution_count": 107,
   "metadata": {},
   "outputs": [
    {
     "data": {
      "text/html": [
       "<div>\n",
       "<style scoped>\n",
       "    .dataframe tbody tr th:only-of-type {\n",
       "        vertical-align: middle;\n",
       "    }\n",
       "\n",
       "    .dataframe tbody tr th {\n",
       "        vertical-align: top;\n",
       "    }\n",
       "\n",
       "    .dataframe thead th {\n",
       "        text-align: right;\n",
       "    }\n",
       "</style>\n",
       "<table border=\"1\" class=\"dataframe\">\n",
       "  <thead>\n",
       "    <tr style=\"text-align: right;\">\n",
       "      <th></th>\n",
       "      <th>Accident_Index</th>\n",
       "      <th>Longitude</th>\n",
       "      <th>Latitude</th>\n",
       "      <th>Accident_Severity</th>\n",
       "      <th>Number_of_Vehicles</th>\n",
       "      <th>Number_of_Casualties</th>\n",
       "      <th>Day_of_Week</th>\n",
       "      <th>Time</th>\n",
       "      <th>1st_Road_Class</th>\n",
       "      <th>Road_Type</th>\n",
       "      <th>...</th>\n",
       "      <th>Sex_of_Casualty</th>\n",
       "      <th>Age_Band_of_Casualty</th>\n",
       "      <th>Casualty_Severity</th>\n",
       "      <th>Casualty_Type</th>\n",
       "      <th>Vehicle_Type</th>\n",
       "      <th>Vehicle_Manoeuvre</th>\n",
       "      <th>1st_Point_of_Impact</th>\n",
       "      <th>Sex_of_Driver</th>\n",
       "      <th>Age_Band_of_Driver</th>\n",
       "      <th>Engine_Capacity_(CC)</th>\n",
       "    </tr>\n",
       "  </thead>\n",
       "  <tbody>\n",
       "    <tr>\n",
       "      <th>0</th>\n",
       "      <td>2017010001708</td>\n",
       "      <td>-0.080107</td>\n",
       "      <td>51.650061</td>\n",
       "      <td>1</td>\n",
       "      <td>2</td>\n",
       "      <td>3</td>\n",
       "      <td>7</td>\n",
       "      <td>3</td>\n",
       "      <td>3</td>\n",
       "      <td>6.0</td>\n",
       "      <td>...</td>\n",
       "      <td>2.0</td>\n",
       "      <td>3</td>\n",
       "      <td>0</td>\n",
       "      <td>1.0</td>\n",
       "      <td>1.0</td>\n",
       "      <td>18.0</td>\n",
       "      <td>1.0</td>\n",
       "      <td>1.0</td>\n",
       "      <td>3</td>\n",
       "      <td>1.0</td>\n",
       "    </tr>\n",
       "    <tr>\n",
       "      <th>1</th>\n",
       "      <td>2017010001708</td>\n",
       "      <td>-0.080107</td>\n",
       "      <td>51.650061</td>\n",
       "      <td>1</td>\n",
       "      <td>2</td>\n",
       "      <td>3</td>\n",
       "      <td>7</td>\n",
       "      <td>3</td>\n",
       "      <td>3</td>\n",
       "      <td>6.0</td>\n",
       "      <td>...</td>\n",
       "      <td>2.0</td>\n",
       "      <td>3</td>\n",
       "      <td>0</td>\n",
       "      <td>1.0</td>\n",
       "      <td>3.0</td>\n",
       "      <td>18.0</td>\n",
       "      <td>2.0</td>\n",
       "      <td>1.0</td>\n",
       "      <td>3</td>\n",
       "      <td>1.0</td>\n",
       "    </tr>\n",
       "    <tr>\n",
       "      <th>2</th>\n",
       "      <td>2017010001708</td>\n",
       "      <td>-0.080107</td>\n",
       "      <td>51.650061</td>\n",
       "      <td>1</td>\n",
       "      <td>2</td>\n",
       "      <td>3</td>\n",
       "      <td>7</td>\n",
       "      <td>3</td>\n",
       "      <td>3</td>\n",
       "      <td>6.0</td>\n",
       "      <td>...</td>\n",
       "      <td>1.0</td>\n",
       "      <td>3</td>\n",
       "      <td>1</td>\n",
       "      <td>3.0</td>\n",
       "      <td>1.0</td>\n",
       "      <td>18.0</td>\n",
       "      <td>1.0</td>\n",
       "      <td>1.0</td>\n",
       "      <td>3</td>\n",
       "      <td>1.0</td>\n",
       "    </tr>\n",
       "    <tr>\n",
       "      <th>3</th>\n",
       "      <td>2017010001708</td>\n",
       "      <td>-0.080107</td>\n",
       "      <td>51.650061</td>\n",
       "      <td>1</td>\n",
       "      <td>2</td>\n",
       "      <td>3</td>\n",
       "      <td>7</td>\n",
       "      <td>3</td>\n",
       "      <td>3</td>\n",
       "      <td>6.0</td>\n",
       "      <td>...</td>\n",
       "      <td>1.0</td>\n",
       "      <td>3</td>\n",
       "      <td>1</td>\n",
       "      <td>3.0</td>\n",
       "      <td>3.0</td>\n",
       "      <td>18.0</td>\n",
       "      <td>2.0</td>\n",
       "      <td>1.0</td>\n",
       "      <td>3</td>\n",
       "      <td>1.0</td>\n",
       "    </tr>\n",
       "    <tr>\n",
       "      <th>4</th>\n",
       "      <td>2017010001708</td>\n",
       "      <td>-0.080107</td>\n",
       "      <td>51.650061</td>\n",
       "      <td>1</td>\n",
       "      <td>2</td>\n",
       "      <td>3</td>\n",
       "      <td>7</td>\n",
       "      <td>3</td>\n",
       "      <td>3</td>\n",
       "      <td>6.0</td>\n",
       "      <td>...</td>\n",
       "      <td>1.0</td>\n",
       "      <td>3</td>\n",
       "      <td>1</td>\n",
       "      <td>3.0</td>\n",
       "      <td>1.0</td>\n",
       "      <td>18.0</td>\n",
       "      <td>1.0</td>\n",
       "      <td>1.0</td>\n",
       "      <td>3</td>\n",
       "      <td>1.0</td>\n",
       "    </tr>\n",
       "  </tbody>\n",
       "</table>\n",
       "<p>5 rows × 29 columns</p>\n",
       "</div>"
      ],
      "text/plain": [
       "  Accident_Index  Longitude   Latitude  Accident_Severity  Number_of_Vehicles  \\\n",
       "0  2017010001708  -0.080107  51.650061                  1                   2   \n",
       "1  2017010001708  -0.080107  51.650061                  1                   2   \n",
       "2  2017010001708  -0.080107  51.650061                  1                   2   \n",
       "3  2017010001708  -0.080107  51.650061                  1                   2   \n",
       "4  2017010001708  -0.080107  51.650061                  1                   2   \n",
       "\n",
       "   Number_of_Casualties  Day_of_Week Time  1st_Road_Class  Road_Type  \\\n",
       "0                     3            7    3               3        6.0   \n",
       "1                     3            7    3               3        6.0   \n",
       "2                     3            7    3               3        6.0   \n",
       "3                     3            7    3               3        6.0   \n",
       "4                     3            7    3               3        6.0   \n",
       "\n",
       "           ...           Sex_of_Casualty  Age_Band_of_Casualty  \\\n",
       "0          ...                       2.0                     3   \n",
       "1          ...                       2.0                     3   \n",
       "2          ...                       1.0                     3   \n",
       "3          ...                       1.0                     3   \n",
       "4          ...                       1.0                     3   \n",
       "\n",
       "   Casualty_Severity  Casualty_Type  Vehicle_Type  Vehicle_Manoeuvre  \\\n",
       "0                  0            1.0           1.0               18.0   \n",
       "1                  0            1.0           3.0               18.0   \n",
       "2                  1            3.0           1.0               18.0   \n",
       "3                  1            3.0           3.0               18.0   \n",
       "4                  1            3.0           1.0               18.0   \n",
       "\n",
       "   1st_Point_of_Impact Sex_of_Driver  Age_Band_of_Driver  Engine_Capacity_(CC)  \n",
       "0                  1.0           1.0                   3                   1.0  \n",
       "1                  2.0           1.0                   3                   1.0  \n",
       "2                  1.0           1.0                   3                   1.0  \n",
       "3                  2.0           1.0                   3                   1.0  \n",
       "4                  1.0           1.0                   3                   1.0  \n",
       "\n",
       "[5 rows x 29 columns]"
      ]
     },
     "execution_count": 107,
     "metadata": {},
     "output_type": "execute_result"
    }
   ],
   "source": [
    "Data1.head()"
   ]
  },
  {
   "cell_type": "code",
   "execution_count": 108,
   "metadata": {},
   "outputs": [
    {
     "name": "stderr",
     "output_type": "stream",
     "text": [
      "/Users/vadimbenichou/anaconda3/lib/python3.6/site-packages/ipykernel_launcher.py:1: SettingWithCopyWarning: \n",
      "A value is trying to be set on a copy of a slice from a DataFrame\n",
      "\n",
      "See the caveats in the documentation: http://pandas.pydata.org/pandas-docs/stable/indexing.html#indexing-view-versus-copy\n",
      "  \"\"\"Entry point for launching an IPython kernel.\n"
     ]
    }
   ],
   "source": [
    "Data1['Sex_of_Driver'][Data1['Sex_of_Driver']== 3]=np.nan\n",
    "Data1Bis=Data1.copy()\n",
    "Data1Bis.drop(['Month','Accident_Index','Road_Surface_Conditions','Light_Conditions'], inplace = True, axis=1)\n"
   ]
  },
  {
   "cell_type": "code",
   "execution_count": 109,
   "metadata": {},
   "outputs": [],
   "source": [
    "# dataset2 : we keep all instances having missing values and we drop \n",
    "Data3=Data1Bis[Data1Bis['Sex_of_Driver'].isnull()] \n",
    "Data3 = Data3.drop(['Sex_of_Driver'],axis=1) "
   ]
  },
  {
   "cell_type": "code",
   "execution_count": 110,
   "metadata": {},
   "outputs": [
    {
     "data": {
      "text/plain": [
       "((286513, 24), (2122, 24), (286513,))"
      ]
     },
     "execution_count": 110,
     "metadata": {},
     "output_type": "execute_result"
    }
   ],
   "source": [
    "Data2=Data1Bis.dropna(subset=['Sex_of_Driver'])\n",
    "y=Data2['Sex_of_Driver']\n",
    "Data2=Data2.drop(['Sex_of_Driver'],axis=1)\n",
    "\n",
    "Data2.shape, Data3.shape, y.shape"
   ]
  },
  {
   "cell_type": "code",
   "execution_count": 111,
   "metadata": {},
   "outputs": [
    {
     "name": "stdout",
     "output_type": "stream",
     "text": [
      "79.49\n"
     ]
    }
   ],
   "source": [
    "X_training,X_validation,Y_training,Y_validation = train_test_split(Data2,y, test_size = 0.2, random_state = 21)\n",
    "\n",
    "clf = DecisionTreeClassifier(max_depth=13)\n",
    "clf.fit(X_training,Y_training)\n",
    "y_pred = clf.predict(X_validation)\n",
    "\n",
    "y_pred = y_pred.tolist()\n",
    "acc_DecTree = round(accuracy_score(y_pred, Y_validation) * 100, 2)\n",
    "print(acc_DecTree)"
   ]
  },
  {
   "cell_type": "markdown",
   "metadata": {},
   "source": [
    "Accuracy > 75% we can now use the decision tree "
   ]
  },
  {
   "cell_type": "code",
   "execution_count": 112,
   "metadata": {},
   "outputs": [],
   "source": [
    "clf = DecisionTreeClassifier(max_depth=13)\n",
    "clf.fit(Data2,y )\n",
    "\n",
    "y_pred = clf.predict(Data3)\n",
    "\n",
    "y_pred = y_pred.tolist()\n",
    "\n",
    "for x in y_pred:\n",
    "    Data1['Sex_of_Driver'] = Data1['Sex_of_Driver'].fillna(x)"
   ]
  },
  {
   "cell_type": "code",
   "execution_count": 113,
   "metadata": {},
   "outputs": [
    {
     "data": {
      "text/plain": [
       "Accident_Index             0\n",
       "Longitude                  0\n",
       "Latitude                   0\n",
       "Accident_Severity          0\n",
       "Number_of_Vehicles         0\n",
       "Number_of_Casualties       0\n",
       "Day_of_Week                0\n",
       "Time                       0\n",
       "1st_Road_Class             0\n",
       "Road_Type                  0\n",
       "Speed_limit                0\n",
       "Junction_Detail            0\n",
       "Junction_Control           0\n",
       "Light_Conditions           0\n",
       "Weather_Conditions         0\n",
       "Road_Surface_Conditions    0\n",
       "Urban_or_Rural_Area        0\n",
       "Month                      0\n",
       "Casualty_Class             0\n",
       "Sex_of_Casualty            0\n",
       "Age_Band_of_Casualty       0\n",
       "Casualty_Severity          0\n",
       "Casualty_Type              0\n",
       "Vehicle_Type               0\n",
       "Vehicle_Manoeuvre          0\n",
       "1st_Point_of_Impact        0\n",
       "Sex_of_Driver              0\n",
       "Age_Band_of_Driver         0\n",
       "Engine_Capacity_(CC)       0\n",
       "dtype: int64"
      ]
     },
     "execution_count": 113,
     "metadata": {},
     "output_type": "execute_result"
    }
   ],
   "source": [
    "pd.isnull(Data1).sum()"
   ]
  },
  {
   "cell_type": "markdown",
   "metadata": {},
   "source": [
    "#### we decide to have a second look at our final data set, to be sure it fit our end goal, which is to understand the factor that affect the severity of an accident.\n",
    "\n",
    "First of all, the variable casualty_Severity is too correlated to our target variable, the Accident_severity, so it shouldn't be kept in the model.\n",
    "Some variables don't have a direct impact on the issue (Circumstances) of the accident,\n",
    "Indeed the sex of casualties and number of them ,can't impact directly on the severity of the accident so we decide to delete this two variables.\n",
    "\n",
    "Casualty_class and casualty_type are too corelated so we decide to keep only the casualty_class variable on our dataset."
   ]
  },
  {
   "cell_type": "code",
   "execution_count": 114,
   "metadata": {},
   "outputs": [],
   "source": [
    "Data1.drop(['Sex_of_Casualty','Casualty_Type','Number_of_Casualties','Casualty_Severity'], inplace = True, axis=1)"
   ]
  },
  {
   "cell_type": "code",
   "execution_count": 115,
   "metadata": {},
   "outputs": [],
   "source": [
    "Data2=Data1.copy()\n",
    "Data2.drop(['Accident_Index'], inplace = True, axis=1)"
   ]
  },
  {
   "cell_type": "markdown",
   "metadata": {},
   "source": [
    "# Data Visualization"
   ]
  },
  {
   "cell_type": "markdown",
   "metadata": {},
   "source": [
    "Histogram according the Accident_Severity and the Light_Conditions"
   ]
  },
  {
   "cell_type": "code",
   "execution_count": 116,
   "metadata": {
    "scrolled": false
   },
   "outputs": [
    {
     "data": {
      "image/png": "[encoded data removed]",
      "text/plain": [
       "<Figure size 432x216 with 2 Axes>"
      ]
     },
     "metadata": {},
     "output_type": "display_data"
    }
   ],
   "source": [
    "g = sns.FacetGrid(Data1, col='Accident_Severity')\n",
    "g = g.map(plt.hist, \"Light_Conditions\")"
   ]
  },
  {
   "cell_type": "markdown",
   "metadata": {},
   "source": [
    "Distribution of Accident according to the Day"
   ]
  },
  {
   "cell_type": "code",
   "execution_count": 117,
   "metadata": {
    "scrolled": true
   },
   "outputs": [
    {
     "data": {
      "image/png": "[encoded data removed]",
      "text/plain": [
       "<Figure size 432x288 with 1 Axes>"
      ]
     },
     "metadata": {},
     "output_type": "display_data"
    }
   ],
   "source": [
    "plt.hist(Data1['Day_of_Week'], bins='auto')  \n",
    "plt.show()"
   ]
  },
  {
   "cell_type": "markdown",
   "metadata": {},
   "source": [
    "Distribution of the accident according to the Severity of it during the day"
   ]
  },
  {
   "cell_type": "code",
   "execution_count": 118,
   "metadata": {
    "scrolled": false
   },
   "outputs": [
    {
     "name": "stderr",
     "output_type": "stream",
     "text": [
      "/Users/vadimbenichou/anaconda3/lib/python3.6/site-packages/matplotlib/axes/_axes.py:6462: UserWarning: The 'normed' kwarg is deprecated, and has been replaced by the 'density' kwarg.\n",
      "  warnings.warn(\"The 'normed' kwarg is deprecated, and has been \"\n",
      "/Users/vadimbenichou/anaconda3/lib/python3.6/site-packages/matplotlib/axes/_axes.py:6462: UserWarning: The 'normed' kwarg is deprecated, and has been replaced by the 'density' kwarg.\n",
      "  warnings.warn(\"The 'normed' kwarg is deprecated, and has been \"\n",
      "/Users/vadimbenichou/anaconda3/lib/python3.6/site-packages/matplotlib/axes/_axes.py:6462: UserWarning: The 'normed' kwarg is deprecated, and has been replaced by the 'density' kwarg.\n",
      "  warnings.warn(\"The 'normed' kwarg is deprecated, and has been \"\n"
     ]
    },
    {
     "data": {
      "image/png": "[encoded data removed]",
      "text/plain": [
       "<Figure size 648x216 with 3 Axes>"
      ]
     },
     "metadata": {},
     "output_type": "display_data"
    }
   ],
   "source": [
    "Accident5=Accident.copy()\n",
    "Accident5['Time']=Accident5['Time'].str.split(\":\",expand=True)[0] \n",
    "Accident5['Time'] = Accident5['Time'].astype('float64') \n",
    "g = sns.FacetGrid(Accident5, col='Accident_Severity')\n",
    "g = g.map(sns.distplot, \"Time\")"
   ]
  },
  {
   "cell_type": "markdown",
   "metadata": {},
   "source": [
    "Distribution of the accident during the day of the week and the moment of the day"
   ]
  },
  {
   "cell_type": "code",
   "execution_count": 119,
   "metadata": {
    "scrolled": false
   },
   "outputs": [
    {
     "name": "stderr",
     "output_type": "stream",
     "text": [
      "/Users/vadimbenichou/anaconda3/lib/python3.6/site-packages/matplotlib/axes/_axes.py:6462: UserWarning: The 'normed' kwarg is deprecated, and has been replaced by the 'density' kwarg.\n",
      "  warnings.warn(\"The 'normed' kwarg is deprecated, and has been \"\n",
      "/Users/vadimbenichou/anaconda3/lib/python3.6/site-packages/matplotlib/axes/_axes.py:6462: UserWarning: The 'normed' kwarg is deprecated, and has been replaced by the 'density' kwarg.\n",
      "  warnings.warn(\"The 'normed' kwarg is deprecated, and has been \"\n",
      "/Users/vadimbenichou/anaconda3/lib/python3.6/site-packages/matplotlib/axes/_axes.py:6462: UserWarning: The 'normed' kwarg is deprecated, and has been replaced by the 'density' kwarg.\n",
      "  warnings.warn(\"The 'normed' kwarg is deprecated, and has been \"\n",
      "/Users/vadimbenichou/anaconda3/lib/python3.6/site-packages/matplotlib/axes/_axes.py:6462: UserWarning: The 'normed' kwarg is deprecated, and has been replaced by the 'density' kwarg.\n",
      "  warnings.warn(\"The 'normed' kwarg is deprecated, and has been \"\n"
     ]
    },
    {
     "data": {
      "image/png": "[encoded data removed]",
      "text/plain": [
       "<Figure size 864x216 with 4 Axes>"
      ]
     },
     "metadata": {},
     "output_type": "display_data"
    }
   ],
   "source": [
    "g = sns.FacetGrid(Data1, col='Time')\n",
    "g = g.map(sns.distplot, \"Day_of_Week\")"
   ]
  },
  {
   "cell_type": "markdown",
   "metadata": {},
   "source": [
    "Distribution of the number of car involve in the accident "
   ]
  },
  {
   "cell_type": "code",
   "execution_count": 120,
   "metadata": {
    "scrolled": true
   },
   "outputs": [
    {
     "data": {
      "text/plain": [
       "(array([     0.,  37693., 180822.,  45931.,  15248.,   5116.,   1848.,\n",
       "           943.,    611.]),\n",
       " array([0, 1, 2, 3, 4, 5, 6, 7, 8, 9]),\n",
       " <a list of 9 Patch objects>)"
      ]
     },
     "execution_count": 120,
     "metadata": {},
     "output_type": "execute_result"
    },
    {
     "data": {
      "image/png": "[encoded data removed]",
      "text/plain": [
       "<Figure size 432x288 with 1 Axes>"
      ]
     },
     "metadata": {},
     "output_type": "display_data"
    }
   ],
   "source": [
    "plt.hist(Data1['Number_of_Vehicles'], bins=range(0,10))  "
   ]
  },
  {
   "cell_type": "markdown",
   "metadata": {},
   "source": [
    "Gravity of the accident according the Surface condition of the road"
   ]
  },
  {
   "cell_type": "code",
   "execution_count": 121,
   "metadata": {
    "scrolled": false
   },
   "outputs": [
    {
     "name": "stderr",
     "output_type": "stream",
     "text": [
      "/Users/vadimbenichou/anaconda3/lib/python3.6/site-packages/seaborn/axisgrid.py:703: UserWarning: Using the countplot function without specifying `order` is likely to produce an incorrect plot.\n",
      "  warnings.warn(warning)\n"
     ]
    },
    {
     "data": {
      "image/png": "[encoded data removed]",
      "text/plain": [
       "<Figure size 432x216 with 2 Axes>"
      ]
     },
     "metadata": {},
     "output_type": "display_data"
    }
   ],
   "source": [
    "g= sns.FacetGrid(Data1,col='Accident_Severity')\n",
    "g=g.map(sns.countplot,'Road_Surface_Conditions')"
   ]
  },
  {
   "cell_type": "markdown",
   "metadata": {},
   "source": [
    "Severity of the accident according the weather"
   ]
  },
  {
   "cell_type": "code",
   "execution_count": 122,
   "metadata": {
    "scrolled": true
   },
   "outputs": [
    {
     "name": "stderr",
     "output_type": "stream",
     "text": [
      "/Users/vadimbenichou/anaconda3/lib/python3.6/site-packages/seaborn/axisgrid.py:703: UserWarning: Using the countplot function without specifying `order` is likely to produce an incorrect plot.\n",
      "  warnings.warn(warning)\n"
     ]
    },
    {
     "data": {
      "image/png": "[encoded data removed]",
      "text/plain": [
       "<Figure size 432x216 with 2 Axes>"
      ]
     },
     "metadata": {},
     "output_type": "display_data"
    }
   ],
   "source": [
    "g= sns.FacetGrid(Data1,col='Accident_Severity')\n",
    "g=g.map(sns.countplot,'Weather_Conditions')"
   ]
  },
  {
   "cell_type": "markdown",
   "metadata": {},
   "source": [
    "Distribution of the accident according to the age of the driver"
   ]
  },
  {
   "cell_type": "code",
   "execution_count": 123,
   "metadata": {},
   "outputs": [
    {
     "name": "stderr",
     "output_type": "stream",
     "text": [
      "/Users/vadimbenichou/anaconda3/lib/python3.6/site-packages/seaborn/axisgrid.py:703: UserWarning: Using the countplot function without specifying `order` is likely to produce an incorrect plot.\n",
      "  warnings.warn(warning)\n"
     ]
    },
    {
     "data": {
      "image/png": "[encoded data removed]",
      "text/plain": [
       "<Figure size 432x216 with 2 Axes>"
      ]
     },
     "metadata": {},
     "output_type": "display_data"
    }
   ],
   "source": [
    "g= sns.FacetGrid(Data1,col='Accident_Severity')\n",
    "g=g.map(sns.countplot,'Age_Band_of_Casualty')"
   ]
  },
  {
   "cell_type": "markdown",
   "metadata": {},
   "source": [
    "# RIDGE"
   ]
  },
  {
   "cell_type": "code",
   "execution_count": 124,
   "metadata": {},
   "outputs": [],
   "source": [
    "X = Data2\n",
    "Y = Data2[\"Accident_Severity\"]\n",
    "X = X.drop(\"Accident_Severity\", axis=1)"
   ]
  },
  {
   "cell_type": "code",
   "execution_count": 125,
   "metadata": {
    "scrolled": true
   },
   "outputs": [
    {
     "data": {
      "text/html": [
       "<div>\n",
       "<style scoped>\n",
       "    .dataframe tbody tr th:only-of-type {\n",
       "        vertical-align: middle;\n",
       "    }\n",
       "\n",
       "    .dataframe tbody tr th {\n",
       "        vertical-align: top;\n",
       "    }\n",
       "\n",
       "    .dataframe thead th {\n",
       "        text-align: right;\n",
       "    }\n",
       "</style>\n",
       "<table border=\"1\" class=\"dataframe\">\n",
       "  <thead>\n",
       "    <tr style=\"text-align: right;\">\n",
       "      <th></th>\n",
       "      <th>Longitude</th>\n",
       "      <th>Latitude</th>\n",
       "      <th>Number_of_Vehicles</th>\n",
       "      <th>Day_of_Week</th>\n",
       "      <th>Time</th>\n",
       "      <th>1st_Road_Class</th>\n",
       "      <th>Road_Type</th>\n",
       "      <th>Speed_limit</th>\n",
       "      <th>Junction_Detail</th>\n",
       "      <th>Junction_Control</th>\n",
       "      <th>...</th>\n",
       "      <th>Urban_or_Rural_Area</th>\n",
       "      <th>Month</th>\n",
       "      <th>Casualty_Class</th>\n",
       "      <th>Age_Band_of_Casualty</th>\n",
       "      <th>Vehicle_Type</th>\n",
       "      <th>Vehicle_Manoeuvre</th>\n",
       "      <th>1st_Point_of_Impact</th>\n",
       "      <th>Sex_of_Driver</th>\n",
       "      <th>Age_Band_of_Driver</th>\n",
       "      <th>Engine_Capacity_(CC)</th>\n",
       "    </tr>\n",
       "  </thead>\n",
       "  <tbody>\n",
       "    <tr>\n",
       "      <th>0</th>\n",
       "      <td>-0.080107</td>\n",
       "      <td>51.650061</td>\n",
       "      <td>2</td>\n",
       "      <td>7</td>\n",
       "      <td>3</td>\n",
       "      <td>3</td>\n",
       "      <td>6.0</td>\n",
       "      <td>30</td>\n",
       "      <td>0.0</td>\n",
       "      <td>0.0</td>\n",
       "      <td>...</td>\n",
       "      <td>1.0</td>\n",
       "      <td>08</td>\n",
       "      <td>2</td>\n",
       "      <td>3</td>\n",
       "      <td>1.0</td>\n",
       "      <td>18.0</td>\n",
       "      <td>1.0</td>\n",
       "      <td>1.0</td>\n",
       "      <td>3</td>\n",
       "      <td>1.0</td>\n",
       "    </tr>\n",
       "    <tr>\n",
       "      <th>1</th>\n",
       "      <td>-0.080107</td>\n",
       "      <td>51.650061</td>\n",
       "      <td>2</td>\n",
       "      <td>7</td>\n",
       "      <td>3</td>\n",
       "      <td>3</td>\n",
       "      <td>6.0</td>\n",
       "      <td>30</td>\n",
       "      <td>0.0</td>\n",
       "      <td>0.0</td>\n",
       "      <td>...</td>\n",
       "      <td>1.0</td>\n",
       "      <td>08</td>\n",
       "      <td>2</td>\n",
       "      <td>3</td>\n",
       "      <td>3.0</td>\n",
       "      <td>18.0</td>\n",
       "      <td>2.0</td>\n",
       "      <td>1.0</td>\n",
       "      <td>3</td>\n",
       "      <td>1.0</td>\n",
       "    </tr>\n",
       "    <tr>\n",
       "      <th>2</th>\n",
       "      <td>-0.080107</td>\n",
       "      <td>51.650061</td>\n",
       "      <td>2</td>\n",
       "      <td>7</td>\n",
       "      <td>3</td>\n",
       "      <td>3</td>\n",
       "      <td>6.0</td>\n",
       "      <td>30</td>\n",
       "      <td>0.0</td>\n",
       "      <td>0.0</td>\n",
       "      <td>...</td>\n",
       "      <td>1.0</td>\n",
       "      <td>08</td>\n",
       "      <td>1</td>\n",
       "      <td>3</td>\n",
       "      <td>1.0</td>\n",
       "      <td>18.0</td>\n",
       "      <td>1.0</td>\n",
       "      <td>1.0</td>\n",
       "      <td>3</td>\n",
       "      <td>1.0</td>\n",
       "    </tr>\n",
       "    <tr>\n",
       "      <th>3</th>\n",
       "      <td>-0.080107</td>\n",
       "      <td>51.650061</td>\n",
       "      <td>2</td>\n",
       "      <td>7</td>\n",
       "      <td>3</td>\n",
       "      <td>3</td>\n",
       "      <td>6.0</td>\n",
       "      <td>30</td>\n",
       "      <td>0.0</td>\n",
       "      <td>0.0</td>\n",
       "      <td>...</td>\n",
       "      <td>1.0</td>\n",
       "      <td>08</td>\n",
       "      <td>1</td>\n",
       "      <td>3</td>\n",
       "      <td>3.0</td>\n",
       "      <td>18.0</td>\n",
       "      <td>2.0</td>\n",
       "      <td>1.0</td>\n",
       "      <td>3</td>\n",
       "      <td>1.0</td>\n",
       "    </tr>\n",
       "    <tr>\n",
       "      <th>4</th>\n",
       "      <td>-0.080107</td>\n",
       "      <td>51.650061</td>\n",
       "      <td>2</td>\n",
       "      <td>7</td>\n",
       "      <td>3</td>\n",
       "      <td>3</td>\n",
       "      <td>6.0</td>\n",
       "      <td>30</td>\n",
       "      <td>0.0</td>\n",
       "      <td>0.0</td>\n",
       "      <td>...</td>\n",
       "      <td>1.0</td>\n",
       "      <td>08</td>\n",
       "      <td>2</td>\n",
       "      <td>3</td>\n",
       "      <td>1.0</td>\n",
       "      <td>18.0</td>\n",
       "      <td>1.0</td>\n",
       "      <td>1.0</td>\n",
       "      <td>3</td>\n",
       "      <td>1.0</td>\n",
       "    </tr>\n",
       "  </tbody>\n",
       "</table>\n",
       "<p>5 rows × 23 columns</p>\n",
       "</div>"
      ],
      "text/plain": [
       "   Longitude   Latitude  Number_of_Vehicles  Day_of_Week Time  1st_Road_Class  \\\n",
       "0  -0.080107  51.650061                   2            7    3               3   \n",
       "1  -0.080107  51.650061                   2            7    3               3   \n",
       "2  -0.080107  51.650061                   2            7    3               3   \n",
       "3  -0.080107  51.650061                   2            7    3               3   \n",
       "4  -0.080107  51.650061                   2            7    3               3   \n",
       "\n",
       "   Road_Type  Speed_limit  Junction_Detail  Junction_Control  \\\n",
       "0        6.0           30              0.0               0.0   \n",
       "1        6.0           30              0.0               0.0   \n",
       "2        6.0           30              0.0               0.0   \n",
       "3        6.0           30              0.0               0.0   \n",
       "4        6.0           30              0.0               0.0   \n",
       "\n",
       "           ...           Urban_or_Rural_Area  Month  Casualty_Class  \\\n",
       "0          ...                           1.0     08               2   \n",
       "1          ...                           1.0     08               2   \n",
       "2          ...                           1.0     08               1   \n",
       "3          ...                           1.0     08               1   \n",
       "4          ...                           1.0     08               2   \n",
       "\n",
       "   Age_Band_of_Casualty Vehicle_Type  Vehicle_Manoeuvre  1st_Point_of_Impact  \\\n",
       "0                     3          1.0               18.0                  1.0   \n",
       "1                     3          3.0               18.0                  2.0   \n",
       "2                     3          1.0               18.0                  1.0   \n",
       "3                     3          3.0               18.0                  2.0   \n",
       "4                     3          1.0               18.0                  1.0   \n",
       "\n",
       "   Sex_of_Driver  Age_Band_of_Driver  Engine_Capacity_(CC)  \n",
       "0            1.0                   3                   1.0  \n",
       "1            1.0                   3                   1.0  \n",
       "2            1.0                   3                   1.0  \n",
       "3            1.0                   3                   1.0  \n",
       "4            1.0                   3                   1.0  \n",
       "\n",
       "[5 rows x 23 columns]"
      ]
     },
     "execution_count": 125,
     "metadata": {},
     "output_type": "execute_result"
    }
   ],
   "source": [
    "X.head()"
   ]
  },
  {
   "cell_type": "markdown",
   "metadata": {},
   "source": [
    "#### Ridge Regression"
   ]
  },
  {
   "cell_type": "code",
   "execution_count": 126,
   "metadata": {},
   "outputs": [
    {
     "name": "stdout",
     "output_type": "stream",
     "text": [
      "Ridge model: -0.0 * X0 + 0.007 * X1 + 0.005 * X2 + -0.001 * X3 + 0.02 * X4 + 0.003 * X5 + 0.019 * X6 + 0.002 * X7 + -0.004 * X8 + 0.001 * X9 + 0.008 * X10 + -0.0 * X11 + -0.014 * X12 + 0.049 * X13 + 0.001 * X14 + 0.04 * X15 + 0.021 * X16 + 0.021 * X17 + 0.005 * X18 + -0.007 * X19 + -0.033 * X20 + 0.012 * X21 + 0.013 * X22\n"
     ]
    }
   ],
   "source": [
    "ridge = Ridge(alpha=1.0)\n",
    "ridge.fit(X,Y)\n",
    "Ridge(alpha=1.0, copy_X=True, fit_intercept=True, max_iter=None,\n",
    "   normalize=False, random_state=None, solver='auto', tol=0.001)\n",
    "\n",
    "# Function to print coef\n",
    "def pretty_print_coefs(coefs, names = None, sort = False):\n",
    "    if names == None:\n",
    "        names = [\"X%s\" % x for x in range(len(coefs))]\n",
    "    lst = zip(coefs, names)\n",
    "    if sort:\n",
    "        lst = sorted(lst,  key = lambda x:-np.abs(x[0]))\n",
    "    return \" + \".join(\"%s * %s\" % (round(coef, 3), name)\n",
    "                                   for coef, name in lst)\n",
    "    \n",
    "print (\"Ridge model:\", pretty_print_coefs(ridge.coef_))"
   ]
  },
  {
   "cell_type": "markdown",
   "metadata": {},
   "source": [
    "Then we drop the useless columns according to the coefficient that we found with the Ridge Regression."
   ]
  },
  {
   "cell_type": "code",
   "execution_count": 127,
   "metadata": {},
   "outputs": [],
   "source": [
    "Data2.drop(['Longitude','Latitude','Number_of_Vehicles','Time','Road_Type','Speed_limit','Junction_Detail','Junction_Control','Light_Conditions','Vehicle_Type','Vehicle_Manoeuvre','Age_Band_of_Driver'], inplace = True, axis=1)\n"
   ]
  },
  {
   "cell_type": "markdown",
   "metadata": {},
   "source": [
    "#  SPLIT TRAIN / VALIDATION / TEST"
   ]
  },
  {
   "cell_type": "code",
   "execution_count": 128,
   "metadata": {},
   "outputs": [],
   "source": [
    "train, validate, test = np.split(Data2, [int(.6*len(Data2)), int(.8*len(Data2))])"
   ]
  },
  {
   "cell_type": "code",
   "execution_count": 129,
   "metadata": {},
   "outputs": [
    {
     "data": {
      "text/plain": [
       "((173181, 12), (57727, 12), (57727, 12))"
      ]
     },
     "execution_count": 129,
     "metadata": {},
     "output_type": "execute_result"
    }
   ],
   "source": [
    "train.shape,validate.shape,test.shape"
   ]
  },
  {
   "cell_type": "code",
   "execution_count": 130,
   "metadata": {},
   "outputs": [],
   "source": [
    "X_train = train\n",
    "Y_train = train[\"Accident_Severity\"]\n",
    "X_train = X_train.drop(\"Accident_Severity\", axis=1)"
   ]
  },
  {
   "cell_type": "code",
   "execution_count": 131,
   "metadata": {},
   "outputs": [],
   "source": [
    "X_validation = validate\n",
    "Y_validation = validate[\"Accident_Severity\"]\n",
    "X_validation = validate.drop(\"Accident_Severity\", axis=1)"
   ]
  },
  {
   "cell_type": "code",
   "execution_count": 132,
   "metadata": {},
   "outputs": [],
   "source": [
    "X_test = test\n",
    "Y_test = test[\"Accident_Severity\"]\n",
    "X_test = test.drop(\"Accident_Severity\", axis=1)"
   ]
  },
  {
   "cell_type": "code",
   "execution_count": 133,
   "metadata": {},
   "outputs": [
    {
     "data": {
      "text/plain": [
       "((173181, 11), (173181,), (57727, 11), (57727,), (57727, 11), (57727,))"
      ]
     },
     "execution_count": 133,
     "metadata": {},
     "output_type": "execute_result"
    }
   ],
   "source": [
    "X_train.shape, Y_train.shape, X_validation.shape, Y_validation.shape, X_test.shape, Y_test.shape"
   ]
  },
  {
   "cell_type": "markdown",
   "metadata": {},
   "source": [
    "# MODEL on Validation Set"
   ]
  },
  {
   "cell_type": "code",
   "execution_count": 134,
   "metadata": {},
   "outputs": [
    {
     "name": "stdout",
     "output_type": "stream",
     "text": [
      "79.61\n"
     ]
    }
   ],
   "source": [
    "## Logistic Regression ##\n",
    "logreg = LogisticRegression()\n",
    "logreg.fit(X_train, Y_train)\n",
    "Y_pred = logreg.predict(X_validation)\n",
    "acc_logreg = round(accuracy_score(Y_pred, Y_validation) * 100, 2)\n",
    "print(acc_logreg)"
   ]
  },
  {
   "cell_type": "code",
   "execution_count": 135,
   "metadata": {},
   "outputs": [
    {
     "data": {
      "text/plain": [
       "74.71"
      ]
     },
     "execution_count": 135,
     "metadata": {},
     "output_type": "execute_result"
    }
   ],
   "source": [
    "## KNN ##\n",
    "knn = KNeighborsClassifier(n_neighbors = 5)\n",
    "knn.fit(X_train, Y_train)\n",
    "Y_pred = knn.predict(X_validation)\n",
    "acc_knn = round(accuracy_score(Y_pred, Y_validation) * 100, 2)\n",
    "acc_knn"
   ]
  },
  {
   "cell_type": "code",
   "execution_count": 136,
   "metadata": {},
   "outputs": [
    {
     "data": {
      "text/plain": [
       "72.88"
      ]
     },
     "execution_count": 136,
     "metadata": {},
     "output_type": "execute_result"
    }
   ],
   "source": [
    "## DECISION TREE ##\n",
    "decision_tree = DecisionTreeClassifier()\n",
    "decision_tree.fit(X_train, Y_train)\n",
    "Y_pred = decision_tree.predict(X_validation)\n",
    "acc_decision_tree = round(accuracy_score(Y_pred, Y_validation) * 100, 2)\n",
    "acc_decision_tree"
   ]
  },
  {
   "cell_type": "code",
   "execution_count": 137,
   "metadata": {},
   "outputs": [
    {
     "name": "stdout",
     "output_type": "stream",
     "text": [
      "74.47\n"
     ]
    }
   ],
   "source": [
    "## RANDOM FOREST ##\n",
    "randomforest = RandomForestClassifier()\n",
    "randomforest.fit(X_train, Y_train)\n",
    "Y_pred = randomforest.predict(X_validation)\n",
    "acc_randomforest = round(accuracy_score(Y_pred, Y_validation) * 100, 2)\n",
    "print(acc_randomforest)"
   ]
  },
  {
   "cell_type": "code",
   "execution_count": 138,
   "metadata": {},
   "outputs": [
    {
     "name": "stdout",
     "output_type": "stream",
     "text": [
      "79.61\n"
     ]
    }
   ],
   "source": [
    "## GRADIENT BOOSTING CLASSIFIER ##\n",
    "gbk = GradientBoostingClassifier()\n",
    "gbk.fit(X_train, Y_train)\n",
    "Y_pred = gbk.predict(X_validation)\n",
    "acc_gbk = round(accuracy_score(Y_pred, Y_validation) * 100, 2)\n",
    "print(acc_gbk)"
   ]
  },
  {
   "cell_type": "code",
   "execution_count": 139,
   "metadata": {},
   "outputs": [
    {
     "data": {
      "text/html": [
       "<div>\n",
       "<style scoped>\n",
       "    .dataframe tbody tr th:only-of-type {\n",
       "        vertical-align: middle;\n",
       "    }\n",
       "\n",
       "    .dataframe tbody tr th {\n",
       "        vertical-align: top;\n",
       "    }\n",
       "\n",
       "    .dataframe thead th {\n",
       "        text-align: right;\n",
       "    }\n",
       "</style>\n",
       "<table border=\"1\" class=\"dataframe\">\n",
       "  <thead>\n",
       "    <tr style=\"text-align: right;\">\n",
       "      <th></th>\n",
       "      <th>Model</th>\n",
       "      <th>Score</th>\n",
       "    </tr>\n",
       "  </thead>\n",
       "  <tbody>\n",
       "    <tr>\n",
       "      <th>1</th>\n",
       "      <td>Regression</td>\n",
       "      <td>79.61</td>\n",
       "    </tr>\n",
       "    <tr>\n",
       "      <th>4</th>\n",
       "      <td>Gradient Boosting</td>\n",
       "      <td>79.61</td>\n",
       "    </tr>\n",
       "    <tr>\n",
       "      <th>0</th>\n",
       "      <td>KNN</td>\n",
       "      <td>74.71</td>\n",
       "    </tr>\n",
       "    <tr>\n",
       "      <th>3</th>\n",
       "      <td>Random Forest</td>\n",
       "      <td>74.47</td>\n",
       "    </tr>\n",
       "    <tr>\n",
       "      <th>2</th>\n",
       "      <td>Decision Tree</td>\n",
       "      <td>72.88</td>\n",
       "    </tr>\n",
       "  </tbody>\n",
       "</table>\n",
       "</div>"
      ],
      "text/plain": [
       "               Model  Score\n",
       "1         Regression  79.61\n",
       "4  Gradient Boosting  79.61\n",
       "0                KNN  74.71\n",
       "3      Random Forest  74.47\n",
       "2      Decision Tree  72.88"
      ]
     },
     "execution_count": 139,
     "metadata": {},
     "output_type": "execute_result"
    }
   ],
   "source": [
    "# Summary of models with accuracies\n",
    "models = pd.DataFrame({\n",
    "    'Model': [ 'KNN', 'Regression', 'Decision Tree','Random Forest','Gradient Boosting'],\n",
    "    'Score': [ acc_knn, acc_logreg, acc_decision_tree, acc_randomforest, acc_gbk]})\n",
    "models.sort_values(by='Score', ascending=False)\n",
    "#'SVM',acc_svm,"
   ]
  },
  {
   "cell_type": "code",
   "execution_count": 140,
   "metadata": {},
   "outputs": [
    {
     "data": {
      "text/plain": [
       "((57727,), (57727,))"
      ]
     },
     "execution_count": 140,
     "metadata": {},
     "output_type": "execute_result"
    }
   ],
   "source": [
    "Y_test.shape,Y_validation.shape"
   ]
  },
  {
   "cell_type": "markdown",
   "metadata": {},
   "source": [
    "# MODEL on Test Set"
   ]
  },
  {
   "cell_type": "code",
   "execution_count": 141,
   "metadata": {
    "scrolled": true
   },
   "outputs": [
    {
     "data": {
      "text/plain": [
       "78.15"
      ]
     },
     "execution_count": 141,
     "metadata": {},
     "output_type": "execute_result"
    }
   ],
   "source": [
    "## Logistic Regression ##\n",
    "Y_predfinal = logreg.predict(X_test)\n",
    "acc_logreg_test = round(accuracy_score(Y_predfinal, Y_test) * 100, 2)\n",
    "acc_logreg_test"
   ]
  },
  {
   "cell_type": "code",
   "execution_count": 142,
   "metadata": {},
   "outputs": [
    {
     "data": {
      "text/plain": [
       "73.95"
      ]
     },
     "execution_count": 142,
     "metadata": {},
     "output_type": "execute_result"
    }
   ],
   "source": [
    "## KNN ##\n",
    "Y_predfinal = knn.predict(X_test)\n",
    "acc_knn_test = round(accuracy_score(Y_predfinal, Y_test) * 100, 2)\n",
    "acc_knn_test"
   ]
  },
  {
   "cell_type": "code",
   "execution_count": 143,
   "metadata": {},
   "outputs": [
    {
     "data": {
      "text/plain": [
       "71.78"
      ]
     },
     "execution_count": 143,
     "metadata": {},
     "output_type": "execute_result"
    }
   ],
   "source": [
    "## DECISION TREE ##\n",
    "Y_predfinal = decision_tree.predict(X_test)\n",
    "acc_decision_tree_test = round(accuracy_score(Y_predfinal, Y_test) * 100, 2)\n",
    "acc_decision_tree_test"
   ]
  },
  {
   "cell_type": "code",
   "execution_count": 144,
   "metadata": {},
   "outputs": [
    {
     "data": {
      "text/plain": [
       "73.34"
      ]
     },
     "execution_count": 144,
     "metadata": {},
     "output_type": "execute_result"
    }
   ],
   "source": [
    "## RANDOM FOREST ##\n",
    "Y_predfinal = randomforest.predict(X_test)\n",
    "acc_randomforest_test = round(accuracy_score(Y_predfinal, Y_test) * 100, 2)\n",
    "acc_randomforest_test"
   ]
  },
  {
   "cell_type": "code",
   "execution_count": 145,
   "metadata": {},
   "outputs": [
    {
     "data": {
      "text/plain": [
       "78.22"
      ]
     },
     "execution_count": 145,
     "metadata": {},
     "output_type": "execute_result"
    }
   ],
   "source": [
    "## GRADIENT BOOSTING CLASSIFIER ##\n",
    "Y_predfinal = gbk.predict(X_test)\n",
    "acc_gbk_test = round(accuracy_score(Y_predfinal, Y_test) * 100, 2)\n",
    "acc_gbk_test"
   ]
  },
  {
   "cell_type": "code",
   "execution_count": 146,
   "metadata": {
    "scrolled": false
   },
   "outputs": [
    {
     "data": {
      "text/html": [
       "<div>\n",
       "<style scoped>\n",
       "    .dataframe tbody tr th:only-of-type {\n",
       "        vertical-align: middle;\n",
       "    }\n",
       "\n",
       "    .dataframe tbody tr th {\n",
       "        vertical-align: top;\n",
       "    }\n",
       "\n",
       "    .dataframe thead th {\n",
       "        text-align: right;\n",
       "    }\n",
       "</style>\n",
       "<table border=\"1\" class=\"dataframe\">\n",
       "  <thead>\n",
       "    <tr style=\"text-align: right;\">\n",
       "      <th></th>\n",
       "      <th>Model</th>\n",
       "      <th>Validation</th>\n",
       "      <th>Test</th>\n",
       "    </tr>\n",
       "  </thead>\n",
       "  <tbody>\n",
       "    <tr>\n",
       "      <th>4</th>\n",
       "      <td>Gradient Boosting</td>\n",
       "      <td>79.61</td>\n",
       "      <td>78.22</td>\n",
       "    </tr>\n",
       "    <tr>\n",
       "      <th>1</th>\n",
       "      <td>Regression</td>\n",
       "      <td>79.61</td>\n",
       "      <td>78.15</td>\n",
       "    </tr>\n",
       "    <tr>\n",
       "      <th>0</th>\n",
       "      <td>KNN</td>\n",
       "      <td>74.71</td>\n",
       "      <td>73.95</td>\n",
       "    </tr>\n",
       "    <tr>\n",
       "      <th>3</th>\n",
       "      <td>Random Forest</td>\n",
       "      <td>74.47</td>\n",
       "      <td>73.34</td>\n",
       "    </tr>\n",
       "    <tr>\n",
       "      <th>2</th>\n",
       "      <td>Decision Tree</td>\n",
       "      <td>72.88</td>\n",
       "      <td>71.78</td>\n",
       "    </tr>\n",
       "  </tbody>\n",
       "</table>\n",
       "</div>"
      ],
      "text/plain": [
       "               Model  Validation   Test\n",
       "4  Gradient Boosting       79.61  78.22\n",
       "1         Regression       79.61  78.15\n",
       "0                KNN       74.71  73.95\n",
       "3      Random Forest       74.47  73.34\n",
       "2      Decision Tree       72.88  71.78"
      ]
     },
     "execution_count": 146,
     "metadata": {},
     "output_type": "execute_result"
    }
   ],
   "source": [
    "# Summary of models with accuracies\n",
    "models = pd.DataFrame({\n",
    "    'Model': [ 'KNN', 'Regression', 'Decision Tree','Random Forest','Gradient Boosting'],\n",
    "    'Validation': [ acc_knn, acc_logreg, acc_decision_tree, acc_randomforest, acc_gbk],\n",
    "    'Test': [ acc_knn_test, acc_logreg_test, acc_decision_tree_test, acc_randomforest_test, acc_gbk_test]})\n",
    "models.sort_values(by='Test', ascending=False)\n",
    "#'SVM', acc_svm,acc_svm_test,"
   ]
  },
  {
   "cell_type": "markdown",
   "metadata": {},
   "source": [
    "#### The best model is the Gradient Boosting"
   ]
  },
  {
   "cell_type": "markdown",
   "metadata": {},
   "source": [
    "We use the Gradient Boosting model to compute the area under the curve and the confusion matrix : "
   ]
  },
  {
   "cell_type": "code",
   "execution_count": 147,
   "metadata": {},
   "outputs": [
    {
     "data": {
      "text/plain": [
       "78.22"
      ]
     },
     "execution_count": 147,
     "metadata": {},
     "output_type": "execute_result"
    }
   ],
   "source": [
    "Y_predfinal = gbk.predict(X_test)\n",
    "acc_gbk_test = round(accuracy_score(Y_predfinal, Y_test) * 100, 2)\n",
    "acc_gbk_test"
   ]
  },
  {
   "cell_type": "markdown",
   "metadata": {},
   "source": [
    "Calculate the area under the curve for the Y_predfinal with the Gradient Boosting"
   ]
  },
  {
   "cell_type": "code",
   "execution_count": 148,
   "metadata": {},
   "outputs": [
    {
     "data": {
      "text/plain": [
       "0.5055191818528977"
      ]
     },
     "execution_count": 148,
     "metadata": {},
     "output_type": "execute_result"
    }
   ],
   "source": [
    "roc_auc_score(Y_test,Y_predfinal)"
   ]
  },
  {
   "cell_type": "markdown",
   "metadata": {},
   "source": [
    "Confusion Matrix "
   ]
  },
  {
   "cell_type": "code",
   "execution_count": 149,
   "metadata": {},
   "outputs": [
    {
     "data": {
      "text/plain": [
       "array([[44977,   135],\n",
       "       [12438,   177]])"
      ]
     },
     "execution_count": 149,
     "metadata": {},
     "output_type": "execute_result"
    }
   ],
   "source": [
    "confusion_matrix(Y_test,Y_predfinal)"
   ]
  },
  {
   "cell_type": "markdown",
   "metadata": {},
   "source": [
    "Roc Curve for the Y_predfinal with the Gradient Boosting"
   ]
  },
  {
   "cell_type": "code",
   "execution_count": 150,
   "metadata": {},
   "outputs": [
    {
     "name": "stderr",
     "output_type": "stream",
     "text": [
      "No handles with labels found to put in legend.\n"
     ]
    },
    {
     "data": {
      "image/png": "[encoded data removed]",
      "text/plain": [
       "<Figure size 432x288 with 1 Axes>"
      ]
     },
     "metadata": {},
     "output_type": "display_data"
    },
    {
     "data": {
      "text/plain": [
       "0.5055191818528977"
      ]
     },
     "execution_count": 150,
     "metadata": {},
     "output_type": "execute_result"
    }
   ],
   "source": [
    "roc_auc_score(Y_test,Y_predfinal)\n",
    "\n",
    "fpr, tpr, _ = roc_curve(Y_test[:], Y_predfinal[:])\n",
    "roc_auc = auc(fpr, tpr)\n",
    "\n",
    "plt.figure()\n",
    "lw = 2\n",
    "plt.plot(fpr, tpr)\n",
    "plt.plot([0, 1], [0, 1], color='navy', lw=lw, linestyle='--')\n",
    "plt.xlim([0.0, 1.0])\n",
    "plt.ylim([0.0, 1.05])\n",
    "plt.xlabel('False Positive Rate')\n",
    "plt.ylabel('True Positive Rate')\n",
    "plt.title('Receiver operating characteristic example')\n",
    "plt.legend(loc=\"lower right\")\n",
    "plt.show()\n",
    "roc_auc_score(Y_test,Y_predfinal)"
   ]
  }
 ],
 "metadata": {
  "kernelspec": {
   "display_name": "Python 3",
   "language": "python",
   "name": "python3"
  },
  "language_info": {
   "codemirror_mode": {
    "name": "ipython",
    "version": 3
   },
   "file_extension": ".py",
   "mimetype": "text/x-python",
   "name": "python",
   "nbconvert_exporter": "python",
   "pygments_lexer": "ipython3",
   "version": "3.6.5"
  }
 },
 "nbformat": 4,
 "nbformat_minor": 2
}
